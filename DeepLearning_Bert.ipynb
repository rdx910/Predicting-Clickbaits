{
 "cells": [
  {
   "cell_type": "code",
   "execution_count": 1,
   "metadata": {
    "id": "WANPN09bHyh7"
   },
   "outputs": [],
   "source": [
    "import pandas as pd\n",
    "import numpy as np\n",
    "import nltk\n",
    "import re\n",
    "from sklearn.feature_extraction.text import TfidfVectorizer"
   ]
  },
  {
   "cell_type": "code",
   "execution_count": 2,
   "metadata": {
    "colab": {
     "base_uri": "https://localhost:8080/"
    },
    "id": "q9NfYBvJH69L",
    "outputId": "035059ab-85ab-4033-9cfb-3a3dd179753c"
   },
   "outputs": [
    {
     "data": {
      "text/plain": [
       "(69477, 4)"
      ]
     },
     "execution_count": 2,
     "metadata": {},
     "output_type": "execute_result"
    }
   ],
   "source": [
    "df = pd.read_csv(\"model.csv\")\n",
    "df.shape"
   ]
  },
  {
   "cell_type": "code",
   "execution_count": 3,
   "metadata": {
    "colab": {
     "base_uri": "https://localhost:8080/",
     "height": 204
    },
    "id": "HIDOwxo9Irf8",
    "outputId": "6ec20e50-f565-4934-f49f-09cf1d75b507"
   },
   "outputs": [
    {
     "data": {
      "text/html": [
       "<div>\n",
       "<style scoped>\n",
       "    .dataframe tbody tr th:only-of-type {\n",
       "        vertical-align: middle;\n",
       "    }\n",
       "\n",
       "    .dataframe tbody tr th {\n",
       "        vertical-align: top;\n",
       "    }\n",
       "\n",
       "    .dataframe thead th {\n",
       "        text-align: right;\n",
       "    }\n",
       "</style>\n",
       "<table border=\"1\" class=\"dataframe\">\n",
       "  <thead>\n",
       "    <tr style=\"text-align: right;\">\n",
       "      <th></th>\n",
       "      <th>Date</th>\n",
       "      <th>Label</th>\n",
       "      <th>Tweet</th>\n",
       "      <th>Twitter Link</th>\n",
       "    </tr>\n",
       "  </thead>\n",
       "  <tbody>\n",
       "    <tr>\n",
       "      <th>0</th>\n",
       "      <td>5/3/20</td>\n",
       "      <td>clickbait</td>\n",
       "      <td>Trump removes US from global initiative to dev...</td>\n",
       "      <td>link</td>\n",
       "    </tr>\n",
       "    <tr>\n",
       "      <th>1</th>\n",
       "      <td>5/3/20</td>\n",
       "      <td>clickbait</td>\n",
       "      <td>Because when lives are at stake, why cooperate...</td>\n",
       "      <td>link</td>\n",
       "    </tr>\n",
       "    <tr>\n",
       "      <th>2</th>\n",
       "      <td>5/3/20</td>\n",
       "      <td>clickbait</td>\n",
       "      <td>‘Once Upon a Virus’: China mocks U.S. coronavi...</td>\n",
       "      <td>link</td>\n",
       "    </tr>\n",
       "    <tr>\n",
       "      <th>3</th>\n",
       "      <td>5/3/20</td>\n",
       "      <td>clickbait</td>\n",
       "      <td>Trump Now Claims He Hopes U.S. Loses Less Than...</td>\n",
       "      <td>link</td>\n",
       "    </tr>\n",
       "    <tr>\n",
       "      <th>4</th>\n",
       "      <td>5/3/20</td>\n",
       "      <td>clickbait</td>\n",
       "      <td>Trump Spends His Morning Retweeting A Sex Ther...</td>\n",
       "      <td>link</td>\n",
       "    </tr>\n",
       "  </tbody>\n",
       "</table>\n",
       "</div>"
      ],
      "text/plain": [
       "     Date      Label                                              Tweet  \\\n",
       "0  5/3/20  clickbait  Trump removes US from global initiative to dev...   \n",
       "1  5/3/20  clickbait  Because when lives are at stake, why cooperate...   \n",
       "2  5/3/20  clickbait  ‘Once Upon a Virus’: China mocks U.S. coronavi...   \n",
       "3  5/3/20  clickbait  Trump Now Claims He Hopes U.S. Loses Less Than...   \n",
       "4  5/3/20  clickbait  Trump Spends His Morning Retweeting A Sex Ther...   \n",
       "\n",
       "  Twitter Link  \n",
       "0         link  \n",
       "1         link  \n",
       "2         link  \n",
       "3         link  \n",
       "4         link  "
      ]
     },
     "execution_count": 3,
     "metadata": {},
     "output_type": "execute_result"
    }
   ],
   "source": [
    "df.head(5)"
   ]
  },
  {
   "cell_type": "code",
   "execution_count": 4,
   "metadata": {
    "colab": {
     "base_uri": "https://localhost:8080/"
    },
    "id": "9Lcbpf2MIDbP",
    "outputId": "463609c3-ee32-46db-9132-5f04808c6eec"
   },
   "outputs": [
    {
     "data": {
      "text/plain": [
       "(63693, 4)"
      ]
     },
     "execution_count": 4,
     "metadata": {},
     "output_type": "execute_result"
    }
   ],
   "source": [
    "df = df.drop_duplicates(subset=['Tweet'])\n",
    "df.shape"
   ]
  },
  {
   "cell_type": "code",
   "execution_count": null,
   "metadata": {
    "id": "NT7_-SlQrwg6"
   },
   "outputs": [],
   "source": []
  },
  {
   "cell_type": "code",
   "execution_count": 5,
   "metadata": {
    "id": "F1ZyR72Yrwg6"
   },
   "outputs": [],
   "source": [
    "df['text_new'] = df['Tweet'].str.split('https').str[0]\n",
    "df['url'] = 'https'+df['Tweet'].str.split('https').str[1]"
   ]
  },
  {
   "cell_type": "code",
   "execution_count": 6,
   "metadata": {
    "id": "eWbJhpYZrwg6"
   },
   "outputs": [],
   "source": [
    "df = df.loc[~df['text_new'].isna()]"
   ]
  },
  {
   "cell_type": "code",
   "execution_count": 7,
   "metadata": {
    "id": "GKNXTwEIrwg6",
    "outputId": "6f135ae9-c4ac-43a5-d93b-91bc320661b1"
   },
   "outputs": [
    {
     "data": {
      "text/plain": [
       "0"
      ]
     },
     "execution_count": 7,
     "metadata": {},
     "output_type": "execute_result"
    }
   ],
   "source": [
    "df['text_new'].isnull().sum()"
   ]
  },
  {
   "cell_type": "code",
   "execution_count": 8,
   "metadata": {
    "id": "ZQwo80S2rwg7",
    "outputId": "ae4a4df2-b7a2-4eaf-ae4d-6517b26a6754"
   },
   "outputs": [
    {
     "data": {
      "text/plain": [
       "(63692,)"
      ]
     },
     "execution_count": 8,
     "metadata": {},
     "output_type": "execute_result"
    }
   ],
   "source": [
    "text=df['text_new'].values\n",
    "text.shape"
   ]
  },
  {
   "cell_type": "code",
   "execution_count": null,
   "metadata": {
    "id": "QE4cdZYArwg7",
    "outputId": "58553233-7593-4e26-9db4-c3e1ad856b02"
   },
   "outputs": [
    {
     "data": {
      "text/html": [
       "<div>\n",
       "<style scoped>\n",
       "    .dataframe tbody tr th:only-of-type {\n",
       "        vertical-align: middle;\n",
       "    }\n",
       "\n",
       "    .dataframe tbody tr th {\n",
       "        vertical-align: top;\n",
       "    }\n",
       "\n",
       "    .dataframe thead th {\n",
       "        text-align: right;\n",
       "    }\n",
       "</style>\n",
       "<table border=\"1\" class=\"dataframe\">\n",
       "  <thead>\n",
       "    <tr style=\"text-align: right;\">\n",
       "      <th></th>\n",
       "      <th>Date</th>\n",
       "      <th>Label</th>\n",
       "      <th>Tweet</th>\n",
       "      <th>Twitter Link</th>\n",
       "      <th>text_new</th>\n",
       "      <th>url</th>\n",
       "    </tr>\n",
       "  </thead>\n",
       "  <tbody>\n",
       "    <tr>\n",
       "      <th>0</th>\n",
       "      <td>5/3/20</td>\n",
       "      <td>clickbait</td>\n",
       "      <td>Trump removes US from global initiative to dev...</td>\n",
       "      <td>link</td>\n",
       "      <td>Trump removes US from global initiative to dev...</td>\n",
       "      <td>https://t.co/nwkkokPZ2P</td>\n",
       "    </tr>\n",
       "    <tr>\n",
       "      <th>1</th>\n",
       "      <td>5/3/20</td>\n",
       "      <td>clickbait</td>\n",
       "      <td>Because when lives are at stake, why cooperate...</td>\n",
       "      <td>link</td>\n",
       "      <td>Because when lives are at stake, why cooperate...</td>\n",
       "      <td>https://t.co/9W285E01e2</td>\n",
       "    </tr>\n",
       "    <tr>\n",
       "      <th>2</th>\n",
       "      <td>5/3/20</td>\n",
       "      <td>clickbait</td>\n",
       "      <td>‘Once Upon a Virus’: China mocks U.S. coronavi...</td>\n",
       "      <td>link</td>\n",
       "      <td>‘Once Upon a Virus’: China mocks U.S. coronavi...</td>\n",
       "      <td>https://t.co/Wshscjl9qW</td>\n",
       "    </tr>\n",
       "    <tr>\n",
       "      <th>3</th>\n",
       "      <td>5/3/20</td>\n",
       "      <td>clickbait</td>\n",
       "      <td>Trump Now Claims He Hopes U.S. Loses Less Than...</td>\n",
       "      <td>link</td>\n",
       "      <td>Trump Now Claims He Hopes U.S. Loses Less Than...</td>\n",
       "      <td>https://t.co/c5NrFtqY1T</td>\n",
       "    </tr>\n",
       "    <tr>\n",
       "      <th>4</th>\n",
       "      <td>5/3/20</td>\n",
       "      <td>clickbait</td>\n",
       "      <td>Trump Spends His Morning Retweeting A Sex Ther...</td>\n",
       "      <td>link</td>\n",
       "      <td>Trump Spends His Morning Retweeting A Sex Ther...</td>\n",
       "      <td>https://t.co/vKU0H9YcD4 via @politicususa</td>\n",
       "    </tr>\n",
       "  </tbody>\n",
       "</table>\n",
       "</div>"
      ],
      "text/plain": [
       "     Date      Label                                              Tweet  \\\n",
       "0  5/3/20  clickbait  Trump removes US from global initiative to dev...   \n",
       "1  5/3/20  clickbait  Because when lives are at stake, why cooperate...   \n",
       "2  5/3/20  clickbait  ‘Once Upon a Virus’: China mocks U.S. coronavi...   \n",
       "3  5/3/20  clickbait  Trump Now Claims He Hopes U.S. Loses Less Than...   \n",
       "4  5/3/20  clickbait  Trump Spends His Morning Retweeting A Sex Ther...   \n",
       "\n",
       "  Twitter Link                                           text_new  \\\n",
       "0         link  Trump removes US from global initiative to dev...   \n",
       "1         link  Because when lives are at stake, why cooperate...   \n",
       "2         link  ‘Once Upon a Virus’: China mocks U.S. coronavi...   \n",
       "3         link  Trump Now Claims He Hopes U.S. Loses Less Than...   \n",
       "4         link  Trump Spends His Morning Retweeting A Sex Ther...   \n",
       "\n",
       "                                          url  \n",
       "0                    https://t.co/nwkkokPZ2P   \n",
       "1                    https://t.co/9W285E01e2   \n",
       "2                    https://t.co/Wshscjl9qW   \n",
       "3                    https://t.co/c5NrFtqY1T   \n",
       "4  https://t.co/vKU0H9YcD4 via @politicususa   "
      ]
     },
     "execution_count": 279,
     "metadata": {
      "tags": []
     },
     "output_type": "execute_result"
    }
   ],
   "source": [
    "df.head()"
   ]
  },
  {
   "cell_type": "markdown",
   "metadata": {
    "id": "vzxYYskprwg7"
   },
   "source": [
    "## RAJCODE"
   ]
  },
  {
   "cell_type": "code",
   "execution_count": null,
   "metadata": {
    "id": "s-fyX--krwg7",
    "outputId": "1aa15b7b-3083-455c-d0bd-f708f69c2a3d"
   },
   "outputs": [
    {
     "name": "stdout",
     "output_type": "stream",
     "text": [
      "showing info https://raw.githubusercontent.com/nltk/nltk_data/gh-pages/index.xml\n"
     ]
    },
    {
     "data": {
      "text/plain": [
       "True"
      ]
     },
     "execution_count": 280,
     "metadata": {
      "tags": []
     },
     "output_type": "execute_result"
    }
   ],
   "source": [
    "#from nltk.corpus import stopwords \n",
    "#from nltk.tokenize import word_tokenize \n",
    "nltk.download()"
   ]
  },
  {
   "cell_type": "code",
   "execution_count": 9,
   "metadata": {
    "id": "5j4KeZxYrwg7"
   },
   "outputs": [],
   "source": [
    "from nltk.corpus import stopwords \n",
    "from nltk.tokenize import word_tokenize \n",
    "\n",
    "def remove_stop_words(x):\n",
    "    stop_words = set(stopwords.words('english')) \n",
    "    word_tokens = word_tokenize(x) \n",
    "    filtered_sentence = [w for w in word_tokens if not w in stop_words]   \n",
    "    filtered_sentence = [] \n",
    "    for w in word_tokens: \n",
    "        if w not in stop_words: \n",
    "            filtered_sentence.append(w) \n",
    "    return \" \".join(filtered_sentence)"
   ]
  },
  {
   "cell_type": "code",
   "execution_count": 10,
   "metadata": {
    "id": "C5--HP3-rwg7"
   },
   "outputs": [],
   "source": [
    "df['text_clean_1'] = df['text_new'].str.lower().apply(lambda x: remove_stop_words(x) if pd.notnull(x) else np.nan)"
   ]
  },
  {
   "cell_type": "code",
   "execution_count": 11,
   "metadata": {
    "id": "XKPMEW32rwg7"
   },
   "outputs": [],
   "source": [
    "df['text_clean_2'] = df['text_clean_1'].str.replace('(:|,|\\'|\\\"|‘)',\"\",regex = True)"
   ]
  },
  {
   "cell_type": "code",
   "execution_count": null,
   "metadata": {
    "id": "citUBUHhrwg7",
    "outputId": "10aa68dc-188b-422f-c777-658c108322cc"
   },
   "outputs": [
    {
     "data": {
      "text/html": [
       "<div>\n",
       "<style scoped>\n",
       "    .dataframe tbody tr th:only-of-type {\n",
       "        vertical-align: middle;\n",
       "    }\n",
       "\n",
       "    .dataframe tbody tr th {\n",
       "        vertical-align: top;\n",
       "    }\n",
       "\n",
       "    .dataframe thead th {\n",
       "        text-align: right;\n",
       "    }\n",
       "</style>\n",
       "<table border=\"1\" class=\"dataframe\">\n",
       "  <thead>\n",
       "    <tr style=\"text-align: right;\">\n",
       "      <th></th>\n",
       "      <th>Date</th>\n",
       "      <th>Label</th>\n",
       "      <th>Tweet</th>\n",
       "      <th>Twitter Link</th>\n",
       "      <th>text_new</th>\n",
       "      <th>url</th>\n",
       "      <th>text_clean_1</th>\n",
       "      <th>text_clean_2</th>\n",
       "    </tr>\n",
       "  </thead>\n",
       "  <tbody>\n",
       "    <tr>\n",
       "      <th>0</th>\n",
       "      <td>5/3/20</td>\n",
       "      <td>clickbait</td>\n",
       "      <td>Trump removes US from global initiative to dev...</td>\n",
       "      <td>link</td>\n",
       "      <td>Trump removes US from global initiative to dev...</td>\n",
       "      <td>https://t.co/nwkkokPZ2P</td>\n",
       "      <td>trump removes us global initiative develop cor...</td>\n",
       "      <td>trump removes us global initiative develop cor...</td>\n",
       "    </tr>\n",
       "    <tr>\n",
       "      <th>1</th>\n",
       "      <td>5/3/20</td>\n",
       "      <td>clickbait</td>\n",
       "      <td>Because when lives are at stake, why cooperate...</td>\n",
       "      <td>link</td>\n",
       "      <td>Because when lives are at stake, why cooperate...</td>\n",
       "      <td>https://t.co/9W285E01e2</td>\n",
       "      <td>lives stake , cooperate others ?</td>\n",
       "      <td>lives stake  cooperate others ?</td>\n",
       "    </tr>\n",
       "    <tr>\n",
       "      <th>2</th>\n",
       "      <td>5/3/20</td>\n",
       "      <td>clickbait</td>\n",
       "      <td>‘Once Upon a Virus’: China mocks U.S. coronavi...</td>\n",
       "      <td>link</td>\n",
       "      <td>‘Once Upon a Virus’: China mocks U.S. coronavi...</td>\n",
       "      <td>https://t.co/Wshscjl9qW</td>\n",
       "      <td>‘ upon virus ’ : china mocks u.s. coronavirus ...</td>\n",
       "      <td>upon virus ’  china mocks u.s. coronavirus re...</td>\n",
       "    </tr>\n",
       "    <tr>\n",
       "      <th>3</th>\n",
       "      <td>5/3/20</td>\n",
       "      <td>clickbait</td>\n",
       "      <td>Trump Now Claims He Hopes U.S. Loses Less Than...</td>\n",
       "      <td>link</td>\n",
       "      <td>Trump Now Claims He Hopes U.S. Loses Less Than...</td>\n",
       "      <td>https://t.co/c5NrFtqY1T</td>\n",
       "      <td>trump claims hopes u.s. loses less 100,000 cor...</td>\n",
       "      <td>trump claims hopes u.s. loses less 100000 coro...</td>\n",
       "    </tr>\n",
       "    <tr>\n",
       "      <th>4</th>\n",
       "      <td>5/3/20</td>\n",
       "      <td>clickbait</td>\n",
       "      <td>Trump Spends His Morning Retweeting A Sex Ther...</td>\n",
       "      <td>link</td>\n",
       "      <td>Trump Spends His Morning Retweeting A Sex Ther...</td>\n",
       "      <td>https://t.co/vKU0H9YcD4 via @politicususa</td>\n",
       "      <td>trump spends morning retweeting sex therapist ...</td>\n",
       "      <td>trump spends morning retweeting sex therapist ...</td>\n",
       "    </tr>\n",
       "  </tbody>\n",
       "</table>\n",
       "</div>"
      ],
      "text/plain": [
       "     Date      Label                                              Tweet  \\\n",
       "0  5/3/20  clickbait  Trump removes US from global initiative to dev...   \n",
       "1  5/3/20  clickbait  Because when lives are at stake, why cooperate...   \n",
       "2  5/3/20  clickbait  ‘Once Upon a Virus’: China mocks U.S. coronavi...   \n",
       "3  5/3/20  clickbait  Trump Now Claims He Hopes U.S. Loses Less Than...   \n",
       "4  5/3/20  clickbait  Trump Spends His Morning Retweeting A Sex Ther...   \n",
       "\n",
       "  Twitter Link                                           text_new  \\\n",
       "0         link  Trump removes US from global initiative to dev...   \n",
       "1         link  Because when lives are at stake, why cooperate...   \n",
       "2         link  ‘Once Upon a Virus’: China mocks U.S. coronavi...   \n",
       "3         link  Trump Now Claims He Hopes U.S. Loses Less Than...   \n",
       "4         link  Trump Spends His Morning Retweeting A Sex Ther...   \n",
       "\n",
       "                                          url  \\\n",
       "0                    https://t.co/nwkkokPZ2P    \n",
       "1                    https://t.co/9W285E01e2    \n",
       "2                    https://t.co/Wshscjl9qW    \n",
       "3                    https://t.co/c5NrFtqY1T    \n",
       "4  https://t.co/vKU0H9YcD4 via @politicususa    \n",
       "\n",
       "                                        text_clean_1  \\\n",
       "0  trump removes us global initiative develop cor...   \n",
       "1                   lives stake , cooperate others ?   \n",
       "2  ‘ upon virus ’ : china mocks u.s. coronavirus ...   \n",
       "3  trump claims hopes u.s. loses less 100,000 cor...   \n",
       "4  trump spends morning retweeting sex therapist ...   \n",
       "\n",
       "                                        text_clean_2  \n",
       "0  trump removes us global initiative develop cor...  \n",
       "1                    lives stake  cooperate others ?  \n",
       "2   upon virus ’  china mocks u.s. coronavirus re...  \n",
       "3  trump claims hopes u.s. loses less 100000 coro...  \n",
       "4  trump spends morning retweeting sex therapist ...  "
      ]
     },
     "execution_count": 284,
     "metadata": {
      "tags": []
     },
     "output_type": "execute_result"
    }
   ],
   "source": [
    "df.head()"
   ]
  },
  {
   "cell_type": "markdown",
   "metadata": {
    "id": "eyOQjdYKrwg7"
   },
   "source": [
    "text_clean=[]\n",
    "for i,j in df_clickbait.iterrows():\n",
    "    print(df_clickbait.iloc[i][\"text_new\"])"
   ]
  },
  {
   "cell_type": "code",
   "execution_count": 12,
   "metadata": {
    "id": "Rth1bVZDrwg7"
   },
   "outputs": [],
   "source": [
    "df['text_length'] = df['text_clean_2'].apply(lambda x: len(x))"
   ]
  },
  {
   "cell_type": "code",
   "execution_count": null,
   "metadata": {
    "id": "gs3Ow1sprwg7",
    "outputId": "0725671d-b706-49ad-88e6-cf4c13fb075d"
   },
   "outputs": [
    {
     "data": {
      "text/plain": [
       "0        trump removes us global initiative develop cor...\n",
       "1                          lives stake  cooperate others ?\n",
       "2         upon virus ’  china mocks u.s. coronavirus re...\n",
       "3        trump claims hopes u.s. loses less 100000 coro...\n",
       "4        trump spends morning retweeting sex therapist ...\n",
       "                               ...                        \n",
       "69472    wow ! dr. fauci cheered hydroxychloroquine suc...\n",
       "69473                                         leadership .\n",
       "69474    ’ plain obvious left love ! ! hypocrite hates ...\n",
       "69475    @ nateboesken @ therightmelissa @ realdonaldtr...\n",
       "69476    india bans exports “ game-changer ” hydroxycho...\n",
       "Name: text_clean_2, Length: 63692, dtype: object"
      ]
     },
     "execution_count": 286,
     "metadata": {
      "tags": []
     },
     "output_type": "execute_result"
    }
   ],
   "source": [
    "df['text_clean_2']"
   ]
  },
  {
   "cell_type": "code",
   "execution_count": null,
   "metadata": {
    "id": "QNDAcwN6rwg7"
   },
   "outputs": [],
   "source": []
  },
  {
   "cell_type": "code",
   "execution_count": 14,
   "metadata": {
    "id": "9zhVdXmerwg7"
   },
   "outputs": [],
   "source": [
    "y=df['Label'].values\n",
    "X=df[['text_clean_2']].values"
   ]
  },
  {
   "cell_type": "code",
   "execution_count": null,
   "metadata": {
    "id": "65T_N8WVrwg8"
   },
   "outputs": [],
   "source": []
  },
  {
   "cell_type": "code",
   "execution_count": 15,
   "metadata": {
    "id": "_jHH7de4rwg8",
    "outputId": "83506348-eb1f-4279-ef41-498fb2da61e1"
   },
   "outputs": [
    {
     "name": "stdout",
     "output_type": "stream",
     "text": [
      "(50953, 1) (50953,) (12739, 1) (12739,)\n"
     ]
    }
   ],
   "source": [
    "from sklearn.model_selection import train_test_split\n",
    "X_train, X_test, y_train, y_test = train_test_split(X, y, test_size=0.2, random_state=0)\n",
    "\n",
    "print(X_train.shape, y_train.shape, X_test.shape, y_test.shape)"
   ]
  },
  {
   "cell_type": "code",
   "execution_count": null,
   "metadata": {
    "id": "gZBUCjXZrwg8"
   },
   "outputs": [],
   "source": []
  },
  {
   "cell_type": "code",
   "execution_count": null,
   "metadata": {
    "id": "ejZ_4kQBrwg8"
   },
   "outputs": [],
   "source": [
    "from sklearn.feature_extraction.text import TfidfVectorizer\n",
    "# Unigram + bigram term frequency vectorizer, set minimum document frequency to 5\n",
    "gram12_tfidf_vectorizer = TfidfVectorizer(encoding='latin-1', ngram_range=(1,2),lowercase=False,token_pattern='[a-zA-Z0-9]{3,}',stop_words = 'english',min_df=5,max_df=0.8,use_idf=True)"
   ]
  },
  {
   "cell_type": "code",
   "execution_count": null,
   "metadata": {
    "id": "wxxx18o0rwg8",
    "outputId": "925107c5-3501-45d1-949c-421d79756612"
   },
   "outputs": [
    {
     "ename": "TypeError",
     "evalue": "cannot use a string pattern on a bytes-like object",
     "output_type": "error",
     "traceback": [
      "\u001b[1;31m---------------------------------------------------------------------------\u001b[0m",
      "\u001b[1;31mTypeError\u001b[0m                                 Traceback (most recent call last)",
      "\u001b[1;32m<ipython-input-84-0c936022f523>\u001b[0m in \u001b[0;36m<module>\u001b[1;34m\u001b[0m\n\u001b[1;32m----> 1\u001b[1;33m \u001b[0mX_train_idf_bi\u001b[0m \u001b[1;33m=\u001b[0m \u001b[0mgram12_tfidf_vectorizer\u001b[0m\u001b[1;33m.\u001b[0m\u001b[0mfit_transform\u001b[0m\u001b[1;33m(\u001b[0m\u001b[0mX_train\u001b[0m\u001b[1;33m)\u001b[0m\u001b[1;33m\u001b[0m\u001b[1;33m\u001b[0m\u001b[0m\n\u001b[0m\u001b[0;32m      2\u001b[0m \u001b[0mX_test_idf_bi\u001b[0m \u001b[1;33m=\u001b[0m \u001b[0mgram12_tfidf_vectorizer\u001b[0m\u001b[1;33m.\u001b[0m\u001b[0mtransform\u001b[0m\u001b[1;33m(\u001b[0m\u001b[0mX_test\u001b[0m\u001b[1;33m)\u001b[0m\u001b[1;33m\u001b[0m\u001b[1;33m\u001b[0m\u001b[0m\n",
      "\u001b[1;32m~\\Anaconda3\\lib\\site-packages\\sklearn\\feature_extraction\\text.py\u001b[0m in \u001b[0;36mfit_transform\u001b[1;34m(self, raw_documents, y)\u001b[0m\n\u001b[0;32m   1857\u001b[0m         \"\"\"\n\u001b[0;32m   1858\u001b[0m         \u001b[0mself\u001b[0m\u001b[1;33m.\u001b[0m\u001b[0m_check_params\u001b[0m\u001b[1;33m(\u001b[0m\u001b[1;33m)\u001b[0m\u001b[1;33m\u001b[0m\u001b[1;33m\u001b[0m\u001b[0m\n\u001b[1;32m-> 1859\u001b[1;33m         \u001b[0mX\u001b[0m \u001b[1;33m=\u001b[0m \u001b[0msuper\u001b[0m\u001b[1;33m(\u001b[0m\u001b[1;33m)\u001b[0m\u001b[1;33m.\u001b[0m\u001b[0mfit_transform\u001b[0m\u001b[1;33m(\u001b[0m\u001b[0mraw_documents\u001b[0m\u001b[1;33m)\u001b[0m\u001b[1;33m\u001b[0m\u001b[1;33m\u001b[0m\u001b[0m\n\u001b[0m\u001b[0;32m   1860\u001b[0m         \u001b[0mself\u001b[0m\u001b[1;33m.\u001b[0m\u001b[0m_tfidf\u001b[0m\u001b[1;33m.\u001b[0m\u001b[0mfit\u001b[0m\u001b[1;33m(\u001b[0m\u001b[0mX\u001b[0m\u001b[1;33m)\u001b[0m\u001b[1;33m\u001b[0m\u001b[1;33m\u001b[0m\u001b[0m\n\u001b[0;32m   1861\u001b[0m         \u001b[1;31m# X is already a transformed view of raw_documents so\u001b[0m\u001b[1;33m\u001b[0m\u001b[1;33m\u001b[0m\u001b[1;33m\u001b[0m\u001b[0m\n",
      "\u001b[1;32m~\\Anaconda3\\lib\\site-packages\\sklearn\\feature_extraction\\text.py\u001b[0m in \u001b[0;36mfit_transform\u001b[1;34m(self, raw_documents, y)\u001b[0m\n\u001b[0;32m   1218\u001b[0m \u001b[1;33m\u001b[0m\u001b[0m\n\u001b[0;32m   1219\u001b[0m         vocabulary, X = self._count_vocab(raw_documents,\n\u001b[1;32m-> 1220\u001b[1;33m                                           self.fixed_vocabulary_)\n\u001b[0m\u001b[0;32m   1221\u001b[0m \u001b[1;33m\u001b[0m\u001b[0m\n\u001b[0;32m   1222\u001b[0m         \u001b[1;32mif\u001b[0m \u001b[0mself\u001b[0m\u001b[1;33m.\u001b[0m\u001b[0mbinary\u001b[0m\u001b[1;33m:\u001b[0m\u001b[1;33m\u001b[0m\u001b[1;33m\u001b[0m\u001b[0m\n",
      "\u001b[1;32m~\\Anaconda3\\lib\\site-packages\\sklearn\\feature_extraction\\text.py\u001b[0m in \u001b[0;36m_count_vocab\u001b[1;34m(self, raw_documents, fixed_vocab)\u001b[0m\n\u001b[0;32m   1129\u001b[0m         \u001b[1;32mfor\u001b[0m \u001b[0mdoc\u001b[0m \u001b[1;32min\u001b[0m \u001b[0mraw_documents\u001b[0m\u001b[1;33m:\u001b[0m\u001b[1;33m\u001b[0m\u001b[1;33m\u001b[0m\u001b[0m\n\u001b[0;32m   1130\u001b[0m             \u001b[0mfeature_counter\u001b[0m \u001b[1;33m=\u001b[0m \u001b[1;33m{\u001b[0m\u001b[1;33m}\u001b[0m\u001b[1;33m\u001b[0m\u001b[1;33m\u001b[0m\u001b[0m\n\u001b[1;32m-> 1131\u001b[1;33m             \u001b[1;32mfor\u001b[0m \u001b[0mfeature\u001b[0m \u001b[1;32min\u001b[0m \u001b[0manalyze\u001b[0m\u001b[1;33m(\u001b[0m\u001b[0mdoc\u001b[0m\u001b[1;33m)\u001b[0m\u001b[1;33m:\u001b[0m\u001b[1;33m\u001b[0m\u001b[1;33m\u001b[0m\u001b[0m\n\u001b[0m\u001b[0;32m   1132\u001b[0m                 \u001b[1;32mtry\u001b[0m\u001b[1;33m:\u001b[0m\u001b[1;33m\u001b[0m\u001b[1;33m\u001b[0m\u001b[0m\n\u001b[0;32m   1133\u001b[0m                     \u001b[0mfeature_idx\u001b[0m \u001b[1;33m=\u001b[0m \u001b[0mvocabulary\u001b[0m\u001b[1;33m[\u001b[0m\u001b[0mfeature\u001b[0m\u001b[1;33m]\u001b[0m\u001b[1;33m\u001b[0m\u001b[1;33m\u001b[0m\u001b[0m\n",
      "\u001b[1;32m~\\Anaconda3\\lib\\site-packages\\sklearn\\feature_extraction\\text.py\u001b[0m in \u001b[0;36m_analyze\u001b[1;34m(doc, analyzer, tokenizer, ngrams, preprocessor, decoder, stop_words)\u001b[0m\n\u001b[0;32m    103\u001b[0m             \u001b[0mdoc\u001b[0m \u001b[1;33m=\u001b[0m \u001b[0mpreprocessor\u001b[0m\u001b[1;33m(\u001b[0m\u001b[0mdoc\u001b[0m\u001b[1;33m)\u001b[0m\u001b[1;33m\u001b[0m\u001b[1;33m\u001b[0m\u001b[0m\n\u001b[0;32m    104\u001b[0m         \u001b[1;32mif\u001b[0m \u001b[0mtokenizer\u001b[0m \u001b[1;32mis\u001b[0m \u001b[1;32mnot\u001b[0m \u001b[1;32mNone\u001b[0m\u001b[1;33m:\u001b[0m\u001b[1;33m\u001b[0m\u001b[1;33m\u001b[0m\u001b[0m\n\u001b[1;32m--> 105\u001b[1;33m             \u001b[0mdoc\u001b[0m \u001b[1;33m=\u001b[0m \u001b[0mtokenizer\u001b[0m\u001b[1;33m(\u001b[0m\u001b[0mdoc\u001b[0m\u001b[1;33m)\u001b[0m\u001b[1;33m\u001b[0m\u001b[1;33m\u001b[0m\u001b[0m\n\u001b[0m\u001b[0;32m    106\u001b[0m         \u001b[1;32mif\u001b[0m \u001b[0mngrams\u001b[0m \u001b[1;32mis\u001b[0m \u001b[1;32mnot\u001b[0m \u001b[1;32mNone\u001b[0m\u001b[1;33m:\u001b[0m\u001b[1;33m\u001b[0m\u001b[1;33m\u001b[0m\u001b[0m\n\u001b[0;32m    107\u001b[0m             \u001b[1;32mif\u001b[0m \u001b[0mstop_words\u001b[0m \u001b[1;32mis\u001b[0m \u001b[1;32mnot\u001b[0m \u001b[1;32mNone\u001b[0m\u001b[1;33m:\u001b[0m\u001b[1;33m\u001b[0m\u001b[1;33m\u001b[0m\u001b[0m\n",
      "\u001b[1;31mTypeError\u001b[0m: cannot use a string pattern on a bytes-like object"
     ]
    }
   ],
   "source": [
    "X_train_idf_bi = gram12_tfidf_vectorizer.fit_transform(X_train)\n",
    "X_test_idf_bi = gram12_tfidf_vectorizer.transform(X_test)"
   ]
  },
  {
   "cell_type": "code",
   "execution_count": null,
   "metadata": {
    "id": "HHg74fAzrwg8"
   },
   "outputs": [],
   "source": [
    "# import the MNB module\n",
    "from sklearn.naive_bayes import BernoulliNB\n",
    "\n",
    "# initialize the bernoulli model\n",
    "bb_clf= BernoulliNB()"
   ]
  },
  {
   "cell_type": "code",
   "execution_count": null,
   "metadata": {
    "id": "ZVNMOOZgrwg8",
    "outputId": "333a62a4-0792-4286-ed96-6f3cd619376f"
   },
   "outputs": [
    {
     "data": {
      "text/plain": [
       "0.8702409922285894"
      ]
     },
     "execution_count": 31,
     "metadata": {
      "tags": []
     },
     "output_type": "execute_result"
    }
   ],
   "source": [
    "#bigram\n",
    "bb_clf_bi = bb_clf.fit(X_train_idf_bi,y_train)\n",
    "bb_clf_bi.score(X_test_idf_bi,y_test)"
   ]
  },
  {
   "cell_type": "code",
   "execution_count": 16,
   "metadata": {
    "id": "eS2KJos7rwg8",
    "outputId": "d4d0aa99-8b1d-4e23-f024-10632139992e"
   },
   "outputs": [
    {
     "ename": "NameError",
     "evalue": "name 'bb_clf' is not defined",
     "output_type": "error",
     "traceback": [
      "\u001b[1;31m---------------------------------------------------------------------------\u001b[0m",
      "\u001b[1;31mNameError\u001b[0m                                 Traceback (most recent call last)",
      "\u001b[1;32m<ipython-input-16-d55dcfc3beee>\u001b[0m in \u001b[0;36m<module>\u001b[1;34m\u001b[0m\n\u001b[0;32m      1\u001b[0m \u001b[1;32mfrom\u001b[0m \u001b[0msklearn\u001b[0m\u001b[1;33m.\u001b[0m\u001b[0mmetrics\u001b[0m \u001b[1;32mimport\u001b[0m \u001b[0mprecision_score\u001b[0m\u001b[1;33m\u001b[0m\u001b[1;33m\u001b[0m\u001b[0m\n\u001b[0;32m      2\u001b[0m \u001b[1;32mfrom\u001b[0m \u001b[0msklearn\u001b[0m\u001b[1;33m.\u001b[0m\u001b[0mmetrics\u001b[0m \u001b[1;32mimport\u001b[0m \u001b[0mrecall_score\u001b[0m\u001b[1;33m\u001b[0m\u001b[1;33m\u001b[0m\u001b[0m\n\u001b[1;32m----> 3\u001b[1;33m \u001b[0my_pred\u001b[0m \u001b[1;33m=\u001b[0m \u001b[0mbb_clf\u001b[0m\u001b[1;33m.\u001b[0m\u001b[0mfit\u001b[0m\u001b[1;33m(\u001b[0m\u001b[0mX_train_idf_bi\u001b[0m\u001b[1;33m,\u001b[0m\u001b[0my_train\u001b[0m\u001b[1;33m)\u001b[0m\u001b[1;33m.\u001b[0m\u001b[0mpredict\u001b[0m\u001b[1;33m(\u001b[0m\u001b[0mX_test_idf_bi\u001b[0m\u001b[1;33m)\u001b[0m\u001b[1;33m\u001b[0m\u001b[1;33m\u001b[0m\u001b[0m\n\u001b[0m\u001b[0;32m      4\u001b[0m \u001b[1;32mfrom\u001b[0m \u001b[0msklearn\u001b[0m\u001b[1;33m.\u001b[0m\u001b[0mmetrics\u001b[0m \u001b[1;32mimport\u001b[0m \u001b[0mclassification_report\u001b[0m\u001b[1;33m\u001b[0m\u001b[1;33m\u001b[0m\u001b[0m\n\u001b[0;32m      5\u001b[0m \u001b[0mtarget_names\u001b[0m \u001b[1;33m=\u001b[0m \u001b[1;33m[\u001b[0m\u001b[1;34m'clickbait'\u001b[0m\u001b[1;33m,\u001b[0m\u001b[1;34m'NotClickbait'\u001b[0m\u001b[1;33m]\u001b[0m\u001b[1;33m\u001b[0m\u001b[1;33m\u001b[0m\u001b[0m\n",
      "\u001b[1;31mNameError\u001b[0m: name 'bb_clf' is not defined"
     ]
    }
   ],
   "source": [
    "from sklearn.metrics import precision_score\n",
    "from sklearn.metrics import recall_score\n",
    "y_pred = bb_clf.fit(X_train_idf_bi,y_train).predict(X_test_idf_bi)\n",
    "from sklearn.metrics import classification_report\n",
    "target_names = ['clickbait','NotClickbait']\n",
    "print(\"\\nclassification report:\\n \",classification_report(y_test, y_pred, target_names=target_names))"
   ]
  },
  {
   "cell_type": "code",
   "execution_count": null,
   "metadata": {
    "id": "ALesWa2Nrwg8",
    "outputId": "c566a5a1-eea2-46fd-b838-9a44c5c6fc87"
   },
   "outputs": [
    {
     "data": {
      "text/plain": [
       "0.8933197268231415"
      ]
     },
     "execution_count": 37,
     "metadata": {
      "tags": []
     },
     "output_type": "execute_result"
    }
   ],
   "source": [
    "# import the LinearSVC module\n",
    "from sklearn.svm import LinearSVC\n",
    "\n",
    "# initialize the LinearSVC model\n",
    "svm_clf = LinearSVC(C=1)\n",
    "\n",
    "# use the training data to train the model\n",
    "#unigram\n",
    "svm_clf = svm_clf.fit(X_train_idf_bi,y_train)\n",
    "svm_clf.score(X_test_idf_bi,y_test)"
   ]
  },
  {
   "cell_type": "code",
   "execution_count": null,
   "metadata": {
    "id": "Y8u94911rwg8",
    "outputId": "cd406e8d-358c-442b-bae8-e9af6b858b48"
   },
   "outputs": [
    {
     "name": "stdout",
     "output_type": "stream",
     "text": [
      "\n",
      "classification report:\n",
      "                precision    recall  f1-score   support\n",
      "\n",
      "   clickbait       0.89      0.91      0.90      6821\n",
      "NotClickbait       0.89      0.87      0.88      5918\n",
      "\n",
      "    accuracy                           0.89     12739\n",
      "   macro avg       0.89      0.89      0.89     12739\n",
      "weighted avg       0.89      0.89      0.89     12739\n",
      "\n"
     ]
    }
   ],
   "source": [
    "y_pred = svm_clf.fit(X_train_idf_bi,y_train).predict(X_test_idf_bi)\n",
    "from sklearn.metrics import classification_report\n",
    "target_names = ['clickbait','NotClickbait']\n",
    "print(\"\\nclassification report:\\n \",classification_report(y_test, y_pred, target_names=target_names))"
   ]
  },
  {
   "cell_type": "code",
   "execution_count": null,
   "metadata": {
    "id": "dZqkLDBsrwg8",
    "outputId": "6ae63b50-8a8f-4724-a3a3-2188c7e17533"
   },
   "outputs": [
    {
     "name": "stdout",
     "output_type": "stream",
     "text": [
      "[[6202  619]\n",
      " [ 740 5178]]\n"
     ]
    }
   ],
   "source": [
    "from sklearn.metrics import confusion_matrix\n",
    "cm=confusion_matrix(y_test, y_pred)\n",
    "print(cm)"
   ]
  },
  {
   "cell_type": "code",
   "execution_count": null,
   "metadata": {
    "id": "Od0Hml2crwg8",
    "outputId": "b1456a4c-9dee-46c1-e6e2-f173f2b4da33"
   },
   "outputs": [
    {
     "data": {
      "text/plain": [
       "array(['Notclickbait', 'clickbait', 'clickbait', ..., 'Notclickbait',\n",
       "       'Notclickbait', 'Notclickbait'], dtype=object)"
      ]
     },
     "execution_count": 45,
     "metadata": {
      "tags": []
     },
     "output_type": "execute_result"
    }
   ],
   "source": [
    "y_pred"
   ]
  },
  {
   "cell_type": "code",
   "execution_count": null,
   "metadata": {
    "id": "02fTRSpwrwg8",
    "outputId": "4a750b10-955b-4ec5-c042-27af69671137"
   },
   "outputs": [
    {
     "name": "stdout",
     "output_type": "stream",
     "text": [
      "clickbait examples were mistakenly predicted as NotClickbait\n",
      "\n",
      "\n",
      "stuck home coronavirus pandemic ? 7 best comedy movies watch\n",
      "•police arrest re-open america advocates ...\n",
      "commie china threatened eu ramifications report criticized beijing coronavirus disinformation efforts comes ... eu caved commie chinas pressure & water report . # communistvirus # chinaliedpeopledie\n",
      "okay\n",
      "nbc  cnn  msnbc blame trump coronavirus  people died “ donald trump president ”\n",
      "antisemitic democrats islamist rep. ilhan omar socialist friends demand islamist iran sanctions gone kill jews wuhan china corona virus\n",
      "trump admin opening cases federal court get border wall completed need ever two reasons  • controlling disease-ridden foreign invasion • u.s. citizens need first dibs job openings # buildthewall\n",
      "watch  putin explains tax rich pay coronavirus problems\n",
      "coronavirus conspiracy theories fake videos fueling rise racism  research\n",
      "follow money . # qanon\n",
      "🇺🇸 state department puts cap chinese citizens employed china-backed news agencies\n",
      "⁦ @ govparsonmo care democracy  youll make sure citizens missouri vote mail . dont  well know bought koch network destroy .\n",
      "@ young_tories something make smile  article published 15 april 2020\n",
      "\n",
      "trump  u.s. halting funding world health organization flawed coronavirus response ( video )\n",
      "\n",
      "ubi taxing rich  two ideas whose time come .\n",
      "emergency field hospital dismantled treating zero coronavirus patients\n",
      " entered recession ’  imf chief warns economic  sudden stop ’ caused incompetent # realdonaldtrumps failure respond global coronavirus pandemic late @ sencorygardner @ repdlamborn blame someone else\n",
      "@ senatorromney @ cdcgov yes  mitt knew covid-19 long public . buddy benjamin netanyahu warned november  knew mitt . bibi longtime buddy since boston group days together . stop covering mitt !\n",
      "tucker questions leaders  chose chinese model ’ virus response “ people fined arrested driving alone  playing catch park  paddleboarding ocean . measures like keeping us safe ?\n",
      "\n",
      "@ realdonaldtrump president hoaxs bio  living lie ! ! !\n",
      " ’ worry china ’  jeff sessions ’ senate opponent tommy tuberville ’ want investigate china coronavirus  right ’\n",
      "u.n. chief insists coronavirus recovery must address greenhouse gases\n",
      "@ atrupar meanwhile back ranch ...\n",
      "21. news  director-general harsher toward president trump toward china\n",
      "\n",
      "bill gates-funded project deliver at-home coronavirus test coming weeks\n",
      "study finds coronavirus transmission comes people ’ know\n",
      "nothing add surprising world record setting banktrumper inherited money\n",
      "’ care party prefer  complete bull shit . tax burden covid19 ’ . time term limits .\n",
      "# taiwan releases # december email # showing # unheeded warning # coronavirus\n",
      "months misinformation misunderstanding wuhan virus started ... beginning . # chinalied\n",
      "\n",
      "never forget !\n",
      "👇👇👇👇\n",
      "# drtrump # whitehouse\n",
      "kentucky christians attended drive-in services easter — despite warnings governor stay home coronavirus pandemic — met police presence nails dumped road  pastor kentucky church said\n",
      "crass democrat college🦨professor blames trump voters coronavirus deaths  f * * * each/ every trump supporter “ ’ ridiculous blame trump supporters virus originated china since spread countries world ”\n",
      "chinas communist govt actively censoring coronavirus info  scrubbed academic research\n",
      "crazy ? regular people locked going walk  want let psycho ?\n",
      "true @ michelle4nm ?\n",
      "gross . someone never share anything\n",
      "coronavirus  men die covid-19 women ?\n",
      "top dhs official  coronavirus dies fastest sunlight  heat  humidity\n",
      "“ toxic laboratories secure prisons political prisoners ? ” reichelt asked . “ would like explain grieving widows  daughters  sons  husbands  parents corona victims world ? ”\n",
      "democrats would okay people dying coronavirus means president trump wont ’ get re-elected\n",
      "\n",
      "@ realdonaldtrump changed tone ( trying ) rewrite history # coronavirus # fumble\n",
      "@ ze4pvuxphbzni6u @ nygovcuomo ’ give fuck human lives\n",
      "# whatthefaith ? jihadis call coronavirus small soldier allah islamic warriors say sick deserve\n",
      "one agree analogy . time reconsider china . right apple ?\n",
      "’ believe second .\n",
      "✳✳could miracle drug ? ? severe coronavirus patients recover quickly experimental drug chicago study  remdesivir miracle\n",
      "» bill gates  eventually  ’ able travel without covid-19 certificate\n",
      "\n",
      "weird \n",
      "# newyork # city adds # thousands # covid19 # deathtoll never tested # positive # virus `` inclusion 3700 # presumed deaths # coronavirus sent total count 10000 \n",
      "first us coronavirus death occurred early february  autopsy results show\n",
      "@ harrisfaulkner\n",
      "right-wing protestors want argue progressives liberals left wingers protest time different  somehow screw protesting moronic  pig-headed dunderheads . indeed .\n",
      "joe biden wins arizona primary coronavirus ravages nation\n",
      "please let people want . let gather worship whatever long doesnt hurt rest us outbreak worsens community let medical staff decide save help .\n",
      "sure would think released convitced crimminals would commit crimes ? shiniest spoon drawer .\n",
      "@ clarkfornorman @ govstitt\n",
      "say ’ ! 😧 tr * mp allies financial ties companies manufacture untested drug ’ touting # covid19  report\n",
      "@ seanhannity ivan ’ created 15 million jobs ? ? ? ! 😂\n",
      "# dumptrump2020 read article  one wonders trump even read .\n",
      "late  world health organization ’ seem good at…world health .\n",
      "@ ingrahamangle real agenda ... virus weapon ....\n",
      "media spin blames coronavirus spike anti-lockdown protests - wnd -\n",
      "\n",
      "trump abandoned easter re-opening advisers showed devastating poll numbers  report # coronavirus\n",
      "pennsylvania state police issue citation  fine woman going drive amid coronavirus stay-at-home order\n",
      "@ skynews dont buy scamdemic . big power grab people want transform society .\n",
      "@ robertreams @ congressmanhice @ gopoversight @ realdonaldtrump @ potus true .\n",
      "’ even find right words express horrible\n",
      "@ brittan45088596 @ education4libss\n",
      "italy overstated # covid19 deaths ! stats including italy nos . wrong & overstated also ! * science * disaster  group think  politics & funding . entire reporting system flawed  biased & compromised . theyve also attacked us asking qs !\n",
      "death profiteering\n",
      "even un jumping never let crisis goto waste ...\n",
      "@ huxijin_gt china lied ... people died ...\n",
      "# breaking trump ’ pentagon chief officially supports lying\n",
      "netherlands reportedly plans use herd immunity combat coronavirus epidemic  britain retreats plans warnings could lead 250000 deaths .\n",
      "chinas leading virologist bat-borne viruses lost sleep worrying coronavirus could leaked lab wuhan upon learning spread december . tells share concerns `` shut stinking mouths . \n",
      "echo @ ronpaul call firing # billgates minion # drfauci well # drbrix part concerted china/deep state plan irrevocably change lives . wake . call congress .\n",
      "trailblazing jazz saxophonist lee konitz dies 92 following coronavirus complications\n",
      "# covid19 could death going movies . way blame # trump ? movie theater owners panic new film grosses $ 100 million streaming online\n",
      "report  coronavirus came wuhan laboratory  part china trying  compete ’ america\n",
      "video day  report claims wuhan funeral homes cremated coronavirus victims alive\n",
      "registered nurse threatens deny trump supporter coronavirus treatment\n",
      "coronavirus racism  chinese city bans black people hotels  apartments  restaurants\n",
      "dems thought dreams coming true ....\n",
      "emergency field hospital dismantled treating zero coronavirus patients\n",
      "chinese couples divorcing record numbers stuck home together due coronavirus\n",
      "@ sharylattkisson # blitzkrieg love work ... even taking time even pretend ...\n",
      "\n",
      "ive thinking & guess time say loud . t-rump keeps hawking hydroxychloroquine preventative against/cure # covid19  know whos going find & start taking first  right ? right ? # magats # trumplies\n",
      "house cancels plan return next week one day making announcement\n",
      "@ calebmaupin possibility !\n",
      "@ marclobliner evil people ...\n",
      "experts politicians flat-lined economy cant grasp elementary math logic . scandal # greatpandemicpanic . trump didnt . # chinaflu # coronavirus\n",
      "schroeder  globalization continue coronavirus — without us\n",
      "fuck guys .\n",
      "anybody ignorant n low iqs beleive crap @ adamlisberg @ mayorbollwage dishing chinese drones r collecting data n sending back china please go buy pampers  go home  put n get fetal position . ur insane !\n",
      "imagine @ hillaryclinton @ timkaine floundering around right ? ? ?\n",
      "weekly jobless claims surge record-shattering 3.3 million amid coronavirus pandemic – raw story\n",
      "... wow ...\n",
      "big brothers new shoes . covid-19  smartphone surveillance  state\n",
      "grocers hunt meat coronavirus hobbles beef pork plants\n",
      "take away rights due illness ! `` constituion closed due covid19 !   stunning ’  unconstitutional ’  judge grants restraining order ky mayor vowed record license plates easter church goers\n",
      "“ supposed made public — internal document  ” unnamed staffer education ministry told cnn confirming issued directive .\n",
      "great coronavirus panic 2020\n",
      "fauci says antibody treatment one coronavirus team ’  top priorities . ’\n",
      "barack obama joins push vote-by-mail coronavirus crisis . figures .\n",
      "@ protctdemocracy please also call # impeachandremove covid19 crisis & everything else & offending officials . ’ care unlikely  accept & normalize kleptocracy & destruction democracy\n",
      "virus could `` exterminated  within weeks people allowed lead normal lives vulnerable sheltered virus passes  said epidemiologist knut wittkowski . # covid19 # coronavirus\n",
      "gov good managing image & muzzling people . harper wasnt even close . bet one date # covid19 . trudeau bright  depends lot aids party tell must think .\n",
      "virginia gov . ralph northam declares state emergency coronavirus\n",
      "@ katiepavlich trumpsters  know people states please tell say indoors \n",
      "happens shut world save 3 % @ govmurphy . @ nygovcuomo happens ny/nj blamed ! # openamericanow\n",
      "\n",
      "wall street cut 68000 jobs received trillions emergency loans prior covid-19 anywhere world\n",
      "ban-happy michigan democrat governor gretchen whitmer blasted  insane ’ overreach belated response wuhan china coronavirus outbreak ( several examples )\n",
      "\n",
      "donald destroyer ’ always ready destroy great # climate - winning ?\n",
      "former mlb all-star dan haren auctioning huge bobblehead collection coronavirus charity\n",
      "creating complete dependence government . . . absolutely everything.michigans health department sending people free condoms lubricants coronavirus lockdown\n",
      "well duh ... think saw coming ... 🙄 # covidiots # coronavirus # covid19\n",
      "* must read * # crookedtrump knew along nothing let american citizens die # thecorruptgop greed ! ! # realizethetruth smoking gun ?\n",
      "tuesdays results delegitimized could drastically reduced turnout .\n",
      "@ martingeddes @ ldynay63 -- -- -- -- - >\n",
      "nothing worry . mother cook chicken soup offer thoughts prayers .\n",
      "new hydroxychloroquine azithromycin treating coronavirus study – work\n",
      "intelligence community confirms ’ examining whether coronavirus accidentally leaked wuhan lab\n",
      "china rejects calls international investigation coronavirus handling\n",
      "@ focused4usa @ tomandsteffani im sure\n",
      "throw bums . # gopcowards # gopcorruption\n",
      "95 year-old wwii veteran beat coronavirus reveals best way survive covid-19 –  positive attitude ’\n",
      "? ...\n",
      "bad idea biden terrible choice . `` strikingly  sanders others noted  war analogy deployed biden not—in current for-profit system—extend people risk economic bankruptcy death health threats # covid19 . ”\n",
      "“ ... negotiating bill  nancy pelosi holds getting relief americans try get things bill ... \n",
      "  pnf newsroom ...\n",
      "white house blew gasket monday cnn msnbc cut away donald trump ’ latest coronavirus briefing  arguably incoherent yet .\n",
      "daily mail published photos inside wuhan institute virology show broken seal one refrigerators used store 1500 virus strains including bat coronavirus . 🇨🇳🦠\n",
      "@ robertdcorbin misinformation . worldwide issue . racist . right us factory farms  brewed mrsa  cre  e.coli 0157  flesh eaters supertb . china brewed sars  mers  coronavirus . make connec\n",
      "@ carolmswain yes . pursuing `` good  -- care certain  identifiable groups greatest risk # covid19 infection -- w/out due care consideration rest ? fight untimely death destroying life ? ’ better ?\n",
      "’ know real death rate infection rate . know media loves panic .\n",
      "@ katherineoma @ catherineschwo3 pass thoughts & prayers french kissing wuhan covid-19 infecteds .\n",
      "dr anthony fauci reappears coronavirus task force briefing — mysterious absence monday\n",
      "elon musk says ’ surprised  cnn still exists ’ article alleges ’ deliver promised ventilators # smartnews\n",
      "climate change hoax - religion anti-god left . science  `` scientific models  support propaganda . much like covid `` scientific models  theyre pushing destroy economy gatess vaccine ready 18 months . # kag\n",
      "china reclassifies dogs pets rather livestock following coronavirus outbreak\n",
      "@ scooze007 @ chriscuomo opinion ’ equal truth . sounding like illiterate knuckle dragger tells need know bovine like low information opinion . someone read pos governor new york htt\n",
      "happen - - day light/heat & clorox-injection show ? ? ? male-child leader ? ? ?\n",
      "@ allthatandmoore smart guy research .\n",
      "stepford media arent showing story public ....\n",
      "@ sascmajority @ senjoniernst @ deptofdefense @ naspcola rest # gopdictatorparty2020 sick ! ! !\n",
      "\n",
      "many armed patriots always said would defend america enemies . havent seen one anybody defend anything .\n",
      "first coronavirus case confirmed capitol hill\n",
      "comes covid-19  freedom despotism ?\n",
      "hannity demands nyt retract  apologize article erroneously tried blame man ’ death\n",
      "trump refuses cnn reporter  cnn fake news . dont talk\n",
      "@ jason @ elonmusk\n",
      "gop texas governor abbott says nation adjust coronavirus aftermath 9-11\n",
      "entirely brand .\n",
      "\n",
      "coronavirus relief bill invades medical records + chinese-made drones surveil u.s. citizens  policing “ social distancing ” = transformation america ! facebook fray\n",
      "dr. birx  people ’ stay home bring us second wave coronavirus\n",
      "michigan state democratic rep. karen whitsett  diagnosed coronavirus march  credits trump ’ advocacy hydroxychloroquine saving life . # americaworkstogether\n",
      "marsha blackburn talks democrats ’ obstruction punishing china\n",
      "@ jimsx50 @ jayclaybrooks @ joebiden better sleeping meeting  presidenting ... # morningjoe # cnn # msnbc\n",
      "“ want best population . government capacity fix  organized crime solves . \n",
      "# covid19 trumps wet dream ...\n",
      "california democrat voters . loved ones tuned away hour need lack money resources  rest assured illegal alien taken care . may warm heart .\n",
      "watch  florida residents scramble  mad dash ’ beach reopens - florida guinea-pigs bring # covid19 !\n",
      "\n",
      "george soros announces $ 130 million donation help coronavirus recovery\n",
      "current coronavirus tally may represent 6 % total infections  official case records largely uninformative\n",
      "9-11 pandemic  new yorkers put test  new york ( afp ) – nearly two decades manhattan ’ twin towers fell history ’ deadliest attack us soil  coronavirus pandemic testing storied mettle…\n",
      "war  china threatens cut imports australia australia continues push independent investigation origin covid-19 outbreak\n",
      "unacceptable . need find easter liturgy ... somewhere ...\n",
      "# trumpbriefing ... coronavirus press briefings run taxpayer-funded propaganda video re-election campaign\n",
      "@ mkrull1 @ andyostroy @ realdonaldtrump tap brakes  mark .\n",
      "bbc publishes leaked iran footage showing bagged bodies covid-19 victims piling\n",
      "looks like  sounds like  smells like oligarchy ...\n",
      "saying god didnt doesnt make true identifies unbeliever !\n",
      "# domesticviolence incidents spike across country covid-19 pandemic spreads\n",
      "president trump offers coronavirus aid iran\n",
      "one hard \n",
      "mat every last one old  white  gluttonous asses get .\n",
      "nature still bouncing back coronavirus crisis   drop emissions global unprecedented \n",
      "mississippi plans sue chinese government  death  health injuries  serious economic loss ’ caused\n",
      "@ senblumenthal\n",
      "senate vote april 20\n",
      "ongoing # coronavirus ( # covid19 ) # pandemic spreads  activists trying leverage # crisis instigate societal change  abolition nuclear # families favor something communal . ugh !\n",
      "irony satire back  theyre chewing bubble gum taking names . enjoying hell .\n",
      "\n",
      "happens cut funding scared science ...\n",
      "covid-19 news  small business relief latest part trumps corrupt coronavirus mess\n",
      "@ cspanwj # wearethenewsnow\n",
      "put together hotel ? `` among inmates known staying holiday inn express four registered sex offenders . three registered level 3 sex offenders deemed new york courts likely re-offend . \n",
      "calls break # bigmeat 900 # workers single # tyson processing plant test positive # covid19 . # cargill  # jbs  # nationalbeef  & # tyson control 80 % nations # beef . `` # pandemic exposing big lie industrial # agriculture . \n",
      "# unitedstates thursday took grim title country # coronavirus infections reported record surge unemployment world leaders vowed $ 5 trillion stave global economic collapse .\n",
      "trump biden monday phone call government ’ coronavirus response  biden thought speaking calvin coolidge .\n",
      "\n",
      "maga cetins attacked article contradicted thinking supreme leader .\n",
      "man dumb box rocks .\n",
      "👩🏽‍⚕️ # 45🤮lying ass off🌐heads praising  # kingofventilators🤣more likely  # kingofnoconsentvaginagrabber 🌐heads not😱of ! lied ! princess diane owned condos his🏨🏨he zero intentions building ! scams ! thief potential buyers deposits !\n",
      "’ 37 minutes later ’  inmates released jail due coronavirus fears keep getting arrested\n",
      "watch video ! powerful ! # trumpdoesntcare\n",
      "@ realdonaldtrump think mean sleepy donald .\n",
      "atf allow gun stores offer drive-up windows conduct business parking lots coronavirus pandemic\n",
      "u.s. government jumps protect church rights amid coronavirus\n",
      "@ nedryun @ realdonaldtrump cuomo forced nursing homes take covid patients . prescribed hcq/zpacks majority would lived .\n",
      "@ realdonaldtrump @ potus start working family scoundrels ! stealing kids cancer charity  low rats go ? ? ?\n",
      "investment banker preventing shuttered hospital reopened take coronavirus patients -\n",
      "requests coronavirus mortgage bailout jump 78 % one week\n",
      "coronavirus texas  southwest airlines announces first quarterly loss nearly 10 years\n",
      "50+ coronavirus press conferences trump asks  daily press conferences lamestream media ?\n",
      "air force thunderbirds navy blue angels team powerful coronavirus tribute flying u.s .\n",
      "rural communities  decades-long investment incarceration poses grave covid-19 threat . according “ protecting rural jails coronavirus  ” recent report justice collaborative data progress\n",
      "putin ’ puppet whining ! ⁦ @ realdonaldtrump⁩\n",
      "police threaten  arrest north carolina protesters demanding america reopen ...\n",
      "# cabalvirus going get ass kicked soon ... saying.🤷‍♂️🤣🧐 dr. didier raoult published international journal antimicrobial agents showed 40 patients suffering covid-19 positive results using ( hcq ) .\n",
      "@ translaterealdt unhinged ..... still ready talk 25th amendment ? ? ? ? ? ? ..........\n",
      "news amazingly going unnoticed \n",
      "“ trump may try block release via courts ” ’ quite delicious cohen rick gates released prison due coronavirus paulie numnuts still cooling heels prison . bet ’ gon na page turner ! ! ! # onevoice1\n",
      "flatten infection curve ? maybe . competing view .\n",
      "@ cnnpolitics report total words dr. fauci pick spread propaganda china ! corrupt cnn/dems americas worst virus ! ! !\n",
      "cambridge  covid-19 originated september outside wuhan - theblaze -\n",
      "trump believes ignores briefings  virus go away . makes sense right ?\n",
      "covid-19  # italy 1000 dead  # iran mass graves  # america ... simply dont know\n",
      "\n",
      "\n",
      "# coronavirus  would joe # biden ?\n",
      "perfect ex .  dem judges creating law fm bench tht overrides # const . & unlimits dem pwr abuses amppl ! prsnl prejudice gifted2cops via blank warrant charges2 jail anyone “ suspected ” sick w/ # wuhanvirus even ’ flu  cold  allergy ! .\n",
      "@ sheepdogsociety dems talking  theres foul play involved .\n",
      "virginia pastor dies covid-19 threatening cancel services defiance virginia gov . northams orders\n",
      "good morning america host george stephanopoulos tests positive coronavirus -\n",
      "math high point @ gop party . reading graph isnt either seems .\n",
      "symptoms direct contact someone virus gets test ! ! ! ? meanwhile regular folks symptoms ’ tested .\n",
      "yeah hell actual lives \n",
      "fema  dod prepare emergency raises covid-19 mortality rate 3.4 %\n",
      "china closes first makeshift hospital new cases drop country  increase worldwide\n",
      "... yet mention limiting crossings northern border . 🤔 @ madisonsiriusxm\n",
      "another reason unite # votebluetoendthisnightmare ! ! # nomatterwhat\n",
      "boyle read study underscoring unc lab project discovered  `` sars-like cluster circulating bat coronaviruses shows potential human emergence . \n",
      "@ realdonaldtrump ill leave ... # fakepresident # realnews\n",
      "national guard troops sent coronavirus  containment area ’ nyc suburb -\n",
      "alarms appear2have failed2register trump  routinely skips reading pdb & times shown little patience even4the oral summary takes2or3times per wk  according2the officials spoke condition anonymity2discuss c-m\n",
      "willie nelson signs help fans get coronavirus pandemic\n",
      "coronavirus cover-up - `` need transparency . instead getting . \n",
      "americans protest us coronavirus lockdowns — president trump ’ encouragement   live free die ’\n",
      "must feeling irrelevant wants attention ? ? ? george w. bush urges americans unite fight coronavirus together  partisan combatants\n",
      "epic shithousery .\n",
      "\n",
      "drug overdose  head trauma deaths added coronavirus death toll\n",
      "air force preparing cyclical coronavirus  top general warns\n",
      "trump ignored january coronavirus warning inner circle\n",
      "calls mount congress provide robust relief @ usps # covid19 kills mail clerks carriers \n",
      "hes probably gon na cut even wrote check coronavirus 💲😷💲🤒💲🤧💲\n",
      "democrat propagandist need removed office  essentially double agents . history prove china released virus  probably purpose left weaponizing coronavirus attempt destroy president trump | blogs | lifesite\n",
      "former rep hopes coronavirus fallout convinces us distrust chinese tech  build 5g\n",
      "breaking  sources claim coronavirus originated wuhan lab result china trying surpass us\n",
      "@ johntrumpfankjv 3 states banned abortions `` elective  lockdown  according story .\n",
      "@ marwilliamson congresswoman rashida tlaib best proposal . hope get automatic boost communities act . article . # mintthecoin\n",
      "idiot strong arming  another mafia tactic . glad state still stay home orders may 28 could extended .\n",
      "@ jamescainjnyc @ gileadsciences @ pulte drug still unproven  note tax dollars paid research fda gave gilead exclusive rights control typically high pricing & nix lower cost generics .\n",
      "45 % republicans fully isolating  according @ civiqs data . ’ getting others killed .\n",
      "things make hmm .\n",
      "asian markets plunging friday wall st. europe implode coronavirus fears\n",
      "finally time bring home @ potus trump wants us troops immediately afghanistan due coronavirus\n",
      "» farm-labor crisis covid-19 sends countries scrambling\n",
      "king thailand isolates coronavirus — harem 20 concubines\n",
      "daily  ’ evident proof  # usa led bad path # liberal # democrat # globalists nasty radical policies ! going keep taking bs ?\n",
      "accessibility iceberg blind students arrives covid-19  # students # college # universitychallenge # blind # covidー19 # covidiots # covid19 # covid2019 # coronavid19 # education\n",
      "@ troll_hell @ marilynlavala @ thepaleorider @ jemmacolumba @ meesha28710789 @ davidjdurkin4 @ itsonlydawn @ calvin4511 @ isafeyet @ jaystjames2 @ charlen60403930 @ mevans5219 @ abmoore1 @ bwalkercox @ donjean13 @ carlbotha2 @ earleldridge @ unionswe @ richbrat2 @ okabaeri91\n",
      "\n",
      "@ brianzahnd case missed \n",
      "rich often lazy dumb ... get away lazy dumb rich actual work .\n",
      "@ jmom1968_jean @ govmikedewine groceries matter  go live michigan governor gone crazy . shell revolt hands soon due crazy restrictions imposed .\n",
      "davidson  uv lights could used fight airborne coronavirus\n",
      "three million americans file unemployment  shattering previous record\n",
      "⁦ @ speakerpelosi⁩ wrong ! ! ! lying hypocrite .\n",
      "media usual  always taking sides enemy . case  china  hs waged biological warfare west . # coronavirus atheist chinese virus .\n",
      "would know\n",
      "coronavirus drifts air microscopic droplets – ’ science infectious aerosols -\n",
      "technology could change way approach covid-19\n",
      "\n",
      "@ xxkurai_akumaxx @ sjyellehs @ crf450xc @ neighborrand @ bnodesk ’ ... trust ’ hype . ’ see . watch ... guy real deal . look really investigate\n",
      "@ spectatorindex announcement world misleading pandemic . causes everything worse  victims & lives lost . whole word slow prepare pandemic due wrong advice  late declare pandemic . much chi\n",
      "coronavirus attacks sick & elderly . coronavirus doesnt attack ( largely ) children 0-14. coronavirus attacks 7 times black people . anyone see pattern ? biological weapon created democrat euthanasia klansmen pedophiles/pedovores\n",
      "trump ’ alarming attempt use coronavirus crisis  mexicanize ’ us-canada border  150 years  united states canada shared commonly called “ longest undefended border ” world . yet the…\n",
      "china begins mass deletion online research coronavirus origins\n",
      "pretty much sums ...\n",
      "may good lord protect us ... guys .\n",
      "1 ) serious virus 2 ) serious government over-reaction . # covid19 # economy\n",
      "university professor  oxford vaccine may harm perception women effective leaders\n",
      "whitmer backtracks covid-19 contract awarded dem consultant said trump  get coronavirus asap ’\n",
      "aspiring type  hed aspire uselessness .\n",
      "dear god  please dont ever let feel ignored sidelined resort publicly musing eating neighbors  sake attention .\n",
      "@ kayhair1 @ 2012popper numbers inflated .\n",
      "mexico deports nearly illegal migrants amid coronavirus fears  government reveals\n",
      "funny # saturdaynightlive last night featurinbg dem candidates . # democrat # democraticprimary # dems\n",
      "high unemployment decrease economic activity snowballing crisis . yet a-holes getting $ 25 million bailout . trying make things worse theyll get additional bailout money ?\n",
      "uk epidemiologist behind @ nyt cited coronavirus model admits wrong & stated covid-19 death projection 2500 % ! ! !\n",
      "fact check  ⁦ @ politicususa⁩ “ trump virus medical experts  press conference. ’ ” false . dr. stephen hahn  md . # disinfectant # covid_19 # coronavirus # trumppressbriefing # trumpdisinfectant # trumppressconference\n",
      "@ sevato97 word god creates reality therefore lie 🙄\n",
      "good news us healthcare system ..\n",
      "@ jwestin2 @ nygovcuomo @ housing4allny @ nychange @ maketheroadny @ nycdsa @ nycfairhousing @ vocalnewyork @ mo87mo87 @ juliacarmel__\n",
      "# hahaha # ccp # ccpvirus know means people ? ccp small pen $ ises dear ccp\n",
      "mississippi mayor faces lawsuit banning open carry coronavirus pandemic . ⁦ @ potus⁩\n",
      "yeah  ...\n",
      "researchers  ’ lowered estimates number us fatalities . left  trump lied ! demand deaths !\n",
      "@ anthonyjevans ill wind  article published 15 april 2020  youll cumming pants\n",
      "\n",
      "gop blocks corona virus bill . let sink\n",
      "seems ecstatic many die . job well done  puppeteers conclude .\n",
      "2 new covid-19 cases washington state brings u.s. 66 cases - new cases ca &\n",
      "president # trump fired series tweets — directed states democratic governors — seemingly endorsing burgeoning protest movements calling immediate reopening state economies .\n",
      "top law enforcement brass us throwing gasoline # coronavirus fire  saying bureau & law enforcement agencies developed intelligence countering  official ’ narrative originated bat  widely reported . 😗 # chinamustexplain\n",
      "loud happen ?\n",
      "cdc sent useless test kits states  tainted coronavirus\n",
      "dr. anthony fauci says coronavirus likely seasonal . mean ?\n",
      "cant make stuff anymore . # hanx wifes blood also used  said far severe symptoms . @ johngvibes\n",
      "hombres armados exigen fin al confinamiento en el capitolio de michigan wednesday state court ruled michigans stay-at-home order violate constitutional rights .\n",
      "exact ’ believe msm ! 😡\n",
      "becoming increasingly clear “ mitigation ” done nothing cause pointless  catastrophic disruption social economic life . seems delight lying media democrat partners  striving keep fear alive .\n",
      "@ jmartnyt going report failed china masks ventilators ?\n",
      "\n",
      "police issue citation  fine woman going drive amid coronavirus stay-at-home order\n",
      "would nice something could stop lying . certainly dont seem able stop .\n",
      "dept . health human services hit cyberattacks struggle deal coronavirus\n",
      "ron paul claims coronavirus could  big hoax  ’ excuse take rights away\n",
      "course donald took ran .\n",
      "wisconsin lt. governor shreds gop putting lives risk steal supreme court seat  gop took advantage deadly pandemic knew low turnout election gave best chance win supreme court seat .\n",
      "“ # hobbylobby ’ closing # coronavirus pandemic ”\n",
      "china also sent uk 3.5 million useless tests .\n",
      "@ 337lee23 @ govmlg @ nmdoh look # sweden  # florida # springbreak  # wisconsinprimary . look studies # usc # stanford . # prove michelle # wuhan grisham wrong .\n",
      "lied ( china ) people died  calling  solidarity ’ silly little  one voice ’ show backfires fairly harmonious way\n",
      "democrat marcia fudge  coronavirus proves  systemic  institutional racism  exists u.s. dolt even keep news anymore ? ?\n",
      "atf allow gun stores offer drive-up windows conduct business parking lots ...\n",
      "pharma must hate fact cure simple cheap 😂\n",
      "“ almost 82 % coronavirus bill ’ tax relief go 43000 millionaires . sliver american society forms one 3550 taxpayers. ” ’ $ 70 billion $ 86 billion offer .\n",
      "braindead @ realdonaldtrump supporters fear bill gates wants make # covid19 vaccine secretly implant brain chips\n",
      "lets start plans open economy soon ! vulnerable people & sick people must stay home  rest us get back business . depression kill far people # covid19 longer home free & brave ? # potus @ gop\n",
      "expert may expert something  # covid19 . sage advice couldnt harm wont hurt . common sense better so-called experts .\n",
      "really ? ! hope old white guys get virus . pay tens thousands dollars one shot .\n",
      "@ theweek @ ryanlcooper one person respect influence encourage soldiers fall line .\n",
      "@ stevehiltonx got ta say ’ seeing snarky posts people left “ grandmother ’ going die 401k ! ” . people lined get scraps food local food banks guess ’ ok families starve\n",
      "wrong people ?\n",
      "first  denies knowing asymptomatic people spread virus . orders residents shelter place - unless ’ going beach . way cure mixture dumb evil ballot box . # votebluenomatterwho\n",
      "@ harper36805323 @ lesstonehouse @ scottmorrisonmp looks like church longer sanctuary centre generate maximum harm\n",
      "boris johnson icu .\n",
      "@ crewcrew maybe something want aware .\n",
      "’ coronavirus outbreak might lead resurgence us manufacturing # smartnews\n",
      "disgusting . sick deceptive people looking exploit others pain confusion . # conronavirus # covid19\n",
      "@ texanallikat mr. president 👆🏻 @ realdonaldtrump ’ want see part tax dollars going towards mail voting . 100 % voter id needed !\n",
      "@ jasonrantz someone needs sue jay unconstitutional closure wa state\n",
      "true deep stater saying anything ...... know lie !\n",
      "government suppressing success stories ? government news outlets keep taking bad ’ going get . ’ real talk cure  even though looks like one ( ) exists . # covid19\n",
      "relation ? 🤔 “ april 1  publish reports  outcomes management asymptomatic people daily epidemic notifications  respond social concerns timely manner  ” jile said  according cctv .\n",
      "think  folks  “ fed gov told us needed go\n",
      "test also detect high levels igg  indicative whether someone already covid-19 .\n",
      "report  coronavirus came wuhan laboratory  part china trying  compete ’ america\n",
      "democrats * never * allow crisis go waste ! political equivalent bottom-feeding ambulance-chasers ...\n",
      "🐘 republicans fail suppress contempt working americans amid coronavirus pandemic 🐘\n",
      "\n",
      "@ realdonaldtrump .............. saying ? ?\n",
      "70 coronavirus vaccines development around world — oxford scientist says one could ready september - theblaze # coronavirus # wuhanvirus\n",
      "@ repleezeldin twisted  though  realz ...\n",
      "’ list strange ways countries reacted coronavirus\n",
      "’ ’ talkin ! ! ! # bestpresidentever45\n",
      "according man  differences experience china u.s. alarming .\n",
      "joe took 1st ques . debate  wuhan virus  voice hoarse  tried clear throat coughing hand . cdc advises use tissue cough sneeze  use inside elbow sanitize .\n",
      "@ realdonaldtrump answer \n",
      "@ tired_fighting @ aldi66y @ theeconomist @ realdonaldtrump kind read article . summarizes .\n",
      "⁦ @ potus⁩ keep bashing big companies . meanwhile work overtime bike things keep saying ’ enough . thank god american industry . maybe build things lesson\n",
      "lack access covid-19 test kits means kid got exposed .\n",
      "@ jackofrankie\n",
      "devastated nations sue china $ 4 trillion coronavirus economic disaster  think-tank | news |\n",
      "@ existentialfish look whos paying whole thing michigan\n",
      "@ samuelali @ kennethmerrill4 @ matthewjshow @ realdonaldtrump @ govinslee @ kuow said gave us hope treatment look well working ..\n",
      "covid-19 dominoes fall  world insolvent\n",
      "@ joshuahol ’ old enough remember chuck grassley warned obamacare would “ pull plug grandma ” reince priebus said obama “ blood hands . ”\n",
      "gop texas governor abbott says nation adjust coronavirus aftermath 9-11\n",
      "nyc er doctor  `` ’ worked coronavirus front line — say ’ time start opening \n",
      "video  msnbc panel excited speculate whether coronavirus outbreak trumps katrina\n",
      "@ n_amersolutions hmmmmm ... smart .\n",
      "fauci  trump nih say drug remdesivir shows positive signs treating coronavirus .\n",
      "dear moron aka ⁦ @ whoopigoldberg⁩ ’ made ice cream issue # nancyantoinette sitting mansion bragging holding money people crushed shutdown & showing full $ 20k fridge # covid19 # democratsareadisgrace\n",
      "cuomo struggling unemployed  want go work ? go take job essential worker “ essential worker ” protect # coronavirus spreading ? ! becoming essential worker ’ cured ? ! ⁦⁦\n",
      "theres saying midwest “ made china ” code “ quality control. ” funny & true  buying kids toys walmart . unfortunately  equally true # covid19 test kits . funny though . praying 🇨🇿🇳🇱🇪🇸🇹🇷🇬🇧\n",
      "let us pray ...\n",
      "\n",
      "’ afraid thing lip catching # coronavirus\n",
      "@ jchristdec25 @ hugecapet @ alexberenson @ stanford say  doctor said got crucified\n",
      "mercy .  ’ suffered enough ’ ? media late-night hosts plan make life time covid19 even worse\n",
      "@ david_leavitt evidence theyre nuts .\n",
      "grocers hunt meat coronavirus hobbles beef pork plants\n",
      "shit ! ! ! 🙄🙄🙄\n",
      "@ laraleatrump\n",
      "\n",
      "@ meaburnlyvennet documented evidence taiwan warned december & chose promote ccp lie january . evidence collected usa intelligence . usa rightly halted funding .\n",
      "hateful media\n",
      "easter weekend  65 year old bicyclist caught cuomo  woman believed cuomo ’ wife  kids another woman visiting property construction east hampton . live southhampton\n",
      "report  spouses discovering partners ’ affairs  possibly leading divorce surge coronavirus\n",
      "floridas slow-acting governor forced miami herald drop demands public records showing names elder-care facilities positive test coronavirus . yet  legal justification provided .\n",
      " war zone ’  tijuana hospitals overwhelmed coronavirus patients\n",
      "fucking nerve bank exec lecturing anyone fiscal responsibility ...\n",
      "ari fleischer shows  ’ coincidence many resistance reporters want take coronavirus briefings air ’\n",
      "# leftist # liberal # statemedia takes # communistchina side amid coronavirus panic🔥🔥🔥\n",
      "@ realcandaceo @ realdonaldtrump meanwhile . china ’ bitch\n",
      "tribal gathering festival billed paradise earth loses communal luster coronavirus quarantine prevents attendees going home\n",
      "red states facing perfect storm illness death covid-19\n",
      "happens kids whod go hungry without free school lunches coronavirus closes schools ?\n",
      "chinese hospitals may cremated still living coronavirus patients  `` hands feet still moving   video clips screams coming funeral homes  inside furnaces\n",
      "quarantine really getting people . @ sruhle ’ called # deepstate\n",
      "# cnn # $ $ hole contributor # rickwilson suggests # melaniatrump  infected ’ coronavirus\n",
      " hope die long painful death ’ coronavirus  teacher comes fire lashing teens -\n",
      "bio-hazardous gear  making way dc  effffing mind-boggling ! surround motherfucking whitehouse  letem know get away shit ! damn  good 🌄 # nomoreonlineorderingforme\n",
      ". . actual . fudge . . wrong . . . people ? ! ?\n",
      "coronavirus pandemic teaching us valuable lessons managing pandemics . ’ prepare next big one .\n",
      ". @ potus yall thought messing spongebob reruns outperforming @ cnn nope 🤣🤣🤣🤣🤣🤣🤣 # coronavirus # trumppressbriefing\n",
      "@ repmarkmeadows obama ! !\n",
      "voters dont want medicare  well reap sow . # supertuesday\n",
      "@ seanmac18402014 @ salthigh @ msnbc everything said far utter nonsense  everybody thread dumber read bullshit . lost long back . took money pocket conned  youre dancing\n",
      "irs audit small business relief loans $ 2 million granting forgiveness\n",
      "wow ! wow !\n",
      "@ supergi05087073 @ candielittle @ davidmweissman @ judgejeanine @ joebiden left one ignores reason science .\n",
      "@ rudygiuliani obama administration granted wuhan laboratory $ 3.7 million research 2015 via national institutes health  rep. matt gaetz ( r-fla. ) revealed last week . # the200 president 2017 # voterid # coronavirus # wuhan # nih # fauci #\n",
      "wonder call # fakenews ? @ cbs even bother research story making woman nurse poster girl . end # journalism know . # tuesdaythoughts # tuesdayvibes # coronavirus\n",
      "oh feel much safer . 😒\n",
      "look face lies .... amazing eyes dont blink . oh wait - plastic surgeon good job . liar\n",
      "@ slashdot seems pretty proved ...\n",
      "cnn ’ chris cuomo tests positive coronavirus\n",
      "@ thunderbirds511 @ girlsreallyrule ’ article \n",
      "mortgage relief phase-4 # coronavirus stimulus  payments missed create sub-mortgage interest-free . pay-off mortgage  kicks . # non_banks lot mortgage lending  must provide mechanism  destroy mortgage industry\n",
      "real shit kids .\n",
      "kinda amazing guy ( @ realdonaldtrump )  whose actual `` death panel  decided sacrifice thousands american lives  reelection  audacity accuse ny governor creating  death panels ’ fox coronavirus rant\n",
      "coronavirus  protect deadly disease -\n",
      "interesting story .\n",
      "@ deanobeidallah 5 tests clinic ... waived test could go someone else . young . unique story .\n",
      "seth macfarlane says ’ convinced coronavirus ’  hoax ’ also jump climate change bandwagon\n",
      "coronavirus shows insanity green movement reusable cups replaced cleaner  disposable cups\n",
      "newly released email shows seemingly ignored coronavirus warning december\n",
      "globalist gates ! praises china response wuhan virus  yet trashes america ’ response ! believe guy  trashing country made billions ! super bowl selfish creep ! ’ get day .\n",
      "@ govbilllee ky & tn first cases diagnosed day . kentucky immediately shut . 63 cases . lee shut state . tn 233 cases counting . enough governor .\n",
      "logical way think chinese company huawei ’ coughing info communist chinese govt .\n",
      "\n",
      "incumbent upon usa citizens & citizens world read/learn info released sources china govt wuhan creative ctr virus-deal w cures=myview=new evidence suggesting covid-19 came wuhan virology lab hard ignore\n",
      "“ speaking combat deadly virus  science — politics cronyism — lead way  ” said . vaccine expert removed federal post daring criticize # coronavirus treatment pushed trump .\n",
      "hes trying distract making ignorant comments.😠smoke screen .. dont fall ! # covid19 # peoplebeforeprofit # doctorsspeakup\n",
      "@ mgrant76308 tax dollars ! @ realdonaldtrump @ realjameswoods @ mgrant76308 heres !\n",
      "@ tommykc2 @ wisconsinvotes1 @ realdonaldtrump false  didnt cut funding didnt fire personnel\n",
      " hope die long painful death ’ coronavirus  teacher comes fire lashing teens -\n",
      "newly released email shows seemingly ignored coronavirus warning december\n",
      "shocked ? one day learn much reports inflated- even one  cdc shocks everyone newly adjusted covid-19 death rate u.s.—from 60000 37000 # coronavirus exaggerations everywhere \n",
      "first us # coronavirus death near # canada  # trump confirms closing mexico border consideration\n",
      "watch live  trump coronavirus task force briefing\n",
      "strange coincidences surrounding message messenger cdc warning coronavirus\n",
      "\n",
      "@ milbank ’ lying piece crap !\n",
      "\n",
      "\n",
      "@ cllrbsilvester @ govuk ’ taken # chloroquine & # azithromycin years . # lymedisease kills immune system . 1 result multiple viruses never go away & u given safe meds years . 45 yrs # cdc=docs told ’ test use lyme\n",
      "\n",
      "maybe voters educating history human behavior .\n",
      "hide true numbers fatalities covid19 .\n",
      "whitmer\n",
      "’ funny says “ threatens tank ” it😂 late @ senatorloeffler ... ship sailed ! totally might worked post-facemask / pre-bodybag ? keep stolen money ... ’ gon na need ! !\n",
      "atf allow gun stores offer drive-up windows conduct business parking lots coronavirus pandemic\n",
      "trump  white house coronavirus task force release plan reopen country ( video )\n",
      "\n",
      "“ great one ” @ marklevinshow lets @ wolfblitzer aka blitzed  ! priceless ! ! 🚫 @ cnn !\n",
      "@ replouiegohmert peoples lively hoods well hands . blood people go bankrupt die decision hands .\n",
      "@ mitchellvii ’ lied .\n",
      "california ’ newsom announces $ 125m fund give coronavirus stimulus checks immigrants state illegally\n",
      "barack obama goes golfing country club day michelle urged african americans stay home coronavirus pandemic . drove 45 minutes get - non-essential travel .\n",
      "oh ffs ... judge needs removed seat . ’ highly unconstitutional ...\n",
      "like people didnt know hes always .\n",
      "@ openoutcrier\n",
      "@ acksound video show much lies . halfway montage press conf ’ 1/20 3/17/2020 actually made gasp light current lying .\n",
      "fda chief hahn brings good news coronavirus fight\n",
      "democrats blasted amendment include coronavirus relief check illegals\n",
      "becoming clear cnn living rock deserted island somewhere heat totally scorched brains . cnn host compares president trump north korean dictator kim jong un coronavirus\n",
      "\n",
      "paying attention yet ? ? 😐😐😐\n",
      "exclusive  fake iphones china trade deal could help trump drop hammer amazon\n",
      "pelosi congratulates democrats blocking billions small business coronavirus relief funding\n",
      "dr. fauci coronavirus pandemic   going bad week . ’\n",
      "crazy physical form\n",
      "officials back enforcing coronavirus orders defiant texas restaurant owner\n",
      "money coming americans ! hang !\n",
      "emergency field hospital dismantled treating zero coronavirus patients\n",
      "cant wait pence placed quarantine  maybe start believing science !\n",
      "remember apocalyptic imperial college study everybody sharing last week ? yea  ...\n",
      "dems took 3 years impeach president trump 3 months say didnt properly handle corona virus . libs take pride getting rid native american image butter . money time well spent .\n",
      "democrats lied people died .\n",
      "rt @ kemppam  @ yamiche case anyone missed \n",
      "china lifts lockdown restrictions wuhan 76 days .\n",
      "cia looking chinas data\n",
      "n germany flying swastika get arrested statues hitler . us flying confederate flag & statues people killed millions blacks totally cool.-\n",
      "\n",
      "normal life hold many people around world  war machine showing signs slowing . somalia  americans ’ even realize military operations taking place  u.s.-led airstrikes hit all-time high\n",
      "new studys shows corona may contagious less virulent . means let young healthy go back work protect elderly comorbities .\n",
      "former secretary state hillary clinton said coronavirus would “ terrible crisis waste ” tuesday virtual appearance former vice president joe biden . says democrats use crisis push universal health care\n",
      "facts sweden battling corona virus pandemic\n",
      "doctors making life-and-death choices coronavirus patients – could long-term consequences -\n",
      "hong kong uses coronavirus quarantine arrest pro-democracy citizens\n",
      "despite coronavirus pandemic  administration still executing immigration customs enforcement ’ air operations flights — chagrin central american governments . bad . send back .\n",
      "study  action china would curbed coronavirus cases 95 %\n",
      "@ tedcruz ’ pro-beijing outlet phoenix tv made white house coronavirus press briefing @ peterjhasson\n",
      "1478332rep . ilhan omar fixes coronavirus aid headline  replaces  illegal immigrants ’  american taxpayers ’\n",
      "\n",
      "\n",
      "cant wait tender lil # maga rubes get offended . hopefully anger leads rage-drinking disinfectants . # trumpviruscoverup # coronavirus\n",
      "class-action suit demands $ 20 trillion china coronavirus damages\n",
      "check police state ⬇️\n",
      "academics offered chance sign professors ’ open letter networks petitioning end live coverage coronavirus pressers\n",
      "even traumatized fighting anxiety see “ slow drag ” move . time ! looking pic ’ ’ shout mother % & * % ! r  `` makes day  .\n",
      "california gov . newsom sees coronavirus opportunity usher new   progressive era ’ # ricothedems # arrestthemallnow # impeachobamasjudges\n",
      "\n",
      "@ cbsthismorning @ mikegeorgecbs herd immunity way forward .\n",
      "anti-vaccine group childrens health defense  whose founder spokesman robert f. kennedy jr.  says governments corporations using coronavirus advance `` global immunization agenda . \n",
      "white house # coronavirus task force coordinator dr. # deborahbirx sunday downplayed president # donaldtrump ’ suggestion sunlight disinfectant could injected people # covid19 virus .\n",
      "much # thesouth  already little  late\n",
      "nyc er doctor - frontlines speaking  beginning ...\n",
      "\n",
      "snowden  governments using pandemic build “ architecture oppression ” surveillance\n",
      "@ representmeaz coronavirus  american prosperity ’ opposition health care poor & working poor remains resolute . much spend # darkmoney help @ senmcsallyaz & @ dougducey get elected ? # peopleoverprofits # publichealth # co\n",
      "@ nhannahjones yep ... suffering every level . even death\n",
      "all-too-rare thing trump administration public servant prepared strand facts  criminally negligent president . # drfauci # covidiotinchief # coronavirus\n",
      "teach asymptomatic people job cant hard ... pay hazard pay .\n",
      "biden  coronavirus wake-up call act climate change  push climate justice\n",
      "joke  yall . leader nc anti-lockdown protest tested positive # covid19 virus . 56000 fellow americans died . need stop spread .\n",
      "🐀s grow restless searching life preservers  trumps titanic beginning sink eyes . 👇👇👇👇👇👇👇👇👇🔥🔥🔥🔥🔥🔥🔥🔥🔥\n",
      "man twin died 100 years apart  two different pandemics\n",
      "shame cant cure stupid . possible one would shown .\n",
      "fast-growing crisis .\n",
      "coronavirus task force believes lives could saved trump acted sooner  report\n",
      "@ timjacobwise thats us chamber commerce told time \n",
      "@ wyllys007 saint fauci january 21st “ american ’ nothing worry . ”\n",
      "coronavirus isolation day 15 update  college football hangs balance  beers ready cracked keep spirits high\n",
      "left-wing uk mayor says boris johnson completely deserves coronavirus — pays big price deeply offensive remarks whip comes 👇🏽👇🏽👇🏽👇🏽👇🏽\n",
      "pentagon  abcs bombshell report trump admin knew coronavirus november correct - wnd\n",
      "coronavirus vaccine could ready september  says oxford scientists -\n",
      "chloroquine known effective coronavirus since 2005\n",
      "spoke @ dailycaller importance investigating china ’ influence @ dangerous consequences # coronavirus pandemic home . watch \n",
      "watch  whistleblowers “ silenced ” china claim country could stopped coronavirus spread\n",
      "rapture do-it-yourselfers .\n",
      "thanks  nerds us health bureaucrats prioritized frivolous research coronavirus warning\n",
      "best news read today  `` biden ... appoint inspector general review every coronavirus relief transaction currently evading serious scrutiny . wasteful  corrupt deals giveaways rooted undone .  op-ed joe biden/elizabeth warren\n",
      "hospital beds empty corona virus numbers expected . governors slow open states ?\n",
      "looks like suffering another stroke\n",
      "terrible . prime example misuse power & bad apples . damn crying shame . # coronavirus gone far .\n",
      "oh yah .... corona toes .... dam stupid ! ! ! drug overdose  head trauma deaths added coronavirus death toll\n",
      "obviously .... ’ first clue .\n",
      "king county followup covid-19 announcement\n",
      "kennedy center finally agrees pay musicians backlash receiving millions coronavirus relief\n",
      "coronavirus  health care democratic socialism\n",
      "crazy birds feather ... roy moore steps help louisiana pastor arrested refusing obey coronavirus lockdown orders -\n",
      "elon musk says ’ surprised  cnn still exists ’ article alleges ’ deliver promised ventilators # smartnews\n",
      "veritas video  nyc funeral directors doubt accuracy coronavirus fatality count\n",
      " ’ think sooooo ’  raise hand buy cbs news ’ explanation airing italian hospital footage story covid19 new york\n",
      "dr anthony fauci reappears coronavirus task force briefing — mysterious absence monday -\n",
      "police threaten  arrest north carolina protesters demanding america reopen\n",
      "n.j. ’ state-run coronavirus testing site hits capacity less 1 hour\n",
      "many u.s. die coronavirus ? dr. fauci predicts astonishing number\n",
      "time ’ ! 😡\n",
      "avenatti run ? passport . recognizable . assets frozen . carlos ghosn .\n",
      "must watch ! 👇👇👇\n",
      " re-opening economy  dont know whos worse  @ foxnews irresponsible anchors @ seanhannity & @ ingrahamangle ( arent guys already getting sued ? @ realdonaldtrump  lets fox advise intelligence science  crackpot faux-christians ?\n",
      "@ joaquincastrotx want punch ? know .\n",
      "\n",
      "colossal idiots climb power ? `` one two much drink lowered immune system . diminished immune systems got problem . ”\n",
      "\n",
      "doctors growing confident coronavirus hits children less hard adults  ’ even evidence may less likely catch virus first place — would make unlikely spread pandemic\n",
      "@ waltshaub @ mshouston result fascism = govt + big business ( colluded oppress people & overthrow democracy ) . critical mass folks coming together change . need unite  boycott  strike & unionize ! demand congre\n",
      "free coronavirus tests available detroit residents today  appointment insurance required\n",
      "@ joaquincastrotx hey crap brains ... illegal aliens american citizens ... hard understand ... always go back home get ever stimulus home country offering ... shut yap catro ...\n",
      "really like style  matt  lost one .\n",
      "people zero faith media ..... # fakenews .\n",
      "renters still left cold despite temporary coronavirus protection – raw story\n",
      "⁦ @ realdonaldtrump⁩ ripped late night removal watchdog reported # covid19 failures   another friday night assassination ’ –\n",
      "treatment  vaccine  political story could best news day\n",
      "coronavirus lead martial law ?\n",
      "study finds chinese social media apps censoring coronavirus info months\n",
      "week website launch  asian americans report 650 racist acts related coronavirus\n",
      "diaz  europe seen pandemics like coronavirus\n",
      "peculiar math pennsylvania .. wonder dead voters counts ... sayin\n",
      "exploiting virus remake economy ? # wwg1wga # coronavirus # usacorporation\n",
      "# fda fast-tracks promising # antibody # covid19 treatment\n",
      "love state much ! # wwg1wga # savethechildren # colorado # vaccine # billgates\n",
      "immoral profiteering time plague ?\n",
      "’ dr. birx 2 minutes must-watch video yesterday ’ coronavirus briefing cnn msnbc ’ show\n",
      "airline conducts covid-19 blood tests passengers\n",
      "lol blame game started fetch popcorn\n",
      "spell obnoxious - pbs .\n",
      "butt glows dark ...\n",
      "@ royblunt true ? would super cool would # townhall  anywhere  # missouri .\n",
      "brain  heart !\n",
      "china exonerates doctor silenced trying warn coronavirus\n",
      "@ erikbryn please allow help prove point . heres governor 🤦🏻‍♀️👇🏻🤦🏻‍♀️\n",
      "@ kparsons60 @ amy_siskind light reading ...\n",
      "soooo sad  yet heartfelt .\n",
      "hopes wishes critics haters  made 28th birthday . sorry disappoint ! also  respect guys didnt take days wwii coronavirus pandemic  taking birthday .\n",
      "@ ilhanmn continues zealously represent criminals & terrorists usa - demands ban deportations ( note  also watching . knows shes list ) @ cbp @ icegov\n",
      "abortion funding  surveillance  mail-in voting  progressives unveil wish list next coronavirus stimulus bill\n",
      "@ xbigskyguy1 @ lisasyoga @ 37mediagroup @ hollywoodkhan_ @ barackobama perhaps ’ like real conservative rag source \n",
      "@ realdonaldtrump mr. president  following link informative .\n",
      "@ wsj month late europe already reporting .\n",
      "hand em . `` response social distancing  las vegas strip club opens drive-thru  # coronavirus # wuhancoronavirus # lasvegaslockdown\n",
      "something brought several tweets ago  numbers accurate inflated . news agencies looking ? otherwise youre better going propaganda machine panic machine  job media !\n",
      "really like @ thejusticedept # billbarr\n",
      "germ warfare proxy purposely hold back life curing medicine . war crime .\n",
      "& # 039 two $ 1 trillion coins & # 039  rashida tlaib proposal calls us treasury fund coronavirus recovery us mint\n",
      "theyve got nikki haley warming vp bullpen . # pencedemic # covidー19 # covid # quarantinepence\n",
      "nyc mayor asks people text cops photos anyone following coronavirus rules—twitter user reported mayor de blasio\n",
      "another idiot trumpster fox ’ lou dobbs mulls war china coronavirus `` biological weapon \n",
      "stage 2 coronavirus war  anyone know comes next ? `` even experts dont quite understand nature virus respond . \n",
      "witch right !\n",
      "nyc er doctor  `` ’ worked coronavirus front line — say ’ time start opening \n",
      "leftie lying  . seth macfarlane says ’ convinced coronavirus ’  hoax ’ also jump climate change bandwagon\n",
      "put 100 bucks vegas `` syphilis  . odds acceptable .\n",
      "china eventually needs sanctions initial misinformation . right  need start planning manufacture drugs med supplies never position relying china anyone else .\n",
      "government agency headed dr. fauci warned public warning hydroxychloroquine take said drug carries `` potential toxicities  . @ realdonaldtrump\n",
      "british virus death toll world ’ third-worst  britain ’ death toll coronavirus outbreak jumped 26097 wednesday — second-highest europe behind italy third-highest world — government took account…\n",
      "ttrump intent putting peoples lives jeopardy ! rump announces  light end tunnel ’ coronavirus outbreak   want open country ’\n",
      "\n",
      "’ hold breath twitter go chicoms spreading covid19 lies ( sure  ’ misgender anyone ’ )\n",
      "due coronavirus  turkey boasts one worlds new superpowers\n",
      "donald drumpfs needs coronavirus scapegoat — right ’ china -\n",
      "florida blocking medical examiners releasing # covid19 death totals\n",
      "@ salliesoapbox @ pahousedems @ @ drtedros @ governortomwolf @ secretarylevine # taiwan warned # china virus spreading dec  19 . response ? deny  obfuscate  lie ! # newworldorderhoaxvirus\n",
      " ’ think sooooo ’  raise hand buy cbs news ’ explanation airing italian hospital footage story covid19 new york\n",
      "@ abc abc  liars fake news !\n",
      "coronavirus waking world china ’ communist regime\n",
      "state local governments clamor trump finally lead coronavirus\n",
      "dear # maga liberals want take # covid19 seriously die . youre liberals want .\n",
      "@ misenate @ govwhitmer tests ?\n",
      "@ pjmedia_com id rather die live uns  whos  globalist ( like soros ) foot upon throat  submit sharia law oppressions\n",
      "sens . grassley cassidy  ounce coronavirus prevention worth pound cure\n",
      "government protecting  ?\n",
      "“ genius “ coronavirus ? antibiotic ? talking virus ? “ ... one biggest problems world germ gotten brilliant antibiotic ’ keep  ... ” ⁦ @ schneiderleonid⁩ ⁦ @ smutclyde⁩\n",
      "well within capabilities  dr. robert epstein stop coronavirus\n",
      "\n",
      "one saw coming 🙄\n",
      "pelosi congratulates democrats blocking billions small business coronavirus relief funding\n",
      "» chinas factory activity slumps february weakest reading record  private survey shows\n",
      "love lead\n",
      "good work trump team‼️renowned infectious disease specialist dr. stephen smith said seen 100 % success treatment 72 seriously ill # covid19 patients drugs touted white house  hydroxychloroquine azithromycin . # coronavirus\n",
      "oh boy ... # sxsw canceled .\n",
      "youtube suppress content spreading # coronavirus # 5g conspiracy theory\n",
      "@ senmcsallyaz\n",
      " keeping classy ’  dem sen. bob casey uses covid19 push — else ? — gun control\n",
      "good article guy way smarter # covid19\n",
      "online site covid act gave wildly exaggerated predictions new cases . ny predicted 5400 would hospitalized march 19. actual number around 750. site run dem activists want `` drive fast action .  data used officials .\n",
      "@ jurassic_parkin gets home  still ....\n",
      "someone going prison ! perp walk donkey !\n",
      "china leveraging disinformation campaign blame u.s. coronavirus\n",
      "# democrats # cnn & # fakenewsmedia downplay # china & # role virus spread . 1000s died . # democratsaredestroyingamerica # china # day19oflockdown # breaking # kag2020 chief said february coronavirus could  controlled easily ’\n",
      "democraps probably filled agenda pork ridiculous requests like $ 25 million kennedy center . # kag2020 # kag # maga # maga2020 # trump2020 # americafirst # nra # israel # q # flynn # potus # nra # patriot # freespeech # walkaway # deplorable\n",
      "cant good ...................... new york ’ bronx zoo tiger tests positive coronavirus developing cough\n",
      "communist china caused ! held liable entire world ! ! china outraged largest german newspaper accuses beijing “ exporting ” coronavirus pandemic ... demands €149 billion damages !\n",
      "gun-store owner relays epic stories liberals become victims gun-control laws\n",
      "theyve sifted hundreds articles pulled important developments dont .\n",
      "isnt bill oreilly near end life expectancy ?\n",
      "@ joyannreid @ kennwatley @ seemva1 tools encryption modes certifying documents  could easily done gop never allow happen forced know allowed everyone easy ac\n",
      "@ tonyfratto @ jaketapper @ rebeccaballhaus please investigate !\n",
      "@ minggao26 ’ pray everyday\n",
      "doctor los angeles reporting remarkable success treating covid-19 patients combination zinc trump-touted anti-malarial drug hydroxychloroquine .\n",
      "\n",
      "disturbing new video shows way covid-19  disease caused novel coronavirus  damages lungs\n",
      "oppose releasing criminals prison .\n",
      "indefinitely\n",
      "@ realdonaldtrump cant stand anyone smarter like tony fauci\n",
      "nutz . would insert special responces depending requests  selectively ? rt @ rawstory  fbi bans electronic foia requests due coronavirus — want people mail instead\n",
      "want know devil looks like ? # evil\n",
      "@ varsityredhead6 @ saveourlives201 @ jackposobiec except gp didnt - cbs got caught - says - oops - journalisming fast simply put wrong tape -\n",
      "well couldve seen happening ? maybe fucking everyone ? ’ 37 minutes later ’  inmates released jail due coronavirus fears keep getting arrested\n",
      "trump macron urge increased cooperation coronavirus un -\n",
      "@ realdonaldtrump @ potus wouldnt believe word said  hated new york couldnt fool always rejected !\n",
      "@ marcelsalathe @ abdulrazaq_ph coronavirus pandemic  flu jab # goodidea countries heading winter\n",
      " ’ panic ’ says us woman recovered coronavirus\n",
      "twit & exaggerator fauci needs home & bed dr. fauci touts another treatment coronavirus\n",
      "@ realdonaldtrump narcissistic little piggy . mee mee meeee ... ! away home !\n",
      "ivory coast king seeks exorcise coronavirus\n",
      "rep. ayanna pressley hopes next phase covid19 relief include student loan debt cancellation financial relief illegal immigrants\n",
      "beaumont mayor becky ames apologized image shared across twitter  seen dipping nails bowl salon . widespread criticism towards mayor disobeying order prompted issue apology thursday .\n",
      "read deblasio corona virus ... baffled new yorkers .... bill de blasios wife case missing $ 850 million taxpayer money\n",
      "@ amlphx @ realdonaldtrump praying methodology pastor ? didnt work . wife members congregation coronavirus . dont better things pray ?\n",
      "state dept . hauled chinese ambo—then put china notice lying world  blaming america coronavirus\n",
      "young dumb .\n",
      "? democrat senators propose coronavirus stimulus bill media\n",
      "@ betoorourke numbers inflated . part cya ridiculous projections used drive us hysteria .\n",
      "abdul ’ use coronavirus closure destroy ancient israelite archaeology trying destroy israelis history\n",
      "donald trump convinced coronavirus going away  confronted reality  answers offer .\n",
      "darwin strikes 😷\n",
      "@ washingtonpost lies ignores tweets .\n",
      "“ u.s . colleges may suffer billions revenue loss due coronavirus travel restrictions ”\n",
      "new york  last state open back california ? trump  `` dont good job  going come hard  .\n",
      "@ govphilscott `` models  so-called `` experts  proven wrong . fauci & birx & proven frauds right eyes . lives businesses destroyed . stop madness ! time open vermont back !\n",
      "abc news  wrong . ncmi director  “ media reporting existence/release national center medical intelligence coronavirus-related product/assessment november 2019 correct . ncmi product exists . ”\n",
      "fauci resurfaces  nih panel recommends drug combo promoted trump covid-19\n",
      "@ quicktake propaganda ! ’ ’ menu tonight . keep mask humans\n",
      "@ annadsays hey girl  forgive im late tweet made @ twitchyteam\n",
      "report  nfl teams ’ want guys homes virtual draft coronavirus fears\n",
      "“ gets morning looks mirror  instead bald man pitted  sagging skin lifeless eyes  sees mr. handsome  swordsman bedded thousand beauties  billionaire made thousand brilliant deals . ”\n",
      "trump  data suggests u.s. passed peak coronavirus outbreak ny padding death toll\n",
      "@ gigicmka theres \n",
      "overnight news digest  covid-19 hits home\n",
      "\n",
      "lets dogs . dogs get # covid-19 .\n",
      "rotten core ..... # pelosidisgrace # pelosineedstogo # pelosiforprison\n",
      "called  good reason .\n",
      "doesnt everyday americans idiot left hollywood .\n",
      "“ earnings good  company said still expects make much total profits year predicted december ... one could predict massive loss life jobs caused coronavirus . \n",
      "elderly dui suspect spits officer arrest — claims coronavirus -\n",
      "16 million unemployed ( far ) government mandated quarantine  broader middle class working poor whose lives experience v even u shaped recovery  going ask  “ worth ? ”\n",
      "\n",
      "# hydroxychloroquine-pusher # lauraingraham attempts discredit promising new # coronavirus treatment\n",
      "never stop building wall ! america needs protected ! thank god president trump . coronavirus pandemic stopping border wall construction\n",
      "watch  trey gowdy concerned coronavirus overreach  warns could lead  involuntary ’ vaccinations\n",
      " im beginning concerned ones nashville .\n",
      "like bad movie real life . could least added dr. evil lex luther # covid19 # economy\n",
      "@ repdancrenshaw @ donaldjtrumpjr\n",
      "new experimental drug helped critically ill coronavirus patients recover `` within week \n",
      "@ realdonaldtrump @ usafirst_1 @ repdancrenshaw first case coronavirus entered us two months trump warned epidemic china november 2019. ? imagine handled ? israel nato\n",
      "@ msnbc @ nicolledwallace\n",
      "least using wooden coffins ? -idaho republican  coronavirus lockdown  different nazi germany ’ - heather scott told podcast measures put place governor little like nazi germany .\n",
      "call new york bans travel states ’ believe men using girl ’ restroom ? # covid19\n",
      "china shuts everest coronavirus\n",
      "trump ignored january coronavirus warning inner circle\n",
      "france ’ cannes film festival postponed due coronavirus outbreak -\n",
      "# g7 leaders call investigation # worldhealthorganisation backing @ potus @ realdonaldtrump lies cover-up # chinacoronavirus # covid19 # covid_19\n",
      "\n",
      "errors: 740\n",
      "\n",
      "NotClickbait examples were mistakenly predicted as Clickbait\n",
      "\n",
      "@ msnbc @ joenbc true black marketeers trump & gop congress . possible 1 % continues continues get $ $ real need ? people like jared kushner need $ $ govt .\n",
      "cuban  owners reopen nba without fans nba resume hosting games soon safe amid concerns coronavirus outbreak  urged mark cuban . @ nba @ rkraychik @ breitbartnews # staysafe # covid19\n",
      "@ berniesanders oh  fill skating areas  pelosi company eats ice cream  drink bugera noble gallons !\n",
      "@ mel_faith1 @ kathy_kitsona additional information\n",
      "@ kayleighmcenany bad enough @ potus handled crisis badly adds insult injury \n",
      "nurses protest outside white house trumps failure provide protective equipment amid coronavirus pandemic - pause remember 50 colleagues died virus .\n",
      "@ onetruespartan @ doorespect @ jicksack @ alwynprice21 @ ejwalsh_ed @ oflynnsocial @ isabeloakeshott memory incredibly selective  benefit government reason . similar increase rates  delayed 3 weeks co\n",
      "interesting .\n",
      "trump campaign condemns splcs fearmongering amid coronavirus\n",
      "# destructiveeffects coronavirus relief package central banks heart government mega–bailout packages . ongoing expansion money supply ’ end well\n",
      "@ alyssa_milano hey stupid  stake  lies made media buddies\n",
      "mayan high priest hokum revises coronavirus doomsday prediction\n",
      "trump chalks win  harvard blinks  university ’ accept $ 9m coronavirus relief  decisi…\n",
      "abc publishes damaging report trump coronavirus response . military official shreds .\n",
      "@ politico fucking liar ! covid-19 escaped lab .\n",
      "’ going behind scenes ......... corona pandemic raged  us house wrote bill ban `` assault weapons \n",
      "snp wont bullied delaying independence & ` give every foreigner sun vote 300 year greivence fuck ... fucking blasphamy hate crime\n",
      "normal life wont resume 2021. top scientist pandemic preparedness says wont going back daily lives theres coronavirus vaccine - could take year\n",
      "@ ohmagaman1 @ henrikbrodin @ natesilver538 exactly\n",
      "“ disinformation china put crippling responses around world .\n",
      "# bonusgift  unlawfully present foreign nationals ( # illegalaliens ) start # selfdeporting @ icegov federal detention centers  fearing # covid19 # coronavirus infection \n",
      "hey # aoc ! see  shutting economy going cause millions people starve die  especially third world . murderer . instead millions people dying  dont kill instead ? # coronavirus\n",
      " vodka kills everything ’  former cska moscow player russians ’ response coronavirus\n",
      "president trumps coronavirus report card\n",
      "99 % died virus illness  italy says\n",
      "@ govinslee\n",
      "corrupt pelosi ’ stop lying americans falsely claims “ ’ hold ’ coronavirus aid ”\n",
      "@ mjbodary trump card\n",
      "# trump # republicans trying save peoples lives  # democrats continue political games power control ... .\n",
      "“ also begs ? ’ companies working w/feds directly   holding back needed resources political reasons ? ” bidens offer help coronavirus fight makes governors job really difficult  report\n",
      "least covid19 - people would really outraged ! @ realjameswoods @ realdonaldtrump 14 shot gun-controlled chicago 24 hrs\n",
      "@ kevincarrico reselling medical equipment donated \n",
      "us stops funding un  ’ see much “ embracing ” corrupt body .\n",
      "@ mike_preston17 @ then1james @ mel_faith1 additional information\n",
      "sparkysue commented mailonline  hmmmm  doesnt really leave many us thatll survive ! ! youve got young  female  slim  white  type ...\n",
      "governor abbott outlines plans reopen texas coronavirus pandemic  “ said based advi…\n",
      "right wing extremists ? people love want keep culture . ’ let big business globalist propaganda elites muddy water .\n",
      "plague coronavirus web scammers\n",
      "@ nolagraphicsguy @ nolanews interesting read \n",
      "’ hearing via doctor friends  coronavirus particularly unkind o…\n",
      "@ ivankatrump `` dr. trumps  new cure all- inject clorox stick light ass ... … ..\n",
      "andrea mitchell blames red states coronavirus spread\n",
      "meanwhile  left pushing murder charges louisiana pastor tony spell ! spell fire one parishioners apparently died coronavirus  recently seen worshipping spell ’ church ! 😳\n",
      " invited join ’ china ’ investigation says expert\n",
      "maryland governor orders national guard protect 500000 coronavirus tests secret location flown south korea amid fears federal government try confiscate 👏🏻\n",
      "really ? ? ?\n",
      "elizabeth warren wants vote mail next coronavirus package veto bill ’ ! ⁦ @ realdonaldtrump⁩\n",
      "twitter co-founder donate $ 1bn # coronavirus relief\n",
      "stupid old bat ! @ speakerpelosi\n",
      "@ abc time get back work\n",
      "diamond & silk lose fox news gig pushing coronavirus conspiracies\n",
      "minorities overwhelmingly support immigration ban fight coronavirus  poll finds\n",
      "german health minister says coronavirus outbreak  manageable ’\n",
      "unconscionable reprehensible .\n",
      "’ connection coronavirus 5g\n",
      "“ anonymous “ aid also warned aliens hoarding toilet paper time travel back home planet ! top aide told trump january coronavirus would largest national security crisis  report # smartnews\n",
      "’ laugh costs oil .\n",
      "eu might well give theyre ahead .\n",
      " young people spared  rep. desjarlais @ desjarlaistn04\n",
      "chris cuomo inadvertently admits lying coronavirus quarantine # smartnews\n",
      "ice svu kowtows illegals  promises park near medical facilities coronavirus\n",
      "@ adamharrycassi1 @ sohotitsart @ johnall63815927 @ baletown_crawl @ worldpe56580574 @ leighgt @ becca99564437 @ phattyliva @ dawsonmdhoust @ gsawision @ rustypenny_wood @ johnmorelli_bc @ justinschafer1 @ bal4_rednirus @ monicafibonacci @ brenblake2 @ danbalkwill1 @ plhcr\n",
      "malta flag carrier set fire 80 percent pilots talks fail amid coronavirus crisis\n",
      "@ michaelcoudrey loud fat guys w guns . # michiganprotest . oh  slick guy w cap reversed left ? thats garrett soldano `` juice plus+  swindler arrested florida returned michigan rip # covidiots moron\n",
      "hope nursing home # chinavirus scandal comes cuomo starts begging federal government bail corrupt nys government . forget ever president . cuomo family political skeletons said include ny gambino mob ties . fyi .\n",
      "covid19 ass ! ! stocks best week decades\n",
      "sen. ted cruz rips nbc news parroting chinese communist propaganda # coronavirus # coronalockdown # coronavirusoubreak\n",
      "world health organization  criticism coronavirus response probably racist\n",
      "@ meat_popcicle one seems lot easier another one saw . back beginning feb. one triggered idea  `` man quick . \n",
      "@ ronmartinez @ facethenation @ londonbreed san francisco way ahead curve coronavirus @ speakerpelosi encouraging people flood china town ....\n",
      "southern anti- # coronavirus wall construction continues . # twgrp\n",
      "californias gov gavin newsom sued churches amid covid-19 orders\n",
      "coronavirus shutdown academia  dont give dime bloated college administrations trimmed\n",
      "white house blocks # fauci testifying # covid19 response - house panel spokesperson \n",
      "abc publishes damaging report trump coronavirus response . military official refutes .\n",
      "trump running carnival thieves . profiting coronavirus  killing us .\n",
      "youre sick  youre fighting life . focus wasnt fear getting . # coronavirus # faith # family # health # medical # motherhood # parenting # pregnancy # uplifting # women\n",
      "isnt convenient .\n",
      "california governor newsom compliments president trump ’ coronavirus response -\n",
      "early predict long-term political ramifications  pandemic slows country gets back work  americans definitely approve even president @ realdonaldtrump led us crisis .\n",
      "law-breaking cyclists usual ...\n",
      "scientist ?\n",
      "bombshell  u.s. intel says obama gave millions dollars wuhan lab produced coronavirus\n",
      "@ realdonaldtrump trump intentionally keeping number tests keep numbers confirmed infections . remember trump ’ allow boat dock  “ like numbers  numbers go fault\n",
      "trump alleges countries lying coronavirus numbers\n",
      " oceans vero # beach ? # florida # coronavirus @ trunews\n",
      "robert zallar awful person . truly leftist miscreant ages  ’ alone . carrier virulent disease infects nation ’ colleges . 👇\n",
      "@ joesilverman7 despite china-centric lying coronavirus  melinda gates says trump halting w.h.o . funds  makes sense  ’ announces extra $ 150m aid\n",
      "study casts doubt malaria drugs potential treating covid-19\n",
      "coronavirus shouldnt earn iran pass\n",
      "world going insane\n",
      "’ tired elected officials attacking president trump  suggesting ’ “ racist ” shutting borders china  next breath  criticizing enough control spread coronavirus america .\n",
      ". @ potus @ realdonaldtrump please make hcq  hydroxychloroquine w/ zinc  available everyone ! prevents people going hospital ! @ vp @ secazar @ hhsgov @ cdcgov @ us_fda @ jaredkushner @ gopleader @ chuckgrassley @ senjohnbarrasso @ senbillcassidy\n",
      "unbelievable !\n",
      "# california ridiculous state .\n",
      "white flight original social distancing  citing redlining/  environmental racism   aoc declares `` black brown  communities deserve coronavirus reparations\n",
      "weve viruses years # lasvegas mayor downplays # coronavirus threat pushes reopen sin city - refuses accept responsibility public safety car crash cnn interview # covidiot # coronaviruspandemic # covid19\n",
      "@ realdonaldtrump 73 % americans say # covid19 cut income-24 % say theyve significantly impacted-no one working stock market rising . corruption best # covid # covid19usa # covidiot # coronavirusinsa # corona # pandemia\n",
      "msnbc ’ nicolle wallace says  silver lining ’ coronavirus could hurt trump politically\n",
      "madness end ? billionaire trump hitting u.k. taxpayer fund staff wages # trump\n",
      "exclusive  migrant rescues 57 % texas border sector amid coronavirus\n",
      "penalty treason ?\n",
      "despairing world needs hope  christians given living hope jesus christ . filled joy peace god hope . may world see church exuding god ’ hope dark days . city set hill  let ’ shine .\n",
      "@ nato still seeks expansion # ukraine # georgia despite # coronavirus pandemic\n",
      "opinion  coronavirus ’ melt steel beams\n",
      "nominee week ...\n",
      "trump makes dnc media sit montage wrong coronavirus briefing\n",
      "nancy pelosi snaps confronted coronavirus relief cnn ’ jake tapper   calm ’\n",
      "camel toe trying get attention ... ykamala harris describes perfect coronavirus response  accidentally describing things trump ’ done\n",
      "@ txnatsecreview sizable problem single gold standard test coronavirus  every test tries validate tests also problems false positives false negatives .\n",
      "@ senatedems block $ 250b chinavirus small business loan program . accept socialist goodies upcoming bill @ potus @ senatemajldr @ gopleader revolt waiting lit . last bill enough ... knew .\n",
      "governor nevada ban use trump-touted anti-malaria drugs treat coronavirus patients ?\n",
      "🗣luckily uk left block # coronavirus 🍀 # brexitreality # brexiteers . uk believes affected recession 😂 ! # covid19pandemic\n",
      "cdc  second  dangerous coronavirus wave may hit winter\n",
      "none state ’ medical supply orders @ fema fulfilled . 😕 # kansas 😷\n",
      "@ etjamesjacob @ teamtrump @ realdonaldtrump see ? thats problem trump haters . never get facts straight !\n",
      "@ govmikedewine @ ltgovhusted  governor listens . truly listens . really listens . ......\n",
      "@ hiphopmonument_ think ignored expert . clown .\n",
      "@ davidfrum @ joe_warmington new york city mayor bill de blasio top health official telling citizens take subway attend parades months president donald trump restricted travel coronavirus-plagued china .\n",
      "united states 5x population italy\n",
      "1 % responding coronavirus\n",
      "watching nick fuentes ’ show america first  last night . exactly warning us .\n",
      "coronavirus latest  total case count reaches 27892 872 deaths ’ updated state-wise data\n",
      "@ realdonaldtrump\n",
      "2006 dubya lost republican majority congress newt gingrich handed left office democrat jackals heels 34 % approval rating trump right tell stuff bipartisanship bush political disaster\n",
      "pelosi  u.s. coronavirus crisis  largely ’ trump ’  making ’  responsible deaths\n",
      "oh hell .\n",
      "cnn ’ jim acosta complains reporters attending today ’ briefing must tested coronavirus\n",
      "trump really threaten deny coronavirus aid states sanctuary cities ?\n",
      "@ realdonaldtrump abbotts five-minute coronavirus test touted trump 85 % accurate  study finds\n",
      "enemedias dangerous virus lies parts & ii ( left behaving badly )\n",
      "woman returns hospital saved life brain # surgery help frontline # coronavirus pandemic\n",
      "influential coronavirus tracking model shows steep decline death  bed shortage projections -\n",
      "nyc adds nearly 4000 people never tested positive coronavirus death tolls\n",
      "@ govmikedewine @ dramyacton thanks leadership keeping ohio smart safe . rest naysayers  please show us credentials sound like poor guy marion .\n",
      "@ scottadamssays @ aoc tucker drove mar-a-lago & told trump take covid19 seriously herd mentality potus mind virus . tucker tripped us lock .\n",
      "covid19 ! saying weaker flu👑fam🙄 people getting kinds signs something right called pandemic ! 🙄 need distraction ? 🙄 guys felt left ? 🙄 attack guns next ? 🧐\n",
      "coronavirus strengthen trumps 2020 campaign\n",
      "abc publishes damaging report trump coronavirus response . military official shreds\n",
      "@ realdonaldtrump\n",
      "sunlight may kill coronavirus surfaces within minutes  according unpublished study carried us department homeland security .\n",
      "morning @ jwspry\n",
      "poll  donald trump tops biden better leader coronavirus pandemic\n",
      "first rikers island inmate dies coronavirus\n",
      "@ rawstory yeah ... call bullsh *\n",
      "@ tgsofl tami pentagon stepped unusual move  stated story wrong . totally false . 100 % made . `` ncmi\n",
      "# university offering free online legal consultations illegals assures aliens protection coronavirus crisis\n",
      "saudi arabia expects 200000 coronavirus cases within weeks  health minister warns\n",
      "still understand violates twitter ’ standards . work  may amazing discovery .  science medicine working hand hand  face  supposedly unique dangerous virus .\n",
      "biden  trump  coronavirus response  bizarre  -- elderly sixth graders questioning   charge \n",
      "sweet baby jesus @ barackobama proves people equal others . didnt governor # blackface @ ralphnortham enforce lockdown ? @ dinodennis6\n",
      "another leaked intel report accuses china  intentionally ’ concealing coronavirus danger hoard medical supplies\n",
      "taking step  # nancypelosi encouraging people `` outbreak   interesting encouraged come china town . know would highly infected area ?\n",
      "# covid19 expected spike d.c. ? better prepared natl guard `` title 10  orders  strict federal duty . ng activated title 32. secret national guard 👇\n",
      "trump cut daily coronavirus press briefings  making bad situation worse\n",
      "emergency report ! coronavirus hoax ends human civilization\n",
      "greta never criticized worlds biggest polluter ( china ) — unleashed plague world—but back tell west cut nose spite face . source \n",
      "nancy pelosi falsely claims president trump called coronavirus  hoax ’\n",
      "least wont need toilet paper starve ..... producers warn america facing protein shortage coronavirus era\n",
      "sheriffs fired .\n",
      "merkels stasi wants see papers .\n",
      "tweet ! ! !\n",
      "siege - social unrest unfolds frustrated americans demand reopening economy # coronavirus # coronavirusoutbreak # coronavirususa # usavirus # coronaviruseu # covid19 # outbreak # biologicalweapons # usa # maga # coronavirusnl @ grokyn1\n",
      "power  control & profit  medical freedom age coronavirus\n",
      "# donald trump bans # immigration # us # protect # jobs    executive order\n",
      "world health org ignored early warning human-to-human coronavirus transmission appease china\n",
      "critics slam trump claiming china face `` consequences  `` knowingly  unleashed coronavirus | zero hedge\n",
      "@ un @ antonioguterres @ mr. # tedros accused wrongdoing past . # coronavirus # pandemic # wuhan # テドロス # 習近平 # 武漢ウイルス # パンデミック\n",
      "demonrats give big mike 75 million tell us bedtime stories  meanwhile small businesses shuttering doors forever\n",
      "trump use defense production act order meat-processing plants stay open workers fall ill # covid19 # followthemoney\n",
      "think ’ political .\n",
      "coronavirus infections amazon warehouses may increase “ exponentially  ” warns new report\n",
      " lap dance covid-19 pandemic ’  paid-subscription porn platform onlyfans suddenly popular\n",
      "johnson & johnson ’ profit sales boosted coronavirus consumer surge\n",
      "adam schiff working alone . “ cohen impressed ... adam schiff ...  schiff gifted lawyer ... gets senate  want chief prosecutor ” ~ former defense secretary william cohen referring impeachment sham .\n",
      "perfect team enemies dancing around acting like fools working enemy @ realdonaldtrump\n",
      "@ thesun u find something really scary ....\n",
      "glyphosate-covid19 connection ? w/ dr. stephanie seneff\n",
      "medical workers subjected abuse public  accused “ spreading ” coronavirus\n",
      "@ joe_hildebrand joe vs chief medical officers commonwealth  states territories . keeping corporate editorial line .\n",
      "pelosi cnn suggested trump allowed americans return china beginning coronavirus outbreak .  shutting door ’ americans  stranding coronavirus plagued china\n",
      "china threatens eu  gag criticism beijings coronavirus lies face consequences china openly threatening eu block report alleging beijing deliberately spreading disinformation coronavirus outbreak  face consequences # covid19\n",
      "@ morningmika wrong trump ’ ppl want leading tdsers !\n",
      "dem ’ rhetoric @ realdonaldtrump ’ handling covid19 taking toll . conservatives must push back hard great prez ! # maga # kag poll  trump ’ job approval drops 6 points 43 percent\n",
      "mcconnell set clash trump pumps brakes new stimulus\n",
      "cure coronavirus freedom !\n",
      "handled bunch loud  noisy people  pumping rice stomachs . # animalrights # covid19 # coronavirus # govegan # wetmarkets # pangolin # pangolins\n",
      "first rikers island inmate dies coronavirus 273 infected prison holds 15000 inmates\n",
      "@ chriscuomo a.k.a . fredo  caught bullshit lie # covid19 # quarantine . @ cnn hires best liars  good fact even theyre job . # fakenews # msm # kag # trump2020\n",
      "pelosi trashes president trump  calls  weak leader  ’ says coronavirus reponse  failure ’\n",
      "us uk flags projected onto matterhorn swiss alps coronavirus solidarity\n",
      "trump hold coronavirus briefing white house canceled\n",
      "@ realdonaldtrump\n",
      "theory  california 10 times coronavirus cases reported - half new yorkers infected  pair scientists claim\n",
      "voluntarily ? @ paulareidcbs asked fauci  proving embarrassing moment @ realdonaldtrump wasnt one-off .\n",
      "outrage bank seizures coronavirus relief payments debt-strapped veterans usaa reverses course grabbing customers stimulus checks overdrawn accounts ...\n",
      "good know pretty much say anything claim # sarcasm afterwards .\n",
      "per reports  senior police inspector led operation nab 21 # tablighijamaat members hiding mosque mumbra  # maharashtra  tested positive # covid19 among jamaatis hiding  13 bangladeshis 8 malaysians .\n",
      "censorious morons ?\n",
      "@ thatlace @ crowislanddive1 @ govctw @ realdonaldtrump world health organization didnt downplay .\n",
      "cnn ’ brooke baldwin flattens trump supporter says ’ care gets coronavirus   ’ . fun ! ’\n",
      "donald trump announces hold world health organization funding president donald trump announced tuesday white house would put hold funding world health organization amid coronavirus crisis . “ wrong ......\n",
      "cool bro .\n",
      "@ gtconway3d could anything theory ?\n",
      "something nancy pelosi said coronavirus came back haunt\n",
      "@ acosta well  well well ! wait hear report ! ! ! waiting ! waiting ! waiting !\n",
      "@ mcphie00 @ raynman123 americans must accept hard  cold reality coronavirus outbreak intentionally used collapse u.s. economy\n",
      "nutcase msnbc host andrea mitchell criticizes red states pandemic  ignores fact 36 % cases democrat-run n.y.- # msnbc # andreamitchell # covid19 # coronavirus # coronaviruspandemic # travelban # walkaway # democratsarecorrupt # election2020 # trump2020\n",
      "india  man builds coronavirus-shaped car spread awareness\n",
      "biden  dumb  dumber comes dumbest along # dumbass\n",
      "@ andymoose @ canadianpm @ justintrudeau maybe something learn facts \n",
      "@ woodyharrelson says # 5g may tied # coronaviruspandemic # coronavirus # covid19 # coronavirustruth # covid19pandemic\n",
      "chicago mayor signs executive order giving coronavirus benefits illegal aliens @ govlightfoot ⁦ @ gavinnewsom⁩ 😡😡 wth🧐 illegals receive payments ! ! key word illegal ! ! americans first 🇺🇸🙏 ! ! u ’ give 💩 americans 🇺🇸\n",
      "new interview released tuesday  sen. @ tedcruz creates timeline lackluster democratic response early coronavirus spread details \n",
      "join herd folks ! im much conspiracy believer evidence pointing directions . nothing wouldnt defeat trump-including world wide pandemic . read think .\n",
      "@ noremorseafvet4 sure dont visit bali youre concerned hypoxia co2 intake masks ... moment sarong-wearing cops bali force locals caught without face masks push-ups street punishment\n",
      "@ the_resistor @ trish_regan @ realdonaldtrump fox business network announced friday night suspending prime time shows anchored conservative trish regan libertarian lisa kennedy montgomery divert resources coverage cor\n",
      "# awareness 😷 🇬🇧 revealed  top executive private company running ppe shambles\n",
      "really ? ? 😯\n",
      "@ bethrigby goes back . country end november 2019 prioritised general election\n",
      "worker strikes  rent strikes spreading quickly # covid19 continues — rt watching hawks\n",
      "@ jaketapper fuck ...\n",
      "media rule # 1 never make story youself ! media story “ trump mean us ! ” troll operation success # 54321 😂😷🇺🇸 obama/soros considering back-to-work orders everyone ! must prohibit watching trump briefing . # trumpmeltdown # trump2020\n",
      "melbourne scientists grow share novel coronavirus\n",
      "feds warn coronavirus scams targeting medicare recipients\n",
      "god bless people texas ....\n",
      "ok  know ’ seen pictures chinese gassing city streets structures . seen another nation using measures . read conversation covering . anyone else ?\n",
      "california governor heaps praise donald trumps virus response\n",
      "app tell youve come contact someone tested positive coronavirus . `` insist  opt-in ’ respect privacy  ’ heard . \n",
      "trust us . worst yet ahead us  director-general tedros adhanom ghebreyesus said ... lets prevent tragedy . virus many people still dont understand . trust ? us ? tedros tele ?\n",
      "trump ’ first quarter fundraising – looks like impeachment coronavirus ’ slow - imagine president could done help democrats ! -\n",
      "@ manigaultpamela @ awethor @ stevewa26749593 @ clmechman @ yahoonews office wasnt eliminated combined others reduce layers inefficiencies one list jobs either .\n",
      "floridians rush beaches hours gov . desantis gives green light reopening\n",
      "lowly brit get service socialized medicine prime minister ? boris johnson coronavirus hospitalisation   nhs saved life \n",
      "please watch  read share !\n",
      "@ misterantibully wasnt stuttering asked question  jims friend .\n",
      "duckworth accuses trump killing americans born bangkok rather respecting nation allowed settle decides play leading role attempting facilitate revolutionary transformation nation\n",
      "us officials sounded alarm # wuhanlab years # coronavirus outbreak . # chinaliedandpeopledied\n",
      "15 sideways looks ’ going coronavirus . # recap\n",
      "trump signs $ 484 billion & # 8216 phase 3.5 & # 8217 coronavirus relief law\n",
      "@ sykescharlie . @ realdonaldtrump highest gallup approval rating ever ! american people know working hard see administration everything power defeat coronavirus .\n",
      "coronavirus  cures worse disease\n",
      "looks like swedens strategy working . coronavirus infected critical mass might achieved herd immunity .\n",
      "nation vote celebrity sacrifice covid19 gods -\n",
      "@ realdonaldtrump r.i.p . woman victim trump ’ ignorance . texas trump supporter called coronavirus hoax — dead covid-19\n",
      "’ preparing people microchip implants  tennis legend marat safin shares coronavirus conspiracy theory\n",
      "moron go ! ! !\n",
      "# chennai someone worried ?\n",
      "china  expert discusses chances pandemic  cover-up ’\n",
      "keep peddling lie ? pelosi & schumer claim trump called coronavirus  hoax ’  despite debunked @ speakerpelosi @ senschumer @ realdonaldtrump @ nick_shredder\n",
      "@ therickwilson @ _rebeccamarques @ jneutron1969 coronavirus ....\n",
      "desperate buffoon reality tv . idiocracy . `` trump brags bachelor finale ratings coronavirus briefings claims 96 % approval party - deaths race past 42000  . trump  `` ’ great ratings whole life  ...\n",
      "😱😱😱😱 .... hear  jesus ! ! 😱😱😱😱bill gates touts china extreme intervention coronavirus efforts -- able crush epidemic\n",
      "us stocks end sharply 2nd straight day # coronavirus\n",
      "nwo ’ angel death evil mass murderer faux-chi .\n",
      "everything old new . weve . global pandemic  offended `` identity  group  cries `` youre stigmatizing ! `` ... countless innocents dead identity politics triumphed public safety . # chinamustpay # covid19\n",
      "majority positive coronavirus cases u.s. aircraft carrier symptom-free\n",
      "chris como cnn big mouth -- - positive covid-19\n",
      "citizen journalist named zhang zhan accused chinese government faking negative tests could clear hospitals .\n",
      "good man\n",
      "going backfire  fauci says anti-quarantine protesters could prolong shutdown . tell boss stop egging  tweeting “ free virginia  ” etc . # fauci # trump # coronavirus # covid19\n",
      "trump ignored national security councils coronavirus warning calls social distancing january  called health secretary alex azar alarmist told navarros memo .. # trump .. # gop .. # coronavirus\n",
      "biden jumps ahead trump election race amid coronavirus concerns - poll \n",
      "@ carmelastarr7 @ irishwhiskey10 @ seanhannity\n",
      "fox business  facebook removing back-to-work protest events defy coronavirus social distancing guidelines\n",
      "far national treasure  many americans tested positive # coronavirus  yet msm feels need report hype tested positive .  insert story .\n",
      "assholes disgrace america ! ! grow  shut  gtfo country ! ! ! bunch damn traitors ! ! ! 🤬🤬🤬 # fakenews # msm # msmhatesamerica # msmistheenemyofthepeople # trump # presidenttrump # whitehouse # truthbombs # wwg1wga # qanon\n",
      "government bureaucrats also exaggerating threat virus appear enjoying power control fearful people willingly handing . one “ coronavirus ” bureaucrat even told us longer go gro ...\n",
      "cnn host tries stoke fight malaria drug find virtually ny coronavirus patients doctors taking\n",
      "# moronwithamicrophone # chrismurphy rips # trump ’ # coronavirus  # ignorance ’ —  potential # deathsentence thousands ’ read # constitution  chris . # states get decide . # president discussing overriding states .\n",
      "@ registom1 @ maggienyt okay ...\n",
      "trump halts funding aiding china ’ coverup coronavirus outbreak\n",
      "corona-related ! 6 billion dollar shortfall november 19 new york state ! chy-na virus related schumer  mcconnell going walk back  mean-spirited ’ bankruptcy comments\n",
      "michigan governor considers extending coronavirus restrictions protesters\n",
      "bannon keeps stealing ideas  w/e . hes right  know . communist china hostile  active enemy engaged multi-spectrum warfare us moment .\n",
      "belarus president makes extraordinary claim no-one die coronavirus country\n",
      "ah well suppose get eu fees somewhere left\n",
      " another glaring example “ f  americans ” nancy pelosi ! wants make sure illegals still come pouring ...\n",
      "socialist\n",
      "coronavirus exposes bernie sanders socialism ......\n",
      "god  tragic . trump everyone enabled continues enable # dr.birx\n",
      "wow ... swine fever hit china well coronavirus ....\n",
      "progressive communism action .\n",
      "’ shocked- shocked learn gambling going ...\n",
      "senate greenlights $ 2t coronavirus  emergency relief ’ package sucks\n",
      "@ chriscuomo dude violated ny states essential travel policy knowingly positive corona virus .\n",
      "must read  dan crenshaw destroys wapo columnist ’ attempt  rewrite history ’ trump ’ coronavirus response -\n",
      "turning critically-ill wife onto stomach saved life coronavirus\n",
      "feels like february new york times magazine  korean-american lady writers milking google searches anti-chinese incidents worth ... - @ steve_sailer\n",
      "@ mauramoynihan1 @ nbcnews ?\n",
      "@ whitehouse @ realdonaldtrump disgraceful cry babies .....\n",
      "fauci claims ancient records indicate jesus died covid19  crucifixion\n",
      "trump campaign condemns splcs fearmongering amid coronavirus . ⁦ @ splcenter⁩ terrorist organization 😱\n",
      "@ asymmetricinfo @ booklov78 least half-dozen studies finding rate much higher reported  best known\n",
      "unfit print episode 48  trump unloads media coronavirus briefing -\n",
      "joe biden refers coronavirus  covid-9 ’\n",
      "less focus neighbour son smoking  focus washing hands .\n",
      "@ hillaryclinton @ reshmasaujani @ onwardtogether @ girlswhocode gov . cuomo admitted reason ny hit hardest `` progressive values  ......\n",
      "# newjersey democrat congressman tom malinowski @ repmalinowski thursday fantasized withholding disinfectants kentuckians order strong arm senate majority leader mitch mcconnell ( r-ky ) # coronavirus bill .\n",
      "stories trumps\n",
      "oh  mention chris cuomo ’ wife eventually tested positive coronavirus ? yeah  . sadly  cuomo ’ 14-year-old son tested positive  heartbreaking news . kid ’ rough time .\n",
      "deliberate ensure silence killing old disabled . dont want witnesses .\n",
      "hsa expansion commonsense way give citizens help  reduce taxes  let save healthcare expenses future . @ sentedcruz\n",
      "@ jen95873143 @ redheadmom8 @ 69news growing concern ’ death rate . ’ increasingly concerned 4 future fertility problems young men/teens asymptomatic mild cases & could mean future fertility . would explain\n",
      "please remove # coronavirus updates  # scab @ twitter\n",
      "@ therealwardlyon even truth would appear favor jump . # wearethesystem # wakeup\n",
      "shock video shows villawood detainees ’ new threat\n",
      "@ realdonaldtrump @ marshablackburn @ senthomtillis @ senatorburr deceitful  dishonest & fraud .\n",
      "@ robbie_irish @ factsmaga2020 @ cherryknot00 @ mjmissy @ kplorable @ mrussclarke @ jsnino2003 @ drawandstrike @ valeriejarrett @ claytravis @ potus oh ... back start entirely long tirade ... confirmed\n",
      "last ditch attempt save depleted rank  nurses told refuse treat coronavirus patient\n",
      "normal life wont resume 2021. top scientist pandemic preparedness says wont going back daily lives theres coronavirus vaccine - could take year ( c )\n",
      "@ realdonaldtrump democrat corruption . # voteredtosaveamerica2020 # trump2020 # mediaisoverparty\n",
      "@ ceebeesheart @ labounty58 @ angelwarrior321 @ countrytisothee @ kristin_everson @ dandee405 @ completelyup @ amer1patriot @ wblscott1 @ stormysusan11 @ rodeo_stadiums @ candysopinions @ steelhorseq @ gloxzone @ msnicole124 @ mipatriot13 @ saltydog_58 real danger\n",
      "nancy pelosi lost credibility . would calling # potus racist racist # americans let burn hell follow demons prowl around world looking ruin souls # covid19 # maga2020 # coronavirus\n",
      "@ worser4worser @ seanplunket heres one place ....\n",
      "@ claudiatenney @ fredakshar @ marcmolinaro @ binghamtonnow @ cranewyorkstate @ manhattan_gop @ mcaruso_cabrera working per @ cdcdirector dr robert redfield statement . # neighborshelpingneighbors # medicalstaff # social_distancing part # tog\n",
      "president zeman condemned removal monument marshal ivan konev  headed soviet troops free prague  also auschwitz nazis1945  face mask . anti-soviets  like anti-communists  radical right-wing ideology . # czechrepublic # coronavirus\n",
      "@ pinkmommy5 @ timothyhamby2 @ natalieliberty1 @ dglwade @ bamajeans24 @ spicyblond69 @ robertc0010 @ elissa0100 @ jan_aurora @ tracied51 @ inthecopa @ fight4red @ thepoisonpen1 @ dlongsamson @ gagirlxo @ rbholtz1956 @ kate__1330 @ dave87787648 @ psu1philly1 real danger\n",
      "truth charge trump  eliminated ’ white house pandemic office coronavirus\n",
      "dont believe hype .\n",
      "@ samfr @ psymonbee adults socially isolate  kids cant\n",
      "predictive programming ? internet notes eerie similarities 2012 olympics opening ceremony coronavirus pandemic\n",
      "labor sec . scalia  30 %  overstates ’ unemployment rate due coronavirus\n",
      "fact check   trump ’ call coronavirus  hoax ’\n",
      "trump threatens defund world health organization dropping ball coronavirus\n",
      "pelosi coronavirus plan  nationwide ballot harvesting 2020 election\n",
      "# firstclown @ realdonaldtrump says seen evidence # covid19 man made lab wuhan china . cia says man made ( woman made ) . evidence ( 39 year old novel ) retarded dotard loony thinks fact \n",
      "trump claims ’ discovered origin coronavirus\n",
      "ten california nurses suspended refusing care coronavirus patients werent provided n95 masks - hospital deemed unnecessary\n",
      "@ kimmiintx @ nhssabine @ billgates @ potus caught w pants  faces full egg  hands cookie jar  red-handed ! r saving face & ordered claim accident . sources tell fox news “ complicit ”\n",
      "@ bbcworld trump  doctor   clearly stated . gave therapeutic recommendations.he simply asked questions along line certain observations studies eg\n",
      "fuck\n",
      "americans may need stay home july prevent coronavirus spreading  animated notre dame graphs show\n",
      "volunteer  california first ! take every last penny  aunts !\n",
      "never left china  says uk man  matt raw  left wuhan response coronavirus outbreak . raw thought uk would learn deal virus china  says instead nothing .\n",
      "israeli survivors remember holocaust amid coronavirus quarantine\n",
      "ngo doctor  rescuing migrants important coronavirus worries\n",
      "trump announces tremendous hope coronavirus cure\n",
      "@ tedlieu @ realdonaldtrump @ reuters @ nbcnews @ politico @ washingtonpost @ nytimes @ cbsnews @ abcnews infected going enter us matter restrictions put place & would/will spread people cali\n",
      "fuck bill gates plan make money coronavirus  real reason # panicbots & lockdowns \n",
      "@ flotus @ suzydymna @ potus @ vp @ secondlady globalists still power grabs ?\n",
      "# gmb star lorraine kelly slams # ppe shortage utterly chaotic furious rant - kid could better\n",
      "trump condemns coronavirus impact black americans  still ’ mention vitamin deficiencies common among dark skin\n",
      "find tad irresponsible times . bit disgrace actually .\n",
      "rand paul returns congress beating coronavirus gives fiery speech draconian lockdown\n",
      "@ hiiammikec @ sft_asu @ realdonaldtrump dr birx said continued claims nothing . perhaps trump guilty listening experts ?\n",
      "abc publishes damaging report trump coronavirus response . military official refutes .\n",
      "trump says ’ seen evidence coronavirus emerged wuhan lab -\n",
      "@ brithume\n",
      "us coronavirus death toll doubles little week\n",
      "# coronavirus creating problems washington ’ wars ? -\n",
      "coronavirus infections amazon warehouses may increase “ exponentially  ” warns new report\n",
      "@ whitehouse trump would sacrificed desire re-election touting economy american lives would celebrating bit better .\n",
      "laura ingraham says many people willing get coronavirus order open economy\n",
      "though failing virus trump says hotels get government bailout\n",
      "@ voachinese freedom speech america ?\n",
      "coronavirus  trump ridicules george w. bush\n",
      "say fact jack ...\n",
      "f * ck ! id rather get stimulus check means funding @ thedemocrats pork ! disgusting shows dont give damn us . cheating win next election . thats tax money ! dont sign anything like @ potus\n",
      "india  man builds coronavirus-shaped car spread awareness\n",
      "another sick sign ⁦ @ nygovcuomo⁩ nut job . fakes death # ’ fed 💵 morbid recognition ? ’ think nyc city suffering ! stfu cuomo  ’ annoying . take nipple rings & shove throat to🛑talking !\n",
      "« price victory good necessary war kill virus ? american lost pandemic  1000 americans lost jobs conscious deliberate decisions president 50 governors. » — pat buchanan\n",
      "@ seanhannity breaking  gop stimulus favors ultra rich like sean .\n",
      "wtf  perhaps made trips chy-nah  hunter biden tagged along  porque ?\n",
      "power bug ? ? ? insignificant feel ? ? ?\n",
      "ny times sunk pushing insane conspiracy theories trump  profiting ’ coronavirus\n",
      "@ sam_vinograd maybe try aussies think ? looks like rational thought process something cnn skippy trudeau know nothing coming guy knows black face !\n",
      "researcher says actual coronavirus death rate likely ¾ 1 % - full measure sharyl attkisson\n",
      "@ beach_jm @ adhocoutchea yeah literally talks reporters . reason female reporter oann room invites . press corp tried kick . must suck dumb @ adhocoutche\n",
      "trump ignored national security councils coronavirus warning calls social distancing january  called health secretary alex azar alarmist told navarros memo .. # trump .. # gop .. # coronavirus\n",
      "despite six week mandated nationwide coronavirus lockdown  broad protests gripped parts venezuela amid crippling food fuel shortages .\n",
      "⁦ @ therickwilson⁩ put ? oh yeah  everything @ realdonaldtrump touches dies ! ! !\n",
      "@ obamamalik next could worse  since orgins # covid19 hit dangerously close home . could next ?\n",
      "@ realdonaldtrump disgraceful fault\n",
      "@ doctorbarnes1 @ roypentland @ fishyfish67 @ magickey43price @ markp1950 @ istacks2020 @ manifesto2000 @ no2wind @ martinbrampton @ joshsehn @ ianbrow97534170 @ edavidan @ tom_alban @ barbarajdurkin @ vkindopp @ reddragonfly19 @ bettymatt1 @ 0sundance @ friendsoscience @ se\n",
      "heres  jesus image showing trees ?\n",
      "@ andycorneys @ carolecadwalla advisers advise  politicians make decisions  including hire advisers . buck stops # liarjohnson\n",
      "clearly astonished rush limbaugh warned listeners thursday america headed another great depression economy contracts due shutdowns response coronavirus crisis . please follow @ rickster_75\n",
      "leaders communities  see veteran candidates helping tough times pursue secondservice ! interested starting # secondservice ? check veterans campaign !\n",
      "coronavirus pandemic  trump warns china consequences found responsible covid-19\n",
      "hhs suddenly replaces director key agency overseeing coronavirus vaccine drug development reports personal disputes trump administration officials\n",
      "@ mathewsdomingo @ acosta nope  didnt .\n",
      "absolutely insane entities conspired frame @ potus russian collaborator . dont believe sons bitches.they go hell take chicoms .\n",
      "@ realdonaldtrump wtf wrong ? ?\n",
      "confusion quality collaboration wont miss \n",
      "medical system covid-19 . performed ( failed ) virus epidemics .\n",
      "# realdonaldtrump # foxnews # cnn # election2020 # gop # democrats # coronavirus # covid19 # coronavirusoutbreak # stayhomesavelives # stayhome 14 year old girl creepy joe\n",
      "poll  donald trump tops biden better leader coronavirus pandemic\n",
      "@ acosta jim  study shows coronavirus attacks testicles .... got nothing worry .\n",
      "@ chezshay2 @ abqjournal many decisions # wuhanlujan survive # judicialscrutiny .\n",
      "elizabeth warren ’ oldest brother  republican vietnam veteran  dies coronavirus age 86 ! 🙄🙄🙄\n",
      "@ mrjamesob didnt take long turn ..\n",
      "bernie roll take like always .\n",
      "famous criminal # billgates `` paid reputation laundering \n",
      "@ wrenchheadkc3 @ sjpfish @ meettheauthor @ realdonaldtrump beginning .\n",
      "@ nanotechexec @ liebustersleuth people lost minds . 2020 cant wait find ways kill people .\n",
      "trump threatens defund world health organization dropping ball coronavirus\n",
      "@ carmelastarr7 @ irishwhiskey10 @ seanhannity\n",
      "clean act ! tech ’ answers hand-washing solution stopping covid-19 — rt world news\n",
      "hahahaha ..... difference us ..... never tire whinning never tire winning ! pelosi  u.s. coronavirus crisis  largely ’ trump ’  making ’  responsible deaths\n",
      "@ afp well  suppose depends get information ( lack  @ afp )\n",
      "irony  dumping airline stocks  sitting atop mountain cash “ ’ find good deals ” stock market even right  warren buffett urges americans buy u.s. stocks ! $ ual $ dal $ luv\n",
      "mean say ? `` one man dies corona  tragedy . millions die # coronavirus  ’ badly reported statistics . \n",
      "say  australians mince words . # coronavirus # covid19 # australialockdown\n",
      "early coronavirus victims save economy\n",
      "church leader says coronavirus work satan sign world strayed god says christians protected virus .\n",
      "@ alyssa_milano @ lindseygrahamsc saw @ maddow last night  tested pregnant women nyc  full one sixth tested positive covid19 ☠️ two asymptomatic . one anecdotal example shows ’ know\n",
      "coronavirus may disrupt f-35 deliveries  lockheed martin cfo says\n",
      "opinion poll  story sway support oppose current stay home-stay safe orders across country ? think reopening florida  georgia texas negatively impact efforts mitigate spread virus .\n",
      "people literally insane .\n",
      "@ bennydoda01 @ haxton_maria @ officialmcafee\n",
      "kimberly guilfoyle  trump unites private  public sectors virus # coronavirus # covid19\n",
      "mark cuban slams feds  hiring unemployed ’  fight coronavirus ’ ? - baseball bats - basketballs ?\n",
      "@ thesheepsaybaa @ emilyrobia realize thats march 14th considering crowd vid shouldnt mass outbreak now— cdc downgraded 3 times last week \n",
      "gavin newsom allows voting mail protect californians coronavirus\n",
      "@ johncardillo @ govwhitmer worries . ’ let buy lotto ticket .\n",
      "# coronavirus really # causing # food supply # chain # break ? ’ experts say — economic collapse 2020\n",
      "trump signs $ 484 billion phase 3.5 coronavirus relief law\n",
      "trump  death rate coronavirus china  far higher u.s . ’\n",
      "@ proeutroll @ vonderleyen turn 😉😂 ouch ! ! 😢\n",
      "ure treat advice !\n",
      "two websites leading chinese universities appear recently published removed pages reference new policy requiring academic papers dealing covid-19 undergo extra vetting submitted publication .\n",
      "knights columbus launched multi-million-dollar food drive tuesday  mobilizing 1.25 million members aid food banks 20 cities coronavirus crisis .\n",
      "russia ’ minister construction housing  well deputy  hospitalized coronavirus . comes day pm mikhail mishustin informed president admitted hospital due covid-19 .\n",
      "warren  samantha bee mock ted cruz coronavirus\n",
      "nothing suspect 🤦‍♂️ `` medical experts wanted recommend travel bans nations help stop spread # coronavirus early days pandemic . ( ) bureaucrats stopped . \n",
      "hancock says precious personal protective equipment wasted  new guidelines issued .\n",
      "china held liable losses incurred due coronavirus ? reparations ?\n",
      "unemployment 20 % soon . really feel bad losing jobs atm .\n",
      ". @ governorva shuts state  killing thousands jobs get nowhere testing ? # fail\n",
      "# coronavirus  4 tablighi indonesian couples remanded custody tn indulging religious propagation\n",
      "@ speakerpelosi @ senschumer - 2 worthless democrats . news flash useless  cant wait november beat like much deserve landslide trumps victory . also  come reelection  paid .\n",
      "mitch mcconnell slams states looking use coronavirus relief bailout  go bankrupt\n",
      "@ brithume good doctor prophetic 2017 prediction trump confronting pandemic ? heres \n",
      "quarantining healthy people ’ answer .\n",
      "@ nlightenmeup @ jt92633754 @ catturd2 @ gatewaypundit @ speakerpelosi @ cspan @ nlightenmeup video potus answering jonathan karl  asking  “ injecting bleach & isopropyl alcohol ! ” liberal heads explode ! ! ! white house blasts establishment\n",
      "tesco makes important changes delivery slots amid coronavirus crisis\n",
      "@ matthewleemur @ staymadboi @ embeeedet @ cgtnofficial whatever  u wont believe data ccp  cuz u believe shit like\n",
      "tests  @ realdonaldtrump ? # covid19\n",
      "coronavirus kills seniors coronavirus lockdown kills kids  issues & insights finds multipl…\n",
      "⁦ @ who⁩ ! act ’ talk ?\n",
      "big trouble  microsoft co-founder bill gates warns coronavirus testing must improve\n",
      "hes right !\n",
      "story posted political friend & ally # rva stand @ australiaun @ asdgov @ 911corlebra777\n",
      "seems correct thing . lets hope ! ! !\n",
      "@ trumpcokehabit @ thehill @ ingrahamangle tell ... 2 weeks cracks # coronavirus # hoax would inescapable . know ?\n",
      "covid-19  global caseload exceeds 1.84mn italy  france deaths downward trend\n",
      "miss racing everyday  lewis hamilton admits big void left life f1 suspended due coronavirus pandemic f1 calendar decimated due coronavirus outbreak\n",
      "coronavirus providence god\n",
      "horrific moment man throws 40 punches homeless asian victim blames starting coronavirus pandemic fellow ny subway passengers fail intervene\n",
      "cdc director says death toll much much much lower predicted ( bat flu covid19 ) uh huh .... yup ... claim social distancing ... grocery store clerks gloves mask sick ?\n",
      "never sick & / would never die easily ! 👑fam ! 🙄this politician ! 🧐🧐 dont die viruses etc . 🙄😬 .\n",
      "looks like cure might worse disease . people take hope god put fallible things ... need point toward god hope gospel !\n",
      "@ faytuks @ ap interesting ..\n",
      "trudeaus china ... knows think ... hiding ? ? ?\n",
      "@ tonyhwindsor @ bridgetoflynn brother  chris  also reckoned . found amazingly good formidable anchor interviewer cnn us last year .\n",
      "“ furious trump hints withholding coronavirus aid mutinous governors nys cuomo calls schizophrenic risking constitutional crisis behaving like king claiming total power reopen country ”\n",
      "whats ? chinese government blaming virus nba maybe ? chy-na stabs em back loyalty . # trumprocks\n",
      "significant number poor vulnerable families uk suffering food insecurity schools closed due covid-19 pandemic  new report said . # coronarvirus show us bad behind curtains families . 😥\n",
      "restaurant air con spread virus one diner nine others\n",
      "@ davidasinclair wonder scientist involved fudging numbers ?\n",
      "los angeles  california — hundreds protesters gathered los angeles city hall friday oppose gov . gavin newsom ’ coronavirus stay-at-home orders demand economy re-opened . please follow @ rickster_75\n",
      "get rid . cry babies cant mik system much . got heads half time . makes angry people always get want yet others wait go without .\n",
      "nancy pelosi  next coronavirus relief bill $ 1 trillion\n",
      "’ watch ⁦ @ flotus⁩ reason  )\n",
      "rspca inspector talks picking dog owners self-isolate\n",
      "trump rips george w. bush former president called end partisanship amid coronavirus\n",
      "@ fabiolasantiago wtf wrong ethics morals ? !\n",
      "fantastic article # coronavirusoutbreak ... must read everyone . @ theachilles360 👏\n",
      "director general tedros adhanom ghebreyesus accused cozy china past .\n",
      "@ realdonaldtrump covid19 pandemic # livemilitaryexercise  hasnt lockdown ended ? ? ? didnt b.c end month ago ? ? ?\n",
      "poll  majority floridians approve desantis  handling coronavirus\n",
      "😁😁👍 lets hope continues going 🤞\n",
      "says china blocking investigation coronavirus origin\n",
      "known new virus  & checked individuals pcr tests  number total deaths due “ influenza-like illness ” would seem unusual year .  might casually noted flu season ...\n",
      "actor sean penn helping set coronavirus testing sites los angeles\n",
      "world must beat covid-19 stay united beat another china virus\n",
      "“ people public must mask nose covering must wear situation maintaining social distancing  ” # coronaviruspandemic # covid19\n",
      "another enquiry adam schitt ! ! beyond anything done treason . c suckers going far . honor democrat party anymore . democrats cnn  abc . cbs  pmsnbc  nbc enemies american people . period\n",
      "@ realdonaldtrump pay attention prevent spread # coronavirus # covid . distract everyones attention failure. # trumppandemic # trumpliedpeopledied\n",
      "us stocks rise despite growing risks global economy coronavirus outbreak\n",
      "apple google join forces track movements coronavirus\n",
      "@ realdonaldtrump\n",
      "president trump found cure ? ? ? seems ! ! !\n",
      "roseanne barr reemerges claim coronavirus ploy  get rid ’ generation\n",
      "# centerfordiseasecontrol # hydroxychloriquine # lupus _dailymail.co.uk/health/article-8200933/cdc-pulls-confusing-dosing-guidance-malaria-drug-trump-praised-treating-coronavirus.html\n",
      "okay die anything-except wuhan china corona virus covid-19-according democrats media\n",
      "fresh new bullshit panic tactic wonder ? something smells ? 🤔 # coronavirustruth # billgatesisevil # qarmy # truthers\n",
      "cnns cuomo deceptively edits clip claims trump lied coronavirus threat\n",
      "mexican health officials denounce harassment nurses treating coronavirus patients\n",
      "@ niro60487270 @ yahoonews good news story austin case missed !\n",
      "thursday rep. adam schiff  dishonest compulsive liar congress  sent letter ceos google  youtube twitter urge use “ authoritative ” powers censor silence voices coronavirus pandemic .\n",
      "dems response coronavirus  end trumps travel bans china  iran\n",
      "every western nation slow act coronavirus us handling best # smartnews\n",
      "nyc adds nearly 4000 people never tested positive coronavirus death tolls\n",
      "@ parkysteve yes published report included @ tlavagabond month ago ...\n",
      "@ speakerpelosi enjoy 24000.00 refrigerator\n",
      "pompous  arrogant azz ....\n",
      "trump shames media video coronavirus reporting failures -\n",
      "@ girlsreallyrule false ! !\n",
      "world must beat covid-19 stay united beat another china virus\n",
      "taking advantage crisis push agendas ! never let good crisis go waste !\n",
      "sign week\n",
      "profit taking ground  dont ... need reopen # america economy left . use # commonsense get back work ! ! ! @ realdonaldtrump @ gop # democratsaredestroyingamerica\n",
      "democrat boot . wonders ever cease ?\n",
      "national guard salute veteran died coronavirus javits center field hospital organizing honor guard 60 five minutes notice\n",
      "@ joenbc @ msnbc youre retarded . really . people sick lies shit . people love trump  re-elected spite bullshit\n",
      "cdc exactly covered glory  cdc ’ failed coronavirus tests taint…\n",
      "chase carey co. plotting austrian grand prix double start date case coronavirus forces cancellations # f1\n",
      "@ reason well  alex jones rt covering  pretty much sneer-proof  isnt ?\n",
      "consider toilet paper length time last ... politics today failed ! ! !\n",
      "virginia pastor defiantly held church service dies new chinese coronavirus\n",
      "european markets sink worries eu stimulus  coronavirus drug delay — rt business news\n",
      "relative owns small construction business ( far ) unable get one loans facing bankruptcy  mfer gets loan ? course . outrageous !\n",
      "controversial maharashtra minister jitendra awhad quarantine possible contact coronavirus positive cop\n",
      "maybe corona virus conjured control people & steal 2020 election  crazed dr. fauci says sports happen year - wants isolate players - maniac bankrupt america hes stopped\n",
      "’ bet trump ’ performance coronavirus seeing kicked november - piece @ mailonline latest us polling\n",
      "cdc  two new york cats coronavirus . humans dont .\n",
      "treat women 👹\n",
      "kind moron ? # worstpresidentever get goods  food ? donald trump bans immigration u.s. executive order\n",
      "@ odnigov cover . dont believe .\n",
      "american people punked .\n",
      "republicans believe democrats weaponize new coronavirus committee trump\n",
      "@ iamsophianelson @ gtconway3d perhaps lindsey follow rand paul rabbit hole ? good ole rand  cant keep good fascist  even w loss part lung covid-19 . keeps keeping . hopefully next disease foot mou\n",
      "foresee big 4 agenda realized !\n",
      "michigan governor considers extending coronavirus restrictions protesters\n",
      "donald trump announces us halt funding coronavirus response -- donald trump announced us pause funding world health organization ...\n",
      "journalism professors ask networks stop airing trump coronavirus briefings\n",
      "exactly happens state dictates health care decisions economic supply\n",
      "@ srcc pay attention guys scared yes @ pelosi scared deleted compromising tweet lock !\n",
      "trump says hes signing order halt immigration us light attack coronavirus\n",
      "ice svu releases 700 illegals  may infected coronavirus\n",
      "fox news cut ties trump-loving duo diamond & silk  promoting conspiracy theories disinformation coronavirus\n",
      "teachers unions reckless ignore science fight keep students classrooms . # australia # education # teachers # union # schools # classroom # students # science # covid19\n",
      "first .... `` laura ingraham says many people willing get coronavirus order open economy \n",
      "many people saying andrew cuomo handled coronavirus better politician things like actually show worst \n",
      "maybe  maybe  would like see msm cover ? oops ! ! thinking ? ! sorry  truly . know know . wife recorded psa “ staying home ” moment ex-prez golfing “ closed ” private course !\n",
      "ah ... best news ...\n",
      "apparently group operating behind scenes .... meet “ secret group scientists & billionaires pushing trump # covid19 plan ” profiled wall street journal investigation monday . # zerohedge # coronavirus\n",
      "jordan maxwell 04-24-20 - frightening 1st week oct-2020  coronavirus  digital mark  trump  grey pope - 6 min vid\n",
      "@ kyunglimj @ huxijin_gt still faking ? lol\n",
      "@ unionhallgener1 @ morning_joe trump right\n",
      "29. news  california study shows # coronavirus much pervasive `` killing rate thought \n",
      "booker coronavirus response  trump  rising challenge ’\n",
      "“ someone 80 95 serious breathing difficulties  probably ’ proceed\n",
      "papers  juden ? papers ! / ? fascist sons bitches ...\n",
      "@ realdonaldtrump know know ? 219 house dems voting end travel bans iran china ?\n",
      "bout punching face ?\n",
      "feel uplifted already\n",
      "@ partynxs @ maybeames dr birx brought grandmothers life long remorse  pushed us road ruin scientist/clinician allow emotion cloud judgement\n",
      "@ thenextvinnie @ dean @ utahcoronavirus “ bumper sticker ”\n",
      "isnt exactly @ potus said back february & mercilessly criticized ?\n",
      "@ etktmt @ deanobeidallah @ realdonaldtrump karma cruel mistress ......\n",
      "trump administration implemented new border rules march 21  citing coronavirus pandemic .\n",
      "@ aussletrumpfan @ noahpatriot @ realdonaldtrump casualties ? things appear .\n",
      "@ jamestapsfield james \n",
      "suicide hotline calls increased 8000 % los angeles since # coronavirus # stayathome orders went place . — 22 calls 1800 !\n",
      "real reason america absolutely devastated coronavirus pandemic ?\n",
      "big win rebel alliance .\n",
      "something think could actually happened still wouldnt hold candle size # covid19 stimulus\n",
      "bullying fears lead mass . gov . block city-specific coronavirus data\n",
      "controlling u.s. response covid19  white house bill gates ?\n",
      "always knew beatrice put us first . nice delay wedding enjoy next year . # fauxroyalwedding\n",
      "trump pissed ! good .\n",
      "rand paul returns congress beating coronavirus gives fiery speech  draconian ’ lockdown -\n",
      "novel coronavirus may accidentally leaked intern wuhan lab  claims us media\n",
      "imagine china owes us ...\n",
      "using chemicals going help reduce risks associated # coronavirus  vegetables osmotic therefore ’ risk assessment ? coronavirus animal issue  stop using bits .\n",
      "@ actionnewsjax report perspective ?\n",
      "hated criminal congress nancy pelosi claims trump made wuhan/covid-19 virus worse destroyed economy\n",
      "# trump needs smack # corrupt # 🤡clown mouth threatening tone .\n",
      "report  jihadis say  red tape  making hezbollah aid harder get\n",
      "coronavirus  medical advice trump received contradictory  inconsistent -- wrong\n",
      "@ lagarde mrs # lagarde @ europarlpress > # coronaviruspandemic > fabrication > hence # covid19 # package false # crisis could diverted wrongly partially/completely @ brunolemaire discovered # banks refuse loans even backed > reverse package quickly ! ! >\n",
      "mean get die gods way cleaning dirt ?\n",
      "hell ? ?\n",
      "nuts . china evil .\n",
      "shouldnt rand paul shut fuck anything corona virus ? doctor exposed others infection wouldnt even apologize admit something wrong ?\n",
      "love ! 🇺🇸🇺🇸 # kag trump walks coronavirus briefing 22-minutes\n",
      "report  former nyc top cop @ bernardkerik blasts officials using # covid19 excuse take americans freedoms ...\n",
      "# media panicked chloroquine new data suggests ’ ventilators killing people turns ventilators appear killing coronavirus patients en masse\n",
      "coronavirus  dark side\n",
      "tom cotton accuses china intentionally seeding coronavirus cases countries maintain power -\n",
      "# f1 shutdown extended mclaren chief zak brown reveals fears coronavirus impact\n",
      "@ jkylebass see “ political scene china says coronavirus ”\n",
      "vote congress united state america .\n",
      "@ speakerpelosi 😂😂😂😂😂😂😂😂 @ potus said bad ... ! really think # wethepeople would fall ? # covid19 # americaworkstogether gop  democrats  want federal government take elections \n",
      "@ russellhoward friend sent wanted share  ( whats ur opinion )\n",
      "build wall ...\n",
      "@ joenbc didnt know working joes campaign ... read ...\n",
      "tree kingdoms  empires disasters . blooming middle global pandemic . # christianity # coronavirus # faith # god # japan # nature # worldnews\n",
      "labradoodle breeder put charge coronavirus task force\n",
      "come find christi grimm apparently spearheading new “ get trump ” effort “ investigate ” coronavirus response . impeachment 2.0\n",
      "... australian bushfire season  threat world war iii  coronavirus pandemic  so-called  deal century ’  stock market crash . world  first 100 days 2020\n",
      "floridians rush beaches hours gov . desantis gives green light reopening\n",
      "time  asked glorify doctors nurses trusted experts whose authority questioned going giving vaccine .\n",
      "despite reopening wuhan  city heart coronavirus pandemic  confident proclamations chinese officials virus exterminated  quarantines quietly reimposed residential compounds ...\n",
      "famous @ fkslutskoffical\n",
      "v interactive map shows hundreds villages areas - three london - avoided fatalities 621 coronavirus deaths announced  taking uk total 28131 ======\n",
      "obama attacks trump  coherent national coronavirus plan\n",
      "massie  nancy pelosi allow remote vote coronavirus stimulus\n",
      "us allies move toward trump  demanding coronavirus investigation despite chinese threats # covid19 # morningjoe # maddow # maga # fridayfeeling # trump2020🇺🇸\n",
      "politicizing public health  gretchen ?\n",
      "@ comey another `` comforting sign  ! !\n",
      "@ moxi_mimi mmmm-dang .. hope stock even canned others hoarding toilet paper paying attention\n",
      "open economy ! conditions  restrictions . naught . @ govrondesantis @ lennycurry @ cityofjax\n",
      "`` best  economy ever ? neither  coronavirus\n",
      "kudlow  trump plans injection tax cuts cure coronavirus-ravaged economy\n",
      "fact everyone  republican democrat  initially handling coronavirus lightly intelligence time didnt demand country-wide lockdown . one side claim alone calling lockdowns early wrong .\n",
      "@ mitchellvii @ jimmcmains ... go next step  intentionally wrong heres\n",
      "@ radwaossama1 @ nermbed trend\n",
      "coronavirus could raise wages -\n",
      "tom cotton accuses china intentionally seeding coronavirus cases countries maintain power -\n",
      "nyc failed coronavirus response seattle succeeded  @ nycmayor @ nygovcuomo\n",
      "bloody well shouldnt\n",
      "@ msnbc @ vp ’ another one victims . murder . @ dispatchalerts @ govmikedewine\n",
      "@ carlosdavidfoto @ erinotoolemp awkward\n",
      "@ sam_vinograd @ nytimes @ allmattnyt @ ewong @ julianbarnes unlike dis-info attacks  info ( odd & inconvenient ) fact  )\n",
      "@ mattes_kelly @ teresa4g4 @ warrioroftruths facts ... pass\n",
      "\n",
      "errors: 619\n"
     ]
    }
   ],
   "source": [
    "# Your code starts here\n",
    "print(\"clickbait examples were mistakenly predicted as NotClickbait\\n\")\n",
    "err_cnt = 0\n",
    "for i in range(0, len(y_test)):\n",
    "    if(y_test[i]=='clickbait' and y_pred[i]=='Notclickbait'):\n",
    "        print(X_test[i])\n",
    "        err_cnt = err_cnt+1\n",
    "print(\"\\nerrors:\", err_cnt)\n",
    "\n",
    "print(\"\\nNotClickbait examples were mistakenly predicted as Clickbait\\n\")\n",
    "err_cnt = 0\n",
    "for i in range(0, len(y_test)):\n",
    "    if(y_test[i]=='Notclickbait' and y_pred[i]=='clickbait'):\n",
    "        print(X_test[i])\n",
    "        err_cnt = err_cnt+1\n",
    "print(\"\\nerrors:\", err_cnt)"
   ]
  },
  {
   "cell_type": "code",
   "execution_count": null,
   "metadata": {
    "id": "cC02uJ4wrwg9",
    "outputId": "cd103d65-61dc-4e60-9987-9383d596f56c"
   },
   "outputs": [
    {
     "data": {
      "text/html": [
       "<div>\n",
       "<style scoped>\n",
       "    .dataframe tbody tr th:only-of-type {\n",
       "        vertical-align: middle;\n",
       "    }\n",
       "\n",
       "    .dataframe tbody tr th {\n",
       "        vertical-align: top;\n",
       "    }\n",
       "\n",
       "    .dataframe thead th {\n",
       "        text-align: right;\n",
       "    }\n",
       "</style>\n",
       "<table border=\"1\" class=\"dataframe\">\n",
       "  <thead>\n",
       "    <tr style=\"text-align: right;\">\n",
       "      <th></th>\n",
       "      <th>Date</th>\n",
       "      <th>Label</th>\n",
       "      <th>Tweet</th>\n",
       "      <th>Twitter Link</th>\n",
       "      <th>text_new</th>\n",
       "      <th>text_clean_1</th>\n",
       "      <th>text_clean_2</th>\n",
       "    </tr>\n",
       "  </thead>\n",
       "  <tbody>\n",
       "    <tr>\n",
       "      <th>0</th>\n",
       "      <td>5/3/20</td>\n",
       "      <td>clickbait</td>\n",
       "      <td>Trump removes US from global initiative to dev...</td>\n",
       "      <td>link</td>\n",
       "      <td>Trump removes US from global initiative to dev...</td>\n",
       "      <td>trump removes us global initiative develop cor...</td>\n",
       "      <td>trump removes us global initiative develop cor...</td>\n",
       "    </tr>\n",
       "    <tr>\n",
       "      <th>1</th>\n",
       "      <td>5/3/20</td>\n",
       "      <td>clickbait</td>\n",
       "      <td>Because when lives are at stake, why cooperate...</td>\n",
       "      <td>link</td>\n",
       "      <td>Because when lives are at stake, why cooperate...</td>\n",
       "      <td>lives stake , cooperate others ?</td>\n",
       "      <td>lives stake  cooperate others ?</td>\n",
       "    </tr>\n",
       "    <tr>\n",
       "      <th>2</th>\n",
       "      <td>5/3/20</td>\n",
       "      <td>clickbait</td>\n",
       "      <td>‘Once Upon a Virus’: China mocks U.S. coronavi...</td>\n",
       "      <td>link</td>\n",
       "      <td>‘Once Upon a Virus’: China mocks U.S. coronavi...</td>\n",
       "      <td>‘ upon virus ’ : china mocks u.s. coronavirus ...</td>\n",
       "      <td>upon virus ’  china mocks u.s. coronavirus re...</td>\n",
       "    </tr>\n",
       "    <tr>\n",
       "      <th>3</th>\n",
       "      <td>5/3/20</td>\n",
       "      <td>clickbait</td>\n",
       "      <td>Trump Now Claims He Hopes U.S. Loses Less Than...</td>\n",
       "      <td>link</td>\n",
       "      <td>Trump Now Claims He Hopes U.S. Loses Less Than...</td>\n",
       "      <td>trump claims hopes u.s. loses less 100,000 cor...</td>\n",
       "      <td>trump claims hopes u.s. loses less 100000 coro...</td>\n",
       "    </tr>\n",
       "    <tr>\n",
       "      <th>4</th>\n",
       "      <td>5/3/20</td>\n",
       "      <td>clickbait</td>\n",
       "      <td>Trump Spends His Morning Retweeting A Sex Ther...</td>\n",
       "      <td>link</td>\n",
       "      <td>Trump Spends His Morning Retweeting A Sex Ther...</td>\n",
       "      <td>trump spends morning retweeting sex therapist ...</td>\n",
       "      <td>trump spends morning retweeting sex therapist ...</td>\n",
       "    </tr>\n",
       "  </tbody>\n",
       "</table>\n",
       "</div>"
      ],
      "text/plain": [
       "     Date      Label                                              Tweet  \\\n",
       "0  5/3/20  clickbait  Trump removes US from global initiative to dev...   \n",
       "1  5/3/20  clickbait  Because when lives are at stake, why cooperate...   \n",
       "2  5/3/20  clickbait  ‘Once Upon a Virus’: China mocks U.S. coronavi...   \n",
       "3  5/3/20  clickbait  Trump Now Claims He Hopes U.S. Loses Less Than...   \n",
       "4  5/3/20  clickbait  Trump Spends His Morning Retweeting A Sex Ther...   \n",
       "\n",
       "  Twitter Link                                           text_new  \\\n",
       "0         link  Trump removes US from global initiative to dev...   \n",
       "1         link  Because when lives are at stake, why cooperate...   \n",
       "2         link  ‘Once Upon a Virus’: China mocks U.S. coronavi...   \n",
       "3         link  Trump Now Claims He Hopes U.S. Loses Less Than...   \n",
       "4         link  Trump Spends His Morning Retweeting A Sex Ther...   \n",
       "\n",
       "                                        text_clean_1  \\\n",
       "0  trump removes us global initiative develop cor...   \n",
       "1                   lives stake , cooperate others ?   \n",
       "2  ‘ upon virus ’ : china mocks u.s. coronavirus ...   \n",
       "3  trump claims hopes u.s. loses less 100,000 cor...   \n",
       "4  trump spends morning retweeting sex therapist ...   \n",
       "\n",
       "                                        text_clean_2  \n",
       "0  trump removes us global initiative develop cor...  \n",
       "1                    lives stake  cooperate others ?  \n",
       "2   upon virus ’  china mocks u.s. coronavirus re...  \n",
       "3  trump claims hopes u.s. loses less 100000 coro...  \n",
       "4  trump spends morning retweeting sex therapist ...  "
      ]
     },
     "execution_count": 51,
     "metadata": {
      "tags": []
     },
     "output_type": "execute_result"
    }
   ],
   "source": [
    "df_clickbait=df[df[\"Label\"]==\"clickbait\"]\n",
    "df_clickbait.head()"
   ]
  },
  {
   "cell_type": "code",
   "execution_count": null,
   "metadata": {
    "id": "UyPxyiG5rwg9"
   },
   "outputs": [],
   "source": [
    "def pre(docs):\n",
    "    docs =  docs.lower()\n",
    "    docs = re.sub(r'\\d+','',docs)\n",
    "    return docs\n",
    "vectorizer = TfidfVectorizer(max_df=0.65, min_df=5, stop_words='english', use_idf=True, norm=None,token_pattern='[a-zA-Z0-9]{3,}',preprocessor = pre, ngram_range=(1,2))\n",
    "transformed_documents = vectorizer.fit_transform(df_clickbait['text_clean_2'])"
   ]
  },
  {
   "cell_type": "code",
   "execution_count": null,
   "metadata": {
    "id": "_X0erlkhrwg9",
    "outputId": "4e1f404c-767c-4ed8-ce7f-e6056463b5d5"
   },
   "outputs": [
    {
     "data": {
      "text/plain": [
       "30174"
      ]
     },
     "execution_count": 54,
     "metadata": {
      "tags": []
     },
     "output_type": "execute_result"
    }
   ],
   "source": [
    "transformed_documents_as_array = transformed_documents.toarray()\n",
    "# use this line of code to verify that the numpy array represents the same number of documents that we have in the file list\n",
    "len(transformed_documents_as_array)"
   ]
  },
  {
   "cell_type": "code",
   "execution_count": null,
   "metadata": {
    "id": "hQb11z-0rwg9"
   },
   "outputs": [],
   "source": [
    "\n",
    "for counter, doc in enumerate(transformed_documents_as_array):\n",
    "    # construct a dataframe\n",
    "    \n",
    "    tf_idf_tuples = list(zip(vectorizer.get_feature_names(), doc))\n",
    "    one_doc_as_df = pd.DataFrame.from_records(tf_idf_tuples, columns=['term', 'score']).sort_values(by='score', ascending=False).reset_index(drop=True)"
   ]
  },
  {
   "cell_type": "code",
   "execution_count": null,
   "metadata": {
    "id": "-Zis2ALXrwg9"
   },
   "outputs": [],
   "source": [
    "one_doc_as_df.head(10)"
   ]
  },
  {
   "cell_type": "code",
   "execution_count": null,
   "metadata": {
    "colab": {
     "base_uri": "https://localhost:8080/",
     "height": 217
    },
    "id": "_X7DdAO7IxKQ",
    "outputId": "d7fe13fa-468b-4096-c35d-b0b46c0fa099"
   },
   "outputs": [
    {
     "data": {
      "image/png": "[encoded data removed]",
      "text/plain": [
       "<PIL.Image.Image image mode=RGB size=400x200 at 0x7F8A11212C70>"
      ]
     },
     "execution_count": 56,
     "metadata": {
      "tags": []
     },
     "output_type": "execute_result"
    }
   ],
   "source": [
    "from wordcloud import WordCloud\n",
    "# Join the different processed titles together.\n",
    "long_string = ','.join(list(df_clickbait['text_clean_2'].values))\n",
    "# Create a WordCloud object\n",
    "wordcloud = WordCloud(background_color=\"white\", max_words=5000, contour_width=3, contour_color='steelblue')\n",
    "# Generate a word cloud\n",
    "wordcloud.generate(long_string)\n",
    "# Visualize the word cloud\n",
    "wordcloud.to_image()\n"
   ]
  },
  {
   "cell_type": "code",
   "execution_count": null,
   "metadata": {
    "colab": {
     "base_uri": "https://localhost:8080/",
     "height": 739
    },
    "id": "7Bk7agKPJoab",
    "outputId": "f4cc572d-9a5f-4553-e766-881106f45ccb"
   },
   "outputs": [
    {
     "data": {
      "image/png": "[encoded data removed]",
      "text/plain": [
       "<Figure size 1080x667.491 with 1 Axes>"
      ]
     },
     "metadata": {
      "needs_background": "light",
      "tags": []
     },
     "output_type": "display_data"
    }
   ],
   "source": [
    "# Load the library with the CountVectorizer method\n",
    "from sklearn.feature_extraction.text import TfidfVectorizer\n",
    "import numpy as np\n",
    "import matplotlib.pyplot as plt\n",
    "import seaborn as sns\n",
    "sns.set_style('whitegrid')\n",
    "%matplotlib inline\n",
    "# Helper function\n",
    "def plot_10_most_common_words(count_data, vectorizer):\n",
    "    import matplotlib.pyplot as plt\n",
    "    words = vectorizer.get_feature_names()\n",
    "    total_counts = np.zeros(len(words))\n",
    "    for t in count_data:\n",
    "        total_counts+=t.toarray()[0]\n",
    "    \n",
    "    count_dict = (zip(words, total_counts))\n",
    "    count_dict = sorted(count_dict, key=lambda x:x[1], reverse=True)[0:10]\n",
    "    words = [w[0] for w in count_dict]\n",
    "    counts = [w[1] for w in count_dict]\n",
    "    x_pos = np.arange(len(words)) \n",
    "    \n",
    "    plt.figure(2, figsize=(15, 15/1.6180))\n",
    "    plt.subplot(title='10 most common words')\n",
    "    sns.set_context(\"notebook\", font_scale=1.25, rc={\"lines.linewidth\": 2.5})\n",
    "    sns.barplot(x_pos, counts, palette='husl')\n",
    "    plt.xticks(x_pos, words, rotation=90) \n",
    "    plt.xlabel('words')\n",
    "    plt.ylabel('counts')\n",
    "    plt.show()\n",
    "# Initialise the count vectorizer with the English stop words\n",
    "# Visualise the 10 most common words\n",
    "plot_10_most_common_words(transformed_documents, vectorizer)"
   ]
  },
  {
   "cell_type": "code",
   "execution_count": null,
   "metadata": {
    "colab": {
     "base_uri": "https://localhost:8080/"
    },
    "id": "84Jk89LeKlJd",
    "outputId": "06a361bc-9223-40b5-ae1e-d33b22258d6a"
   },
   "outputs": [
    {
     "name": "stdout",
     "output_type": "stream",
     "text": [
      "Topics found via LDA:\n",
      "\n",
      "Topic #0:\n",
      "trump mike pence mike pence quarantined china student shook quarantined coronavirus covid\n",
      "\n",
      "Topic #1:\n",
      "trump response coronavirus response article house woman white florida white house look\n",
      "\n",
      "Topic #2:\n",
      "trump crisis says coronavirus crisis republicans testing covid raw story raw story\n",
      "\n",
      "Topic #3:\n",
      "trump news pandemic people covid stimulus america president fox pelosi\n",
      "\n",
      "Topic #4:\n",
      "trump vaccine report new covid blocking gop charge blocking coronavirus gop blocking\n"
     ]
    }
   ],
   "source": [
    "import warnings\n",
    "warnings.simplefilter(\"ignore\", DeprecationWarning)\n",
    "# Load the LDA model from sk-learn\n",
    "from sklearn.decomposition import LatentDirichletAllocation as LDA\n",
    " \n",
    "# Helper function\n",
    "def print_topics(model, vectorizer, n_top_words):\n",
    "    words = vectorizer.get_feature_names()\n",
    "    for topic_idx, topic in enumerate(model.components_):\n",
    "        print(\"\\nTopic #%d:\" % topic_idx)\n",
    "        print(\" \".join([words[i]\n",
    "                        for i in topic.argsort()[:-n_top_words - 1:-1]]))\n",
    "        \n",
    "# Tweak the two parameters below\n",
    "number_topics = 5\n",
    "number_words = 10\n",
    "# Create and fit the LDA model\n",
    "lda = LDA(n_components=number_topics, n_jobs=-1)\n",
    "lda.fit(transformed_documents_as_array)\n",
    "# Print the topics found by the LDA model\n",
    "print(\"Topics found via LDA:\")\n",
    "print_topics(lda, vectorizer, number_words)"
   ]
  },
  {
   "cell_type": "code",
   "execution_count": null,
   "metadata": {
    "id": "JfXIewDqKyux"
   },
   "outputs": [],
   "source": []
  },
  {
   "cell_type": "code",
   "execution_count": null,
   "metadata": {
    "id": "RW9Jz5_lrwg9"
   },
   "outputs": [],
   "source": []
  },
  {
   "cell_type": "code",
   "execution_count": null,
   "metadata": {
    "id": "pQAoaiZYrwg9"
   },
   "outputs": [],
   "source": []
  },
  {
   "cell_type": "markdown",
   "metadata": {
    "id": "qvA0aa3Crwg9"
   },
   "source": [
    "# BERT"
   ]
  },
  {
   "cell_type": "code",
   "execution_count": 2,
   "metadata": {
    "colab": {
     "base_uri": "https://localhost:8080/"
    },
    "id": "ekPT6uUnsY2b",
    "outputId": "fef2311e-aa25-4e8b-a0a8-023a7d3bec65"
   },
   "outputs": [
    {
     "name": "stdout",
     "output_type": "stream",
     "text": [
      "Collecting transformers\n",
      "\u001b[?25l  Downloading https://files.pythonhosted.org/packages/3a/83/e74092e7f24a08d751aa59b37a9fc572b2e4af3918cb66f7766c3affb1b4/transformers-3.5.1-py3-none-any.whl (1.3MB)\n",
      "\u001b[K     |████████████████████████████████| 1.3MB 23.1MB/s \n",
      "\u001b[?25hRequirement already satisfied: dataclasses; python_version < \"3.7\" in /usr/local/lib/python3.6/dist-packages (from transformers) (0.7)\n",
      "Requirement already satisfied: numpy in /usr/local/lib/python3.6/dist-packages (from transformers) (1.18.5)\n",
      "Requirement already satisfied: regex!=2019.12.17 in /usr/local/lib/python3.6/dist-packages (from transformers) (2019.12.20)\n",
      "Requirement already satisfied: requests in /usr/local/lib/python3.6/dist-packages (from transformers) (2.23.0)\n",
      "Requirement already satisfied: protobuf in /usr/local/lib/python3.6/dist-packages (from transformers) (3.12.4)\n",
      "Collecting tokenizers==0.9.3\n",
      "\u001b[?25l  Downloading https://files.pythonhosted.org/packages/4c/34/b39eb9994bc3c999270b69c9eea40ecc6f0e97991dba28282b9fd32d44ee/tokenizers-0.9.3-cp36-cp36m-manylinux1_x86_64.whl (2.9MB)\n",
      "\u001b[K     |████████████████████████████████| 2.9MB 29.5MB/s \n",
      "\u001b[?25hCollecting sacremoses\n",
      "\u001b[?25l  Downloading https://files.pythonhosted.org/packages/7d/34/09d19aff26edcc8eb2a01bed8e98f13a1537005d31e95233fd48216eed10/sacremoses-0.0.43.tar.gz (883kB)\n",
      "\u001b[K     |████████████████████████████████| 890kB 35.1MB/s \n",
      "\u001b[?25hRequirement already satisfied: filelock in /usr/local/lib/python3.6/dist-packages (from transformers) (3.0.12)\n",
      "Requirement already satisfied: packaging in /usr/local/lib/python3.6/dist-packages (from transformers) (20.4)\n",
      "Collecting sentencepiece==0.1.91\n",
      "\u001b[?25l  Downloading https://files.pythonhosted.org/packages/d4/a4/d0a884c4300004a78cca907a6ff9a5e9fe4f090f5d95ab341c53d28cbc58/sentencepiece-0.1.91-cp36-cp36m-manylinux1_x86_64.whl (1.1MB)\n",
      "\u001b[K     |████████████████████████████████| 1.1MB 51.6MB/s \n",
      "\u001b[?25hRequirement already satisfied: tqdm>=4.27 in /usr/local/lib/python3.6/dist-packages (from transformers) (4.41.1)\n",
      "Requirement already satisfied: idna<3,>=2.5 in /usr/local/lib/python3.6/dist-packages (from requests->transformers) (2.10)\n",
      "Requirement already satisfied: chardet<4,>=3.0.2 in /usr/local/lib/python3.6/dist-packages (from requests->transformers) (3.0.4)\n",
      "Requirement already satisfied: certifi>=2017.4.17 in /usr/local/lib/python3.6/dist-packages (from requests->transformers) (2020.6.20)\n",
      "Requirement already satisfied: urllib3!=1.25.0,!=1.25.1,<1.26,>=1.21.1 in /usr/local/lib/python3.6/dist-packages (from requests->transformers) (1.24.3)\n",
      "Requirement already satisfied: setuptools in /usr/local/lib/python3.6/dist-packages (from protobuf->transformers) (50.3.2)\n",
      "Requirement already satisfied: six>=1.9 in /usr/local/lib/python3.6/dist-packages (from protobuf->transformers) (1.15.0)\n",
      "Requirement already satisfied: click in /usr/local/lib/python3.6/dist-packages (from sacremoses->transformers) (7.1.2)\n",
      "Requirement already satisfied: joblib in /usr/local/lib/python3.6/dist-packages (from sacremoses->transformers) (0.17.0)\n",
      "Requirement already satisfied: pyparsing>=2.0.2 in /usr/local/lib/python3.6/dist-packages (from packaging->transformers) (2.4.7)\n",
      "Building wheels for collected packages: sacremoses\n",
      "  Building wheel for sacremoses (setup.py) ... \u001b[?25l\u001b[?25hdone\n",
      "  Created wheel for sacremoses: filename=sacremoses-0.0.43-cp36-none-any.whl size=893257 sha256=170321e9551c2bd68fcf1744ce5c8c5ac5cfe981e29392f03d4307cb8e6c375c\n",
      "  Stored in directory: /root/.cache/pip/wheels/29/3c/fd/7ce5c3f0666dab31a50123635e6fb5e19ceb42ce38d4e58f45\n",
      "Successfully built sacremoses\n",
      "Installing collected packages: tokenizers, sacremoses, sentencepiece, transformers\n",
      "Successfully installed sacremoses-0.0.43 sentencepiece-0.1.91 tokenizers-0.9.3 transformers-3.5.1\n"
     ]
    }
   ],
   "source": [
    "!pip install transformers"
   ]
  },
  {
   "cell_type": "code",
   "execution_count": 17,
   "metadata": {
    "id": "vnC3Psowrwg9"
   },
   "outputs": [
    {
     "ename": "ModuleNotFoundError",
     "evalue": "No module named 'torch'",
     "output_type": "error",
     "traceback": [
      "\u001b[1;31m---------------------------------------------------------------------------\u001b[0m",
      "\u001b[1;31mModuleNotFoundError\u001b[0m                       Traceback (most recent call last)",
      "\u001b[1;32m<ipython-input-17-1b63b0ac1727>\u001b[0m in \u001b[0;36m<module>\u001b[1;34m\u001b[0m\n\u001b[1;32m----> 1\u001b[1;33m \u001b[1;32mimport\u001b[0m \u001b[0mtorch\u001b[0m\u001b[1;33m\u001b[0m\u001b[1;33m\u001b[0m\u001b[0m\n\u001b[0m\u001b[0;32m      2\u001b[0m \u001b[1;33m\u001b[0m\u001b[0m\n\u001b[0;32m      3\u001b[0m \u001b[1;31m# Preliminaries\u001b[0m\u001b[1;33m\u001b[0m\u001b[1;33m\u001b[0m\u001b[1;33m\u001b[0m\u001b[0m\n\u001b[0;32m      4\u001b[0m \u001b[1;33m\u001b[0m\u001b[0m\n\u001b[0;32m      5\u001b[0m \u001b[1;32mfrom\u001b[0m \u001b[0mtorchtext\u001b[0m\u001b[1;33m.\u001b[0m\u001b[0mdata\u001b[0m \u001b[1;32mimport\u001b[0m \u001b[0mField\u001b[0m\u001b[1;33m,\u001b[0m \u001b[0mTabularDataset\u001b[0m\u001b[1;33m,\u001b[0m \u001b[0mBucketIterator\u001b[0m\u001b[1;33m,\u001b[0m \u001b[0mIterator\u001b[0m\u001b[1;33m\u001b[0m\u001b[1;33m\u001b[0m\u001b[0m\n",
      "\u001b[1;31mModuleNotFoundError\u001b[0m: No module named 'torch'"
     ]
    }
   ],
   "source": [
    "\n",
    "import torch\n",
    "\n",
    "# Preliminaries\n",
    "\n",
    "from torchtext.data import Field, TabularDataset, BucketIterator, Iterator\n",
    "\n",
    "# Models\n",
    "\n",
    "import torch.nn as nn\n",
    "from transformers import BertTokenizer, BertForSequenceClassification\n",
    "\n",
    "# Training\n",
    "\n",
    "import torch.optim as optim\n",
    "\n",
    "# Evaluation\n",
    "\n",
    "from sklearn.metrics import accuracy_score, classification_report, confusion_matrix\n",
    "import seaborn as sns\n"
   ]
  },
  {
   "cell_type": "code",
   "execution_count": null,
   "metadata": {
    "id": "0lU8gbx3rwg9"
   },
   "outputs": [],
   "source": []
  },
  {
   "cell_type": "code",
   "execution_count": null,
   "metadata": {
    "id": "RMrJTKPTrwg9"
   },
   "outputs": [],
   "source": [
    "df1 = df.copy()"
   ]
  },
  {
   "cell_type": "code",
   "execution_count": 18,
   "metadata": {
    "id": "M1NTNZ9nrwg9"
   },
   "outputs": [],
   "source": [
    "import gc"
   ]
  },
  {
   "cell_type": "code",
   "execution_count": 19,
   "metadata": {
    "colab": {
     "base_uri": "https://localhost:8080/"
    },
    "id": "tqxefiZirwg9",
    "outputId": "a66ff314-059e-4bb9-9c95-0b16f0b763cc"
   },
   "outputs": [
    {
     "data": {
      "text/plain": [
       "186"
      ]
     },
     "execution_count": 19,
     "metadata": {},
     "output_type": "execute_result"
    }
   ],
   "source": [
    "gc.collect()"
   ]
  },
  {
   "cell_type": "code",
   "execution_count": null,
   "metadata": {
    "id": "COvu05fnrwg9",
    "outputId": "45813976-20fa-4808-8c37-ced266f3efa9"
   },
   "outputs": [
    {
     "data": {
      "text/html": [
       "<div>\n",
       "<style scoped>\n",
       "    .dataframe tbody tr th:only-of-type {\n",
       "        vertical-align: middle;\n",
       "    }\n",
       "\n",
       "    .dataframe tbody tr th {\n",
       "        vertical-align: top;\n",
       "    }\n",
       "\n",
       "    .dataframe thead th {\n",
       "        text-align: right;\n",
       "    }\n",
       "</style>\n",
       "<table border=\"1\" class=\"dataframe\">\n",
       "  <thead>\n",
       "    <tr style=\"text-align: right;\">\n",
       "      <th></th>\n",
       "      <th>Date</th>\n",
       "      <th>Label</th>\n",
       "      <th>Tweet</th>\n",
       "      <th>Twitter Link</th>\n",
       "      <th>text_new</th>\n",
       "      <th>url</th>\n",
       "      <th>text_clean_1</th>\n",
       "      <th>text_clean_2</th>\n",
       "      <th>text_length</th>\n",
       "    </tr>\n",
       "  </thead>\n",
       "  <tbody>\n",
       "    <tr>\n",
       "      <th>0</th>\n",
       "      <td>5/3/20</td>\n",
       "      <td>clickbait</td>\n",
       "      <td>Trump removes US from global initiative to dev...</td>\n",
       "      <td>link</td>\n",
       "      <td>Trump removes US from global initiative to dev...</td>\n",
       "      <td>https://t.co/nwkkokPZ2P</td>\n",
       "      <td>trump removes us global initiative develop cor...</td>\n",
       "      <td>trump removes us global initiative develop cor...</td>\n",
       "      <td>74</td>\n",
       "    </tr>\n",
       "    <tr>\n",
       "      <th>1</th>\n",
       "      <td>5/3/20</td>\n",
       "      <td>clickbait</td>\n",
       "      <td>Because when lives are at stake, why cooperate...</td>\n",
       "      <td>link</td>\n",
       "      <td>Because when lives are at stake, why cooperate...</td>\n",
       "      <td>https://t.co/9W285E01e2</td>\n",
       "      <td>lives stake , cooperate others ?</td>\n",
       "      <td>lives stake  cooperate others ?</td>\n",
       "      <td>31</td>\n",
       "    </tr>\n",
       "    <tr>\n",
       "      <th>2</th>\n",
       "      <td>5/3/20</td>\n",
       "      <td>clickbait</td>\n",
       "      <td>‘Once Upon a Virus’: China mocks U.S. coronavi...</td>\n",
       "      <td>link</td>\n",
       "      <td>‘Once Upon a Virus’: China mocks U.S. coronavi...</td>\n",
       "      <td>https://t.co/Wshscjl9qW</td>\n",
       "      <td>‘ upon virus ’ : china mocks u.s. coronavirus ...</td>\n",
       "      <td>upon virus ’  china mocks u.s. coronavirus re...</td>\n",
       "      <td>72</td>\n",
       "    </tr>\n",
       "    <tr>\n",
       "      <th>3</th>\n",
       "      <td>5/3/20</td>\n",
       "      <td>clickbait</td>\n",
       "      <td>Trump Now Claims He Hopes U.S. Loses Less Than...</td>\n",
       "      <td>link</td>\n",
       "      <td>Trump Now Claims He Hopes U.S. Loses Less Than...</td>\n",
       "      <td>https://t.co/c5NrFtqY1T</td>\n",
       "      <td>trump claims hopes u.s. loses less 100,000 cor...</td>\n",
       "      <td>trump claims hopes u.s. loses less 100000 coro...</td>\n",
       "      <td>53</td>\n",
       "    </tr>\n",
       "    <tr>\n",
       "      <th>4</th>\n",
       "      <td>5/3/20</td>\n",
       "      <td>clickbait</td>\n",
       "      <td>Trump Spends His Morning Retweeting A Sex Ther...</td>\n",
       "      <td>link</td>\n",
       "      <td>Trump Spends His Morning Retweeting A Sex Ther...</td>\n",
       "      <td>https://t.co/vKU0H9YcD4 via @politicususa</td>\n",
       "      <td>trump spends morning retweeting sex therapist ...</td>\n",
       "      <td>trump spends morning retweeting sex therapist ...</td>\n",
       "      <td>77</td>\n",
       "    </tr>\n",
       "  </tbody>\n",
       "</table>\n",
       "</div>"
      ],
      "text/plain": [
       "     Date      Label                                              Tweet  \\\n",
       "0  5/3/20  clickbait  Trump removes US from global initiative to dev...   \n",
       "1  5/3/20  clickbait  Because when lives are at stake, why cooperate...   \n",
       "2  5/3/20  clickbait  ‘Once Upon a Virus’: China mocks U.S. coronavi...   \n",
       "3  5/3/20  clickbait  Trump Now Claims He Hopes U.S. Loses Less Than...   \n",
       "4  5/3/20  clickbait  Trump Spends His Morning Retweeting A Sex Ther...   \n",
       "\n",
       "  Twitter Link                                           text_new  \\\n",
       "0         link  Trump removes US from global initiative to dev...   \n",
       "1         link  Because when lives are at stake, why cooperate...   \n",
       "2         link  ‘Once Upon a Virus’: China mocks U.S. coronavi...   \n",
       "3         link  Trump Now Claims He Hopes U.S. Loses Less Than...   \n",
       "4         link  Trump Spends His Morning Retweeting A Sex Ther...   \n",
       "\n",
       "                                          url  \\\n",
       "0                    https://t.co/nwkkokPZ2P    \n",
       "1                    https://t.co/9W285E01e2    \n",
       "2                    https://t.co/Wshscjl9qW    \n",
       "3                    https://t.co/c5NrFtqY1T    \n",
       "4  https://t.co/vKU0H9YcD4 via @politicususa    \n",
       "\n",
       "                                        text_clean_1  \\\n",
       "0  trump removes us global initiative develop cor...   \n",
       "1                   lives stake , cooperate others ?   \n",
       "2  ‘ upon virus ’ : china mocks u.s. coronavirus ...   \n",
       "3  trump claims hopes u.s. loses less 100,000 cor...   \n",
       "4  trump spends morning retweeting sex therapist ...   \n",
       "\n",
       "                                        text_clean_2  text_length  \n",
       "0  trump removes us global initiative develop cor...           74  \n",
       "1                    lives stake  cooperate others ?           31  \n",
       "2   upon virus ’  china mocks u.s. coronavirus re...           72  \n",
       "3  trump claims hopes u.s. loses less 100000 coro...           53  \n",
       "4  trump spends morning retweeting sex therapist ...           77  "
      ]
     },
     "execution_count": 290,
     "metadata": {
      "tags": []
     },
     "output_type": "execute_result"
    }
   ],
   "source": [
    "df.head()"
   ]
  },
  {
   "cell_type": "code",
   "execution_count": null,
   "metadata": {
    "id": "meoUMb9Krwg-"
   },
   "outputs": [],
   "source": [
    "df['url'] = df['url'].fillna('no_url')"
   ]
  },
  {
   "cell_type": "code",
   "execution_count": null,
   "metadata": {
    "id": "ypMxVMeNrwg-"
   },
   "outputs": [],
   "source": [
    "df = df.loc[~df['text_clean_2'].str.contains('^$')]"
   ]
  },
  {
   "cell_type": "code",
   "execution_count": null,
   "metadata": {
    "id": "lswI62b4rwg-"
   },
   "outputs": [],
   "source": [
    "first_n_words = 200\n",
    "def trim_string(x):\n",
    "\n",
    "    x = x.split(maxsplit=first_n_words)\n",
    "    x = ' '.join(x[:first_n_words])\n",
    "\n",
    "    return x\n",
    "\n",
    "# Prepare columns\n",
    "df['Label'] = (df['Label'] == 'clickbait').astype('int')\n",
    "#df['titletext'] = df['title'] + \". \" + df['text']\n",
    "\n",
    "# Trim text and titletext to first_n_words\n",
    "df['text_clean_3'] = df['text_clean_2'].apply(trim_string)\n",
    "# Drop rows with empty text\n",
    "df.drop(df[df['text_clean_3'].str.len() < 5].index, inplace=True)"
   ]
  },
  {
   "cell_type": "code",
   "execution_count": null,
   "metadata": {
    "id": "xhcEZp5Hrwg-"
   },
   "outputs": [],
   "source": [
    "df['text_clean_3'] = df['text_clean_2'].str.replace('[^A-Z a-z0-9]+', '', regex = True)"
   ]
  },
  {
   "cell_type": "code",
   "execution_count": null,
   "metadata": {
    "id": "mKfg3eUKrwg-",
    "outputId": "c9454c89-896c-4be9-e153-f3c3d7427f71"
   },
   "outputs": [
    {
     "data": {
      "text/plain": [
       "(63071, 10)"
      ]
     },
     "execution_count": 295,
     "metadata": {
      "tags": []
     },
     "output_type": "execute_result"
    }
   ],
   "source": [
    "df.shape"
   ]
  },
  {
   "cell_type": "code",
   "execution_count": null,
   "metadata": {
    "id": "dNDr2w8zrwg-",
    "outputId": "d62dfdf0-9c36-4019-ce16-c6eedfc97129"
   },
   "outputs": [
    {
     "data": {
      "text/html": [
       "<div>\n",
       "<style scoped>\n",
       "    .dataframe tbody tr th:only-of-type {\n",
       "        vertical-align: middle;\n",
       "    }\n",
       "\n",
       "    .dataframe tbody tr th {\n",
       "        vertical-align: top;\n",
       "    }\n",
       "\n",
       "    .dataframe thead th {\n",
       "        text-align: right;\n",
       "    }\n",
       "</style>\n",
       "<table border=\"1\" class=\"dataframe\">\n",
       "  <thead>\n",
       "    <tr style=\"text-align: right;\">\n",
       "      <th></th>\n",
       "      <th>Date</th>\n",
       "      <th>Label</th>\n",
       "      <th>Tweet</th>\n",
       "      <th>Twitter Link</th>\n",
       "      <th>text_new</th>\n",
       "      <th>url</th>\n",
       "      <th>text_clean_1</th>\n",
       "      <th>text_clean_2</th>\n",
       "      <th>text_length</th>\n",
       "      <th>text_clean_3</th>\n",
       "    </tr>\n",
       "  </thead>\n",
       "  <tbody>\n",
       "    <tr>\n",
       "      <th>0</th>\n",
       "      <td>5/3/20</td>\n",
       "      <td>1</td>\n",
       "      <td>Trump removes US from global initiative to dev...</td>\n",
       "      <td>link</td>\n",
       "      <td>Trump removes US from global initiative to dev...</td>\n",
       "      <td>https://t.co/nwkkokPZ2P</td>\n",
       "      <td>trump removes us global initiative develop cor...</td>\n",
       "      <td>trump removes us global initiative develop cor...</td>\n",
       "      <td>74</td>\n",
       "      <td>trump removes us global initiative develop cor...</td>\n",
       "    </tr>\n",
       "    <tr>\n",
       "      <th>1</th>\n",
       "      <td>5/3/20</td>\n",
       "      <td>1</td>\n",
       "      <td>Because when lives are at stake, why cooperate...</td>\n",
       "      <td>link</td>\n",
       "      <td>Because when lives are at stake, why cooperate...</td>\n",
       "      <td>https://t.co/9W285E01e2</td>\n",
       "      <td>lives stake , cooperate others ?</td>\n",
       "      <td>lives stake  cooperate others ?</td>\n",
       "      <td>31</td>\n",
       "      <td>lives stake  cooperate others</td>\n",
       "    </tr>\n",
       "    <tr>\n",
       "      <th>2</th>\n",
       "      <td>5/3/20</td>\n",
       "      <td>1</td>\n",
       "      <td>‘Once Upon a Virus’: China mocks U.S. coronavi...</td>\n",
       "      <td>link</td>\n",
       "      <td>‘Once Upon a Virus’: China mocks U.S. coronavi...</td>\n",
       "      <td>https://t.co/Wshscjl9qW</td>\n",
       "      <td>‘ upon virus ’ : china mocks u.s. coronavirus ...</td>\n",
       "      <td>upon virus ’  china mocks u.s. coronavirus re...</td>\n",
       "      <td>72</td>\n",
       "      <td>upon virus   china mocks us coronavirus respo...</td>\n",
       "    </tr>\n",
       "    <tr>\n",
       "      <th>3</th>\n",
       "      <td>5/3/20</td>\n",
       "      <td>1</td>\n",
       "      <td>Trump Now Claims He Hopes U.S. Loses Less Than...</td>\n",
       "      <td>link</td>\n",
       "      <td>Trump Now Claims He Hopes U.S. Loses Less Than...</td>\n",
       "      <td>https://t.co/c5NrFtqY1T</td>\n",
       "      <td>trump claims hopes u.s. loses less 100,000 cor...</td>\n",
       "      <td>trump claims hopes u.s. loses less 100000 coro...</td>\n",
       "      <td>53</td>\n",
       "      <td>trump claims hopes us loses less 100000 corona...</td>\n",
       "    </tr>\n",
       "    <tr>\n",
       "      <th>4</th>\n",
       "      <td>5/3/20</td>\n",
       "      <td>1</td>\n",
       "      <td>Trump Spends His Morning Retweeting A Sex Ther...</td>\n",
       "      <td>link</td>\n",
       "      <td>Trump Spends His Morning Retweeting A Sex Ther...</td>\n",
       "      <td>https://t.co/vKU0H9YcD4 via @politicususa</td>\n",
       "      <td>trump spends morning retweeting sex therapist ...</td>\n",
       "      <td>trump spends morning retweeting sex therapist ...</td>\n",
       "      <td>77</td>\n",
       "      <td>trump spends morning retweeting sex therapist ...</td>\n",
       "    </tr>\n",
       "  </tbody>\n",
       "</table>\n",
       "</div>"
      ],
      "text/plain": [
       "     Date  Label                                              Tweet  \\\n",
       "0  5/3/20      1  Trump removes US from global initiative to dev...   \n",
       "1  5/3/20      1  Because when lives are at stake, why cooperate...   \n",
       "2  5/3/20      1  ‘Once Upon a Virus’: China mocks U.S. coronavi...   \n",
       "3  5/3/20      1  Trump Now Claims He Hopes U.S. Loses Less Than...   \n",
       "4  5/3/20      1  Trump Spends His Morning Retweeting A Sex Ther...   \n",
       "\n",
       "  Twitter Link                                           text_new  \\\n",
       "0         link  Trump removes US from global initiative to dev...   \n",
       "1         link  Because when lives are at stake, why cooperate...   \n",
       "2         link  ‘Once Upon a Virus’: China mocks U.S. coronavi...   \n",
       "3         link  Trump Now Claims He Hopes U.S. Loses Less Than...   \n",
       "4         link  Trump Spends His Morning Retweeting A Sex Ther...   \n",
       "\n",
       "                                          url  \\\n",
       "0                    https://t.co/nwkkokPZ2P    \n",
       "1                    https://t.co/9W285E01e2    \n",
       "2                    https://t.co/Wshscjl9qW    \n",
       "3                    https://t.co/c5NrFtqY1T    \n",
       "4  https://t.co/vKU0H9YcD4 via @politicususa    \n",
       "\n",
       "                                        text_clean_1  \\\n",
       "0  trump removes us global initiative develop cor...   \n",
       "1                   lives stake , cooperate others ?   \n",
       "2  ‘ upon virus ’ : china mocks u.s. coronavirus ...   \n",
       "3  trump claims hopes u.s. loses less 100,000 cor...   \n",
       "4  trump spends morning retweeting sex therapist ...   \n",
       "\n",
       "                                        text_clean_2  text_length  \\\n",
       "0  trump removes us global initiative develop cor...           74   \n",
       "1                    lives stake  cooperate others ?           31   \n",
       "2   upon virus ’  china mocks u.s. coronavirus re...           72   \n",
       "3  trump claims hopes u.s. loses less 100000 coro...           53   \n",
       "4  trump spends morning retweeting sex therapist ...           77   \n",
       "\n",
       "                                        text_clean_3  \n",
       "0  trump removes us global initiative develop cor...  \n",
       "1                     lives stake  cooperate others   \n",
       "2   upon virus   china mocks us coronavirus respo...  \n",
       "3  trump claims hopes us loses less 100000 corona...  \n",
       "4  trump spends morning retweeting sex therapist ...  "
      ]
     },
     "execution_count": 296,
     "metadata": {
      "tags": []
     },
     "output_type": "execute_result"
    }
   ],
   "source": [
    "df.head()"
   ]
  },
  {
   "cell_type": "code",
   "execution_count": null,
   "metadata": {
    "id": "G69fjmwqrwg-"
   },
   "outputs": [],
   "source": [
    "X_train, X_test, y_train, y_test = train_test_split(df[['text_clean_3']], df['Label'], test_size=0.2, random_state=1)\n",
    "\n",
    "X_train, X_val, y_train, y_val = train_test_split(X_train, y_train, test_size=0.25, random_state=1) # 0.25 x 0.8 = 0.2"
   ]
  },
  {
   "cell_type": "code",
   "execution_count": null,
   "metadata": {
    "id": "XlYeU54hrwg-"
   },
   "outputs": [],
   "source": [
    "X_train['Label'] = y_train\n",
    "X_val['Label'] = y_val\n",
    "X_test['Label'] = y_test"
   ]
  },
  {
   "cell_type": "code",
   "execution_count": null,
   "metadata": {
    "id": "jh8BCWAYrwg-",
    "outputId": "b9c53658-02f8-4806-89f1-0b7cd3e3c6ba"
   },
   "outputs": [
    {
     "data": {
      "text/plain": [
       "text_clean_3    0\n",
       "Label           0\n",
       "dtype: int64"
      ]
     },
     "execution_count": 299,
     "metadata": {
      "tags": []
     },
     "output_type": "execute_result"
    }
   ],
   "source": [
    "X_train.isna().sum()"
   ]
  },
  {
   "cell_type": "code",
   "execution_count": null,
   "metadata": {
    "id": "6IfEj52Prwg-"
   },
   "outputs": [],
   "source": [
    "X_train.reset_index(drop = True).to_csv('train.csv')\n",
    "X_val.to_csv('valid.csv')\n",
    "X_test.to_csv('test.csv')"
   ]
  },
  {
   "cell_type": "code",
   "execution_count": null,
   "metadata": {
    "id": "p8Lbmb3nrwg-",
    "outputId": "fa5bd5e8-8eea-4035-b6b0-6b422c9ac09c"
   },
   "outputs": [
    {
     "data": {
      "text/html": [
       "<div>\n",
       "<style scoped>\n",
       "    .dataframe tbody tr th:only-of-type {\n",
       "        vertical-align: middle;\n",
       "    }\n",
       "\n",
       "    .dataframe tbody tr th {\n",
       "        vertical-align: top;\n",
       "    }\n",
       "\n",
       "    .dataframe thead th {\n",
       "        text-align: right;\n",
       "    }\n",
       "</style>\n",
       "<table border=\"1\" class=\"dataframe\">\n",
       "  <thead>\n",
       "    <tr style=\"text-align: right;\">\n",
       "      <th></th>\n",
       "      <th>text_clean_3</th>\n",
       "      <th>Label</th>\n",
       "    </tr>\n",
       "  </thead>\n",
       "  <tbody>\n",
       "    <tr>\n",
       "      <th>0</th>\n",
       "      <td>niall mccrae  wet market source coronavirus li...</td>\n",
       "      <td>0</td>\n",
       "    </tr>\n",
       "    <tr>\n",
       "      <th>1</th>\n",
       "      <td>florida judge revokes child custody motherwho ...</td>\n",
       "      <td>0</td>\n",
       "    </tr>\n",
       "    <tr>\n",
       "      <th>2</th>\n",
       "      <td>mcconnell shoots additional coronavirus relief...</td>\n",
       "      <td>1</td>\n",
       "    </tr>\n",
       "    <tr>\n",
       "      <th>3</th>\n",
       "      <td>2 strains virus apparently</td>\n",
       "      <td>0</td>\n",
       "    </tr>\n",
       "    <tr>\n",
       "      <th>4</th>\n",
       "      <td>the serial lies</td>\n",
       "      <td>0</td>\n",
       "    </tr>\n",
       "  </tbody>\n",
       "</table>\n",
       "</div>"
      ],
      "text/plain": [
       "                                        text_clean_3  Label\n",
       "0  niall mccrae  wet market source coronavirus li...      0\n",
       "1  florida judge revokes child custody motherwho ...      0\n",
       "2  mcconnell shoots additional coronavirus relief...      1\n",
       "3                         2 strains virus apparently      0\n",
       "4                                    the serial lies      0"
      ]
     },
     "execution_count": 329,
     "metadata": {
      "tags": []
     },
     "output_type": "execute_result"
    }
   ],
   "source": [
    "pd.read_csv('train.csv').head()"
   ]
  },
  {
   "cell_type": "code",
   "execution_count": 24,
   "metadata": {
    "colab": {
     "base_uri": "https://localhost:8080/"
    },
    "id": "kFHnmclqrwg-",
    "outputId": "15727dfa-427c-4e51-8735-3cf0ab9915bf"
   },
   "outputs": [
    {
     "data": {
      "text/plain": [
       "6916"
      ]
     },
     "execution_count": 24,
     "metadata": {
      "tags": []
     },
     "output_type": "execute_result"
    }
   ],
   "source": [
    "gc.collect()"
   ]
  },
  {
   "cell_type": "code",
   "execution_count": 25,
   "metadata": {
    "id": "YYfqXCUrrwg-"
   },
   "outputs": [],
   "source": [
    "tokenizer = BertTokenizer.from_pretrained('bert-base-uncased')\n",
    "\n",
    "# Model parameter\n",
    "MAX_SEQ_LEN = 128\n",
    "PAD_INDEX = tokenizer.convert_tokens_to_ids(tokenizer.pad_token)\n",
    "UNK_INDEX = tokenizer.convert_tokens_to_ids(tokenizer.unk_token)\n",
    "\n",
    "# Fields\n",
    "\n",
    "label_field = Field(sequential=False, use_vocab=False, batch_first=True, dtype=torch.float)\n",
    "text_field = Field(use_vocab=False, tokenize=tokenizer.encode, lower=False, include_lengths=False, batch_first=True,\n",
    "                   fix_length=MAX_SEQ_LEN, pad_token=PAD_INDEX, unk_token=UNK_INDEX)\n",
    "fields = [('text_clean_3', text_field) ,('Label', label_field)]\n",
    "\n",
    "# TabularDataset\n",
    "\n",
    "train, valid, test = TabularDataset.splits(path='.', train='train.csv', validation='valid.csv',\n",
    "                                           test='test.csv', format='CSV', fields=fields, skip_header=True)\n"
   ]
  },
  {
   "cell_type": "code",
   "execution_count": 25,
   "metadata": {
    "id": "vVDLY6LYrwg-"
   },
   "outputs": [],
   "source": []
  },
  {
   "cell_type": "code",
   "execution_count": 26,
   "metadata": {
    "id": "z_ZdXR0urwg-"
   },
   "outputs": [],
   "source": [
    "# Iterators\n",
    "device = torch.device('cuda')\n",
    "train_iter = BucketIterator(train, batch_size=16, sort_key=lambda x: len(x.text_clean_3),\n",
    "                            device=device, train=True, sort=True, sort_within_batch=True)\n",
    "valid_iter = BucketIterator(valid, batch_size=16, sort_key=lambda x: len(x.text_clean_3),\n",
    "                            device=device, train=True, sort=True, sort_within_batch=True)\n",
    "test_iter = Iterator(test, batch_size=16, device=device, train=False, shuffle=False, sort=False)"
   ]
  },
  {
   "cell_type": "code",
   "execution_count": 26,
   "metadata": {
    "id": "CZUpnpayrwg-"
   },
   "outputs": [],
   "source": []
  },
  {
   "cell_type": "code",
   "execution_count": 27,
   "metadata": {
    "id": "61F93RvOrwg-"
   },
   "outputs": [],
   "source": [
    "class BERT(nn.Module):\n",
    "    def __init__(self):\n",
    "        super(BERT, self).__init__()\n",
    "\n",
    "        options_name = \"bert-base-uncased\"\n",
    "        self.encoder = BertForSequenceClassification.from_pretrained(options_name)\n",
    "\n",
    "    def forward(self, text, label):\n",
    "        loss, text_feat = self.encoder(text, labels=label)[:2]\n",
    "\n",
    "        return loss, text_feat"
   ]
  },
  {
   "cell_type": "code",
   "execution_count": 28,
   "metadata": {
    "id": "1u7g4gkRrwg-"
   },
   "outputs": [],
   "source": [
    "# Save and Load Functions\n",
    "\n",
    "def save_checkpoint(save_path, model, valid_loss):\n",
    "\n",
    "    if save_path == None:\n",
    "        return\n",
    "    \n",
    "    state_dict = {'model_state_dict': model.state_dict(),\n",
    "                  'valid_loss': valid_loss}\n",
    "    \n",
    "    torch.save(state_dict, save_path)\n",
    "    print(f'Model saved to ==> {save_path}')\n",
    "\n",
    "def load_checkpoint(load_path, model):\n",
    "    \n",
    "    if load_path==None:\n",
    "        return\n",
    "    \n",
    "    state_dict = torch.load(load_path, map_location=device)\n",
    "    print(f'Model loaded from <== {load_path}')\n",
    "    \n",
    "    model.load_state_dict(state_dict['model_state_dict'])\n",
    "    return state_dict['valid_loss']\n",
    "\n",
    "\n",
    "def save_metrics(save_path, train_loss_list, valid_loss_list, global_steps_list):\n",
    "\n",
    "    if save_path == None:\n",
    "        return\n",
    "    \n",
    "    state_dict = {'train_loss_list': train_loss_list,\n",
    "                  'valid_loss_list': valid_loss_list,\n",
    "                  'global_steps_list': global_steps_list}\n",
    "    \n",
    "    torch.save(state_dict, save_path)\n",
    "    print(f'Model saved to ==> {save_path}')\n",
    "\n",
    "\n",
    "def load_metrics(load_path):\n",
    "\n",
    "    if load_path==None:\n",
    "        return\n",
    "    \n",
    "    state_dict = torch.load(load_path, map_location=device)\n",
    "    print(f'Model loaded from <== {load_path}')\n",
    "    \n",
    "    return state_dict['train_loss_list'], state_dict['valid_loss_list'], state_dict['global_steps_list']"
   ]
  },
  {
   "cell_type": "code",
   "execution_count": 28,
   "metadata": {
    "id": "Vw0wLCbXrwg-"
   },
   "outputs": [],
   "source": []
  },
  {
   "cell_type": "code",
   "execution_count": 29,
   "metadata": {
    "id": "rGuc-NZRrwg-"
   },
   "outputs": [],
   "source": [
    "# Training Function\n",
    "\n",
    "def train(model,\n",
    "          optimizer,\n",
    "          criterion = nn.BCELoss(),\n",
    "          train_loader = train_iter,\n",
    "          valid_loader = valid_iter,\n",
    "          num_epochs = 5,\n",
    "          eval_every = len(train_iter) // 2,\n",
    "          file_path = '.',\n",
    "          best_valid_loss = float(\"Inf\")):\n",
    "    \n",
    "    # initialize running values\n",
    "    running_loss = 0.0\n",
    "    valid_running_loss = 0.0\n",
    "    global_step = 0\n",
    "    train_loss_list = []\n",
    "    valid_loss_list = []\n",
    "    global_steps_list = []\n",
    "\n",
    "    # training loop\n",
    "    model.train()\n",
    "    for epoch in range(num_epochs):\n",
    "        for (text_clean_3, Label), _ in train_loader:\n",
    "            Label = Label.type(torch.LongTensor)           \n",
    "            Label = Label.to(device)\n",
    "            text_clean_3 = text_clean_3.type(torch.LongTensor)  \n",
    "            text_clean_3 = text_clean_3.to(device)\n",
    "            output = model(text_clean_3,Label)\n",
    "            loss, _ = output\n",
    "\n",
    "            optimizer.zero_grad()\n",
    "            loss.backward()\n",
    "            optimizer.step()\n",
    "\n",
    "            # update running values\n",
    "            running_loss += loss.item()\n",
    "            global_step += 1\n",
    "\n",
    "            # evaluation step\n",
    "            if global_step % eval_every == 0:\n",
    "                model.eval()\n",
    "                with torch.no_grad():                    \n",
    "\n",
    "                    # validation loop\n",
    "                    for (text_clean_3, Label), _ in valid_loader:\n",
    "                        Label = Label.type(torch.LongTensor)           \n",
    "                        Label = Label.to(device)\n",
    "                        text_clean_3 = text_clean_3.type(torch.LongTensor)  \n",
    "                        text_clean_3 = text_clean_3.to(device)\n",
    "                        output = model(text_clean_3,Label)\n",
    "                        loss, _ = output\n",
    "                        \n",
    "                        valid_running_loss += loss.item()\n",
    "\n",
    "                # evaluation\n",
    "                average_train_loss = running_loss / eval_every\n",
    "                average_valid_loss = valid_running_loss / len(valid_loader)\n",
    "                train_loss_list.append(average_train_loss)\n",
    "                valid_loss_list.append(average_valid_loss)\n",
    "                global_steps_list.append(global_step)\n",
    "\n",
    "                # resetting running values\n",
    "                running_loss = 0.0                \n",
    "                valid_running_loss = 0.0\n",
    "                model.train()\n",
    "\n",
    "                # print progress\n",
    "                print('Epoch [{}/{}], Step [{}/{}], Train Loss: {:.4f}, Valid Loss: {:.4f}'\n",
    "                      .format(epoch+1, num_epochs, global_step, num_epochs*len(train_loader),\n",
    "                              average_train_loss, average_valid_loss))\n",
    "                \n",
    "                # checkpoint\n",
    "                if best_valid_loss > average_valid_loss:\n",
    "                    best_valid_loss = average_valid_loss\n",
    "                    save_checkpoint(file_path + '/' + 'model.pt', model, best_valid_loss)\n",
    "                    save_metrics(file_path + '/' + 'metrics.pt', train_loss_list, valid_loss_list, global_steps_list)\n",
    "    \n",
    "    save_metrics(file_path + '/' + 'metrics.pt', train_loss_list, valid_loss_list, global_steps_list)\n",
    "    print('Finished Training!')"
   ]
  },
  {
   "cell_type": "code",
   "execution_count": 10,
   "metadata": {
    "id": "Apm2eS-rrwg-"
   },
   "outputs": [],
   "source": []
  },
  {
   "cell_type": "code",
   "execution_count": 11,
   "metadata": {
    "colab": {
     "base_uri": "https://localhost:8080/"
    },
    "id": "zmjegc9Krwg-",
    "outputId": "010f0625-dadd-4ab0-b3f0-ccb4e5dca810"
   },
   "outputs": [
    {
     "data": {
      "text/plain": [
       "814"
      ]
     },
     "execution_count": 11,
     "metadata": {
      "tags": []
     },
     "output_type": "execute_result"
    }
   ],
   "source": [
    "gc.collect()"
   ]
  },
  {
   "cell_type": "code",
   "execution_count": 12,
   "metadata": {
    "colab": {
     "base_uri": "https://localhost:8080/",
     "height": 824,
     "referenced_widgets": [
      "fc8c240fdd3842388715c86c06f85c08",
      "bb57e2ba63f64b3ca9b763e19e5cb387",
      "e4d457cf7cab4c4d860296814a5a0174",
      "ae6f7630e1cd4a3bbd6178514b7c131c",
      "a7522dc8c5324db4aca6b0761ebfdd4f",
      "c1b77d62890f42ec8a4e8ca75d18eee3",
      "983efdaf849d4bc2a1d67cd39d890fd8",
      "0666a123d2b84e7b806b8807ae6c272a",
      "78afde46b55746af8dece3d651840611",
      "d57c8a0cae124e09beff5e95a5d60c61",
      "48bf8327d4e94c62a1575a2078520e23",
      "c2e572bc52d543a282fb3c44f30cbc37",
      "21e529e657334b15b2f9852794c50d83",
      "0765bf0bd6084da38b61374761bf5c03",
      "17636dc0c5a543bbb3182c442fe618a3",
      "bad0032b3b734e7da5b410f305785b70"
     ]
    },
    "id": "XkqxdUo2rwg-",
    "outputId": "fd169d68-5caa-45c9-ebdd-764000b5841c"
   },
   "outputs": [
    {
     "data": {
      "application/vnd.jupyter.widget-view+json": {
       "model_id": "fc8c240fdd3842388715c86c06f85c08",
       "version_major": 2,
       "version_minor": 0
      },
      "text/plain": [
       "HBox(children=(FloatProgress(value=0.0, description='Downloading', max=433.0, style=ProgressStyle(description_…"
      ]
     },
     "metadata": {
      "tags": []
     },
     "output_type": "display_data"
    },
    {
     "name": "stdout",
     "output_type": "stream",
     "text": [
      "\n"
     ]
    },
    {
     "data": {
      "application/vnd.jupyter.widget-view+json": {
       "model_id": "78afde46b55746af8dece3d651840611",
       "version_major": 2,
       "version_minor": 0
      },
      "text/plain": [
       "HBox(children=(FloatProgress(value=0.0, description='Downloading', max=440473133.0, style=ProgressStyle(descri…"
      ]
     },
     "metadata": {
      "tags": []
     },
     "output_type": "display_data"
    },
    {
     "name": "stdout",
     "output_type": "stream",
     "text": [
      "\n"
     ]
    },
    {
     "name": "stderr",
     "output_type": "stream",
     "text": [
      "Some weights of the model checkpoint at bert-base-uncased were not used when initializing BertForSequenceClassification: ['cls.predictions.bias', 'cls.predictions.transform.dense.weight', 'cls.predictions.transform.dense.bias', 'cls.predictions.decoder.weight', 'cls.seq_relationship.weight', 'cls.seq_relationship.bias', 'cls.predictions.transform.LayerNorm.weight', 'cls.predictions.transform.LayerNorm.bias']\n",
      "- This IS expected if you are initializing BertForSequenceClassification from the checkpoint of a model trained on another task or with another architecture (e.g. initializing a BertForSequenceClassification model from a BertForPreTraining model).\n",
      "- This IS NOT expected if you are initializing BertForSequenceClassification from the checkpoint of a model that you expect to be exactly identical (initializing a BertForSequenceClassification model from a BertForSequenceClassification model).\n",
      "Some weights of BertForSequenceClassification were not initialized from the model checkpoint at bert-base-uncased and are newly initialized: ['classifier.weight', 'classifier.bias']\n",
      "You should probably TRAIN this model on a down-stream task to be able to use it for predictions and inference.\n"
     ]
    },
    {
     "name": "stdout",
     "output_type": "stream",
     "text": [
      "Epoch [1/5], Step [1183/11830], Train Loss: 0.4670, Valid Loss: 0.4316\n",
      "Model saved to ==> ./model.pt\n",
      "Model saved to ==> ./metrics.pt\n",
      "Epoch [1/5], Step [2366/11830], Train Loss: 0.3455, Valid Loss: 0.3956\n",
      "Model saved to ==> ./model.pt\n",
      "Model saved to ==> ./metrics.pt\n",
      "Epoch [2/5], Step [3549/11830], Train Loss: 0.2779, Valid Loss: 0.3815\n",
      "Model saved to ==> ./model.pt\n",
      "Model saved to ==> ./metrics.pt\n",
      "Epoch [2/5], Step [4732/11830], Train Loss: 0.1958, Valid Loss: 0.3338\n",
      "Model saved to ==> ./model.pt\n",
      "Model saved to ==> ./metrics.pt\n",
      "Epoch [3/5], Step [5915/11830], Train Loss: 0.1731, Valid Loss: 0.3807\n",
      "Epoch [3/5], Step [7098/11830], Train Loss: 0.1121, Valid Loss: 0.3782\n",
      "Epoch [4/5], Step [8281/11830], Train Loss: 0.1130, Valid Loss: 0.3783\n",
      "Epoch [4/5], Step [9464/11830], Train Loss: 0.0755, Valid Loss: 0.4092\n",
      "Epoch [5/5], Step [10647/11830], Train Loss: 0.0773, Valid Loss: 0.4172\n"
     ]
    },
    {
     "ename": "KeyboardInterrupt",
     "evalue": "ignored",
     "output_type": "error",
     "traceback": [
      "\u001b[0;31m---------------------------------------------------------------------------\u001b[0m",
      "\u001b[0;31mKeyboardInterrupt\u001b[0m                         Traceback (most recent call last)",
      "\u001b[0;32m<ipython-input-12-e4474bff9c36>\u001b[0m in \u001b[0;36m<module>\u001b[0;34m()\u001b[0m\n\u001b[1;32m      2\u001b[0m \u001b[0moptimizer\u001b[0m \u001b[0;34m=\u001b[0m \u001b[0moptim\u001b[0m\u001b[0;34m.\u001b[0m\u001b[0mAdam\u001b[0m\u001b[0;34m(\u001b[0m\u001b[0mmodel\u001b[0m\u001b[0;34m.\u001b[0m\u001b[0mparameters\u001b[0m\u001b[0;34m(\u001b[0m\u001b[0;34m)\u001b[0m\u001b[0;34m,\u001b[0m \u001b[0mlr\u001b[0m\u001b[0;34m=\u001b[0m\u001b[0;36m2e-5\u001b[0m\u001b[0;34m)\u001b[0m\u001b[0;34m\u001b[0m\u001b[0;34m\u001b[0m\u001b[0m\n\u001b[1;32m      3\u001b[0m \u001b[0;34m\u001b[0m\u001b[0m\n\u001b[0;32m----> 4\u001b[0;31m \u001b[0mtrain\u001b[0m\u001b[0;34m(\u001b[0m\u001b[0mmodel\u001b[0m\u001b[0;34m=\u001b[0m\u001b[0mmodel\u001b[0m\u001b[0;34m,\u001b[0m \u001b[0moptimizer\u001b[0m\u001b[0;34m=\u001b[0m\u001b[0moptimizer\u001b[0m\u001b[0;34m)\u001b[0m\u001b[0;34m\u001b[0m\u001b[0;34m\u001b[0m\u001b[0m\n\u001b[0m",
      "\u001b[0;32m<ipython-input-10-d296673ca158>\u001b[0m in \u001b[0;36mtrain\u001b[0;34m(model, optimizer, criterion, train_loader, valid_loader, num_epochs, eval_every, file_path, best_valid_loss)\u001b[0m\n\u001b[1;32m     31\u001b[0m \u001b[0;34m\u001b[0m\u001b[0m\n\u001b[1;32m     32\u001b[0m             \u001b[0moptimizer\u001b[0m\u001b[0;34m.\u001b[0m\u001b[0mzero_grad\u001b[0m\u001b[0;34m(\u001b[0m\u001b[0;34m)\u001b[0m\u001b[0;34m\u001b[0m\u001b[0;34m\u001b[0m\u001b[0m\n\u001b[0;32m---> 33\u001b[0;31m             \u001b[0mloss\u001b[0m\u001b[0;34m.\u001b[0m\u001b[0mbackward\u001b[0m\u001b[0;34m(\u001b[0m\u001b[0;34m)\u001b[0m\u001b[0;34m\u001b[0m\u001b[0;34m\u001b[0m\u001b[0m\n\u001b[0m\u001b[1;32m     34\u001b[0m             \u001b[0moptimizer\u001b[0m\u001b[0;34m.\u001b[0m\u001b[0mstep\u001b[0m\u001b[0;34m(\u001b[0m\u001b[0;34m)\u001b[0m\u001b[0;34m\u001b[0m\u001b[0;34m\u001b[0m\u001b[0m\n\u001b[1;32m     35\u001b[0m \u001b[0;34m\u001b[0m\u001b[0m\n",
      "\u001b[0;32m/usr/local/lib/python3.6/dist-packages/torch/tensor.py\u001b[0m in \u001b[0;36mbackward\u001b[0;34m(self, gradient, retain_graph, create_graph)\u001b[0m\n\u001b[1;32m    219\u001b[0m                 \u001b[0mretain_graph\u001b[0m\u001b[0;34m=\u001b[0m\u001b[0mretain_graph\u001b[0m\u001b[0;34m,\u001b[0m\u001b[0;34m\u001b[0m\u001b[0;34m\u001b[0m\u001b[0m\n\u001b[1;32m    220\u001b[0m                 create_graph=create_graph)\n\u001b[0;32m--> 221\u001b[0;31m         \u001b[0mtorch\u001b[0m\u001b[0;34m.\u001b[0m\u001b[0mautograd\u001b[0m\u001b[0;34m.\u001b[0m\u001b[0mbackward\u001b[0m\u001b[0;34m(\u001b[0m\u001b[0mself\u001b[0m\u001b[0;34m,\u001b[0m \u001b[0mgradient\u001b[0m\u001b[0;34m,\u001b[0m \u001b[0mretain_graph\u001b[0m\u001b[0;34m,\u001b[0m \u001b[0mcreate_graph\u001b[0m\u001b[0;34m)\u001b[0m\u001b[0;34m\u001b[0m\u001b[0;34m\u001b[0m\u001b[0m\n\u001b[0m\u001b[1;32m    222\u001b[0m \u001b[0;34m\u001b[0m\u001b[0m\n\u001b[1;32m    223\u001b[0m     \u001b[0;32mdef\u001b[0m \u001b[0mregister_hook\u001b[0m\u001b[0;34m(\u001b[0m\u001b[0mself\u001b[0m\u001b[0;34m,\u001b[0m \u001b[0mhook\u001b[0m\u001b[0;34m)\u001b[0m\u001b[0;34m:\u001b[0m\u001b[0;34m\u001b[0m\u001b[0;34m\u001b[0m\u001b[0m\n",
      "\u001b[0;32m/usr/local/lib/python3.6/dist-packages/torch/autograd/__init__.py\u001b[0m in \u001b[0;36mbackward\u001b[0;34m(tensors, grad_tensors, retain_graph, create_graph, grad_variables)\u001b[0m\n\u001b[1;32m    130\u001b[0m     Variable._execution_engine.run_backward(\n\u001b[1;32m    131\u001b[0m         \u001b[0mtensors\u001b[0m\u001b[0;34m,\u001b[0m \u001b[0mgrad_tensors_\u001b[0m\u001b[0;34m,\u001b[0m \u001b[0mretain_graph\u001b[0m\u001b[0;34m,\u001b[0m \u001b[0mcreate_graph\u001b[0m\u001b[0;34m,\u001b[0m\u001b[0;34m\u001b[0m\u001b[0;34m\u001b[0m\u001b[0m\n\u001b[0;32m--> 132\u001b[0;31m         allow_unreachable=True)  # allow_unreachable flag\n\u001b[0m\u001b[1;32m    133\u001b[0m \u001b[0;34m\u001b[0m\u001b[0m\n\u001b[1;32m    134\u001b[0m \u001b[0;34m\u001b[0m\u001b[0m\n",
      "\u001b[0;31mKeyboardInterrupt\u001b[0m: "
     ]
    }
   ],
   "source": [
    "model = BERT().to(device)\n",
    "optimizer = optim.Adam(model.parameters(), lr=2e-5)\n",
    "\n",
    "train(model=model, optimizer=optimizer)\n"
   ]
  },
  {
   "cell_type": "code",
   "execution_count": 21,
   "metadata": {
    "id": "qybxEPa5_97N"
   },
   "outputs": [],
   "source": [
    "import matplotlib.pyplot as plt\n",
    "import seaborn as sns"
   ]
  },
  {
   "cell_type": "code",
   "execution_count": 16,
   "metadata": {
    "colab": {
     "base_uri": "https://localhost:8080/",
     "height": 296
    },
    "id": "lglYHGhstrbf",
    "outputId": "e8e2e9c2-51ce-4d12-b3fa-2b2401a98cb3"
   },
   "outputs": [
    {
     "name": "stdout",
     "output_type": "stream",
     "text": [
      "Model loaded from <== ./metrics.pt\n"
     ]
    },
    {
     "data": {
      "image/png": "[encoded data removed]",
      "text/plain": [
       "<Figure size 432x288 with 1 Axes>"
      ]
     },
     "metadata": {
      "needs_background": "light",
      "tags": []
     },
     "output_type": "display_data"
    }
   ],
   "source": [
    "train_loss_list, valid_loss_list, global_steps_list = load_metrics('.' + '/metrics.pt')\n",
    "plt.plot(global_steps_list, train_loss_list, label='Train')\n",
    "plt.plot(global_steps_list, valid_loss_list, label='Valid')\n",
    "plt.xlabel('Global Steps')\n",
    "plt.ylabel('Loss')\n",
    "plt.legend()\n",
    "plt.show() "
   ]
  },
  {
   "cell_type": "code",
   "execution_count": 22,
   "metadata": {
    "id": "oEl9-yzwtv_M"
   },
   "outputs": [],
   "source": [
    "# Evaluation Function\n",
    "\n",
    "def evaluate(model, test_loader):\n",
    "    y_pred = []\n",
    "    y_true = []\n",
    "\n",
    "    model.eval()\n",
    "    with torch.no_grad():\n",
    "        for (text_clean_3, Label), _ in test_loader:\n",
    "\n",
    "                Label = Label.type(torch.LongTensor)           \n",
    "                Label = Label.to(device)\n",
    "                text_clean_3 = text_clean_3.type(torch.LongTensor)  \n",
    "                text_clean_3 = text_clean_3.to(device)\n",
    "                output = model(text_clean_3, Label)\n",
    "\n",
    "                _, output = output\n",
    "                y_pred.extend(torch.argmax(output, 1).tolist())\n",
    "                y_true.extend(Label.tolist())\n",
    "    \n",
    "    print('Classification Report:')\n",
    "    print(classification_report(y_true, y_pred, labels=[1,0], digits=4))\n",
    "    \n",
    "    cm = confusion_matrix(y_true, y_pred, labels=[1,0])\n",
    "    ax= plt.subplot()\n",
    "    sns.heatmap(cm, annot=True, ax = ax, cmap='Blues', fmt=\"d\")\n",
    "\n",
    "    ax.set_title('Confusion Matrix')\n",
    "\n",
    "    ax.set_xlabel('Predicted Labels')\n",
    "    ax.set_ylabel('True Labels')\n",
    "\n",
    "    ax.xaxis.set_ticklabels(['Clickbait', 'Not Clickbait'])\n",
    "    ax.yaxis.set_ticklabels(['Clickbait', 'Not Clickbait'])"
   ]
  },
  {
   "cell_type": "code",
   "execution_count": 30,
   "metadata": {
    "colab": {
     "base_uri": "https://localhost:8080/",
     "height": 584
    },
    "id": "iYYDTFnztwTT",
    "outputId": "cdaca02f-6d86-4747-9370-b37154660a76"
   },
   "outputs": [
    {
     "name": "stderr",
     "output_type": "stream",
     "text": [
      "Some weights of the model checkpoint at bert-base-uncased were not used when initializing BertForSequenceClassification: ['cls.predictions.bias', 'cls.predictions.transform.dense.weight', 'cls.predictions.transform.dense.bias', 'cls.predictions.decoder.weight', 'cls.seq_relationship.weight', 'cls.seq_relationship.bias', 'cls.predictions.transform.LayerNorm.weight', 'cls.predictions.transform.LayerNorm.bias']\n",
      "- This IS expected if you are initializing BertForSequenceClassification from the checkpoint of a model trained on another task or with another architecture (e.g. initializing a BertForSequenceClassification model from a BertForPreTraining model).\n",
      "- This IS NOT expected if you are initializing BertForSequenceClassification from the checkpoint of a model that you expect to be exactly identical (initializing a BertForSequenceClassification model from a BertForSequenceClassification model).\n",
      "Some weights of BertForSequenceClassification were not initialized from the model checkpoint at bert-base-uncased and are newly initialized: ['classifier.weight', 'classifier.bias']\n",
      "You should probably TRAIN this model on a down-stream task to be able to use it for predictions and inference.\n"
     ]
    },
    {
     "name": "stdout",
     "output_type": "stream",
     "text": [
      "Model loaded from <== ./model.pt\n",
      "Classification Report:\n",
      "              precision    recall  f1-score   support\n",
      "\n",
      "           1     0.9000    0.8473    0.8729      6170\n",
      "           0     0.8616    0.9099    0.8851      6445\n",
      "\n",
      "    accuracy                         0.8793     12615\n",
      "   macro avg     0.8808    0.8786    0.8790     12615\n",
      "weighted avg     0.8804    0.8793    0.8791     12615\n",
      "\n"
     ]
    },
    {
     "data": {
      "image/png": "[encoded data removed]",
      "text/plain": [
       "<Figure size 432x288 with 2 Axes>"
      ]
     },
     "metadata": {
      "needs_background": "light",
      "tags": []
     },
     "output_type": "display_data"
    }
   ],
   "source": [
    "best_model = BERT().to(device)\n",
    "\n",
    "load_checkpoint('.' + '/model.pt', best_model)\n",
    "\n",
    "evaluate(best_model, test_iter)"
   ]
  },
  {
   "cell_type": "code",
   "execution_count": null,
   "metadata": {
    "id": "1nYx2v8wtwqj"
   },
   "outputs": [],
   "source": []
  },
  {
   "cell_type": "code",
   "execution_count": null,
   "metadata": {
    "id": "x8ZzBMTKrwg-",
    "outputId": "5b80627c-2aa9-43ae-99a7-f58cf952ab00"
   },
   "outputs": [
    {
     "data": {
      "text/html": [
       "<div>\n",
       "<style scoped>\n",
       "    .dataframe tbody tr th:only-of-type {\n",
       "        vertical-align: middle;\n",
       "    }\n",
       "\n",
       "    .dataframe tbody tr th {\n",
       "        vertical-align: top;\n",
       "    }\n",
       "\n",
       "    .dataframe thead th {\n",
       "        text-align: right;\n",
       "    }\n",
       "</style>\n",
       "<table border=\"1\" class=\"dataframe\">\n",
       "  <thead>\n",
       "    <tr style=\"text-align: right;\">\n",
       "      <th></th>\n",
       "      <th>text_clean_3</th>\n",
       "      <th>Label</th>\n",
       "    </tr>\n",
       "  </thead>\n",
       "  <tbody>\n",
       "    <tr>\n",
       "      <th>7591</th>\n",
       "      <td></td>\n",
       "      <td>0</td>\n",
       "    </tr>\n",
       "    <tr>\n",
       "      <th>63197</th>\n",
       "      <td></td>\n",
       "      <td>0</td>\n",
       "    </tr>\n",
       "    <tr>\n",
       "      <th>31745</th>\n",
       "      <td></td>\n",
       "      <td>0</td>\n",
       "    </tr>\n",
       "    <tr>\n",
       "      <th>18165</th>\n",
       "      <td>snapchat teen vog...</td>\n",
       "      <td>0</td>\n",
       "    </tr>\n",
       "    <tr>\n",
       "      <th>56407</th>\n",
       "      <td>dems demand trump stop building borde...</td>\n",
       "      <td>0</td>\n",
       "    </tr>\n",
       "  </tbody>\n",
       "</table>\n",
       "</div>"
      ],
      "text/plain": [
       "                                            text_clean_3  Label\n",
       "7591                                                          0\n",
       "63197                                                         0\n",
       "31745                                                         0\n",
       "18165                               snapchat teen vog...      0\n",
       "56407           dems demand trump stop building borde...      0"
      ]
     },
     "execution_count": 271,
     "metadata": {
      "tags": []
     },
     "output_type": "execute_result"
    }
   ],
   "source": [
    "X_train.sort_values('text_clean_3').head()"
   ]
  },
  {
   "cell_type": "code",
   "execution_count": null,
   "metadata": {
    "id": "vSBcipqkrwg_",
    "outputId": "3dae14d7-8163-4430-b073-5e597d42f1fd"
   },
   "outputs": [
    {
     "data": {
      "text/html": [
       "<div>\n",
       "<style scoped>\n",
       "    .dataframe tbody tr th:only-of-type {\n",
       "        vertical-align: middle;\n",
       "    }\n",
       "\n",
       "    .dataframe tbody tr th {\n",
       "        vertical-align: top;\n",
       "    }\n",
       "\n",
       "    .dataframe thead th {\n",
       "        text-align: right;\n",
       "    }\n",
       "</style>\n",
       "<table border=\"1\" class=\"dataframe\">\n",
       "  <thead>\n",
       "    <tr style=\"text-align: right;\">\n",
       "      <th></th>\n",
       "      <th>text_clean_3</th>\n",
       "      <th>Label</th>\n",
       "    </tr>\n",
       "  </thead>\n",
       "  <tbody>\n",
       "    <tr>\n",
       "      <th>196</th>\n",
       "      <td>hannity freaks holding trump accountable coron...</td>\n",
       "      <td>1</td>\n",
       "    </tr>\n",
       "    <tr>\n",
       "      <th>258</th>\n",
       "      <td>hannity freaks holding trump accountable coron...</td>\n",
       "      <td>1</td>\n",
       "    </tr>\n",
       "    <tr>\n",
       "      <th>241</th>\n",
       "      <td>hannity freaks holding trump accountable coron...</td>\n",
       "      <td>1</td>\n",
       "    </tr>\n",
       "  </tbody>\n",
       "</table>\n",
       "</div>"
      ],
      "text/plain": [
       "                                          text_clean_3  Label\n",
       "196  hannity freaks holding trump accountable coron...      1\n",
       "258  hannity freaks holding trump accountable coron...      1\n",
       "241  hannity freaks holding trump accountable coron...      1"
      ]
     },
     "execution_count": 307,
     "metadata": {
      "tags": []
     },
     "output_type": "execute_result"
    }
   ],
   "source": [
    "X_train.loc[X_train['text_clean_3'] == 'hannity freaks holding trump accountable coronavirus death toll']"
   ]
  },
  {
   "cell_type": "code",
   "execution_count": null,
   "metadata": {
    "id": "mZdic4Ffrwg_",
    "outputId": "f09a293e-c7a6-4673-a63e-58350fd7eec4"
   },
   "outputs": [
    {
     "data": {
      "text/plain": [
       "'1.3.1'"
      ]
     },
     "execution_count": 367,
     "metadata": {
      "tags": []
     },
     "output_type": "execute_result"
    }
   ],
   "source": []
  },
  {
   "cell_type": "code",
   "execution_count": null,
   "metadata": {
    "id": "oBK33958rwg_"
   },
   "outputs": [],
   "source": []
  },
  {
   "cell_type": "code",
   "execution_count": null,
   "metadata": {},
   "outputs": [],
   "source": [
    "# Your code starts here\n",
    "print(\"clickbait examples were mistakenly predicted as NotClickbait\\n\")\n",
    "err_cnt = 0\n",
    "for i in range(0, len(y_test)):\n",
    "    if(y_test[i]=='clickbait' and y_pred[i]=='Notclickbait'):\n",
    "        print(X_test[i])\n",
    "        err_cnt = err_cnt+1\n",
    "print(\"\\nerrors:\", err_cnt)\n",
    "\n",
    "print(\"\\nNotClickbait examples were mistakenly predicted as Clickbait\\n\")\n",
    "err_cnt = 0\n",
    "for i in range(0, len(y_test)):\n",
    "    if(y_test[i]=='Notclickbait' and y_pred[i]=='clickbait'):\n",
    "        print(X_test[i])\n",
    "        err_cnt = err_cnt+1\n",
    "print(\"\\nerrors:\", err_cnt)"
   ]
  }
 ],
 "metadata": {
  "accelerator": "GPU",
  "colab": {
   "collapsed_sections": [],
   "name": "DeepLearning.ipynb",
   "provenance": [],
   "toc_visible": true
  },
  "kernelspec": {
   "display_name": "Python 3",
   "language": "python",
   "name": "python3"
  },
  "language_info": {
   "codemirror_mode": {
    "name": "ipython",
    "version": 3
   },
   "file_extension": ".py",
   "mimetype": "text/x-python",
   "name": "python",
   "nbconvert_exporter": "python",
   "pygments_lexer": "ipython3",
   "version": "3.7.6"
  },
  "widgets": {
   "application/vnd.jupyter.widget-state+json": {
    "0666a123d2b84e7b806b8807ae6c272a": {
     "model_module": "@jupyter-widgets/base",
     "model_name": "LayoutModel",
     "state": {
      "_model_module": "@jupyter-widgets/base",
      "_model_module_version": "1.2.0",
      "_model_name": "LayoutModel",
      "_view_count": null,
      "_view_module": "@jupyter-widgets/base",
      "_view_module_version": "1.2.0",
      "_view_name": "LayoutView",
      "align_content": null,
      "align_items": null,
      "align_self": null,
      "border": null,
      "bottom": null,
      "display": null,
      "flex": null,
      "flex_flow": null,
      "grid_area": null,
      "grid_auto_columns": null,
      "grid_auto_flow": null,
      "grid_auto_rows": null,
      "grid_column": null,
      "grid_gap": null,
      "grid_row": null,
      "grid_template_areas": null,
      "grid_template_columns": null,
      "grid_template_rows": null,
      "height": null,
      "justify_content": null,
      "justify_items": null,
      "left": null,
      "margin": null,
      "max_height": null,
      "max_width": null,
      "min_height": null,
      "min_width": null,
      "object_fit": null,
      "object_position": null,
      "order": null,
      "overflow": null,
      "overflow_x": null,
      "overflow_y": null,
      "padding": null,
      "right": null,
      "top": null,
      "visibility": null,
      "width": null
     }
    },
    "0765bf0bd6084da38b61374761bf5c03": {
     "model_module": "@jupyter-widgets/base",
     "model_name": "LayoutModel",
     "state": {
      "_model_module": "@jupyter-widgets/base",
      "_model_module_version": "1.2.0",
      "_model_name": "LayoutModel",
      "_view_count": null,
      "_view_module": "@jupyter-widgets/base",
      "_view_module_version": "1.2.0",
      "_view_name": "LayoutView",
      "align_content": null,
      "align_items": null,
      "align_self": null,
      "border": null,
      "bottom": null,
      "display": null,
      "flex": null,
      "flex_flow": null,
      "grid_area": null,
      "grid_auto_columns": null,
      "grid_auto_flow": null,
      "grid_auto_rows": null,
      "grid_column": null,
      "grid_gap": null,
      "grid_row": null,
      "grid_template_areas": null,
      "grid_template_columns": null,
      "grid_template_rows": null,
      "height": null,
      "justify_content": null,
      "justify_items": null,
      "left": null,
      "margin": null,
      "max_height": null,
      "max_width": null,
      "min_height": null,
      "min_width": null,
      "object_fit": null,
      "object_position": null,
      "order": null,
      "overflow": null,
      "overflow_x": null,
      "overflow_y": null,
      "padding": null,
      "right": null,
      "top": null,
      "visibility": null,
      "width": null
     }
    },
    "17636dc0c5a543bbb3182c442fe618a3": {
     "model_module": "@jupyter-widgets/controls",
     "model_name": "DescriptionStyleModel",
     "state": {
      "_model_module": "@jupyter-widgets/controls",
      "_model_module_version": "1.5.0",
      "_model_name": "DescriptionStyleModel",
      "_view_count": null,
      "_view_module": "@jupyter-widgets/base",
      "_view_module_version": "1.2.0",
      "_view_name": "StyleView",
      "description_width": ""
     }
    },
    "21e529e657334b15b2f9852794c50d83": {
     "model_module": "@jupyter-widgets/controls",
     "model_name": "ProgressStyleModel",
     "state": {
      "_model_module": "@jupyter-widgets/controls",
      "_model_module_version": "1.5.0",
      "_model_name": "ProgressStyleModel",
      "_view_count": null,
      "_view_module": "@jupyter-widgets/base",
      "_view_module_version": "1.2.0",
      "_view_name": "StyleView",
      "bar_color": null,
      "description_width": "initial"
     }
    },
    "48bf8327d4e94c62a1575a2078520e23": {
     "model_module": "@jupyter-widgets/controls",
     "model_name": "FloatProgressModel",
     "state": {
      "_dom_classes": [],
      "_model_module": "@jupyter-widgets/controls",
      "_model_module_version": "1.5.0",
      "_model_name": "FloatProgressModel",
      "_view_count": null,
      "_view_module": "@jupyter-widgets/controls",
      "_view_module_version": "1.5.0",
      "_view_name": "ProgressView",
      "bar_style": "success",
      "description": "Downloading: 100%",
      "description_tooltip": null,
      "layout": "IPY_MODEL_0765bf0bd6084da38b61374761bf5c03",
      "max": 440473133,
      "min": 0,
      "orientation": "horizontal",
      "style": "IPY_MODEL_21e529e657334b15b2f9852794c50d83",
      "value": 440473133
     }
    },
    "78afde46b55746af8dece3d651840611": {
     "model_module": "@jupyter-widgets/controls",
     "model_name": "HBoxModel",
     "state": {
      "_dom_classes": [],
      "_model_module": "@jupyter-widgets/controls",
      "_model_module_version": "1.5.0",
      "_model_name": "HBoxModel",
      "_view_count": null,
      "_view_module": "@jupyter-widgets/controls",
      "_view_module_version": "1.5.0",
      "_view_name": "HBoxView",
      "box_style": "",
      "children": [
       "IPY_MODEL_48bf8327d4e94c62a1575a2078520e23",
       "IPY_MODEL_c2e572bc52d543a282fb3c44f30cbc37"
      ],
      "layout": "IPY_MODEL_d57c8a0cae124e09beff5e95a5d60c61"
     }
    },
    "983efdaf849d4bc2a1d67cd39d890fd8": {
     "model_module": "@jupyter-widgets/controls",
     "model_name": "DescriptionStyleModel",
     "state": {
      "_model_module": "@jupyter-widgets/controls",
      "_model_module_version": "1.5.0",
      "_model_name": "DescriptionStyleModel",
      "_view_count": null,
      "_view_module": "@jupyter-widgets/base",
      "_view_module_version": "1.2.0",
      "_view_name": "StyleView",
      "description_width": ""
     }
    },
    "a7522dc8c5324db4aca6b0761ebfdd4f": {
     "model_module": "@jupyter-widgets/controls",
     "model_name": "ProgressStyleModel",
     "state": {
      "_model_module": "@jupyter-widgets/controls",
      "_model_module_version": "1.5.0",
      "_model_name": "ProgressStyleModel",
      "_view_count": null,
      "_view_module": "@jupyter-widgets/base",
      "_view_module_version": "1.2.0",
      "_view_name": "StyleView",
      "bar_color": null,
      "description_width": "initial"
     }
    },
    "ae6f7630e1cd4a3bbd6178514b7c131c": {
     "model_module": "@jupyter-widgets/controls",
     "model_name": "HTMLModel",
     "state": {
      "_dom_classes": [],
      "_model_module": "@jupyter-widgets/controls",
      "_model_module_version": "1.5.0",
      "_model_name": "HTMLModel",
      "_view_count": null,
      "_view_module": "@jupyter-widgets/controls",
      "_view_module_version": "1.5.0",
      "_view_name": "HTMLView",
      "description": "",
      "description_tooltip": null,
      "layout": "IPY_MODEL_0666a123d2b84e7b806b8807ae6c272a",
      "placeholder": "​",
      "style": "IPY_MODEL_983efdaf849d4bc2a1d67cd39d890fd8",
      "value": " 433/433 [06:25&lt;00:00, 1.12B/s]"
     }
    },
    "bad0032b3b734e7da5b410f305785b70": {
     "model_module": "@jupyter-widgets/base",
     "model_name": "LayoutModel",
     "state": {
      "_model_module": "@jupyter-widgets/base",
      "_model_module_version": "1.2.0",
      "_model_name": "LayoutModel",
      "_view_count": null,
      "_view_module": "@jupyter-widgets/base",
      "_view_module_version": "1.2.0",
      "_view_name": "LayoutView",
      "align_content": null,
      "align_items": null,
      "align_self": null,
      "border": null,
      "bottom": null,
      "display": null,
      "flex": null,
      "flex_flow": null,
      "grid_area": null,
      "grid_auto_columns": null,
      "grid_auto_flow": null,
      "grid_auto_rows": null,
      "grid_column": null,
      "grid_gap": null,
      "grid_row": null,
      "grid_template_areas": null,
      "grid_template_columns": null,
      "grid_template_rows": null,
      "height": null,
      "justify_content": null,
      "justify_items": null,
      "left": null,
      "margin": null,
      "max_height": null,
      "max_width": null,
      "min_height": null,
      "min_width": null,
      "object_fit": null,
      "object_position": null,
      "order": null,
      "overflow": null,
      "overflow_x": null,
      "overflow_y": null,
      "padding": null,
      "right": null,
      "top": null,
      "visibility": null,
      "width": null
     }
    },
    "bb57e2ba63f64b3ca9b763e19e5cb387": {
     "model_module": "@jupyter-widgets/base",
     "model_name": "LayoutModel",
     "state": {
      "_model_module": "@jupyter-widgets/base",
      "_model_module_version": "1.2.0",
      "_model_name": "LayoutModel",
      "_view_count": null,
      "_view_module": "@jupyter-widgets/base",
      "_view_module_version": "1.2.0",
      "_view_name": "LayoutView",
      "align_content": null,
      "align_items": null,
      "align_self": null,
      "border": null,
      "bottom": null,
      "display": null,
      "flex": null,
      "flex_flow": null,
      "grid_area": null,
      "grid_auto_columns": null,
      "grid_auto_flow": null,
      "grid_auto_rows": null,
      "grid_column": null,
      "grid_gap": null,
      "grid_row": null,
      "grid_template_areas": null,
      "grid_template_columns": null,
      "grid_template_rows": null,
      "height": null,
      "justify_content": null,
      "justify_items": null,
      "left": null,
      "margin": null,
      "max_height": null,
      "max_width": null,
      "min_height": null,
      "min_width": null,
      "object_fit": null,
      "object_position": null,
      "order": null,
      "overflow": null,
      "overflow_x": null,
      "overflow_y": null,
      "padding": null,
      "right": null,
      "top": null,
      "visibility": null,
      "width": null
     }
    },
    "c1b77d62890f42ec8a4e8ca75d18eee3": {
     "model_module": "@jupyter-widgets/base",
     "model_name": "LayoutModel",
     "state": {
      "_model_module": "@jupyter-widgets/base",
      "_model_module_version": "1.2.0",
      "_model_name": "LayoutModel",
      "_view_count": null,
      "_view_module": "@jupyter-widgets/base",
      "_view_module_version": "1.2.0",
      "_view_name": "LayoutView",
      "align_content": null,
      "align_items": null,
      "align_self": null,
      "border": null,
      "bottom": null,
      "display": null,
      "flex": null,
      "flex_flow": null,
      "grid_area": null,
      "grid_auto_columns": null,
      "grid_auto_flow": null,
      "grid_auto_rows": null,
      "grid_column": null,
      "grid_gap": null,
      "grid_row": null,
      "grid_template_areas": null,
      "grid_template_columns": null,
      "grid_template_rows": null,
      "height": null,
      "justify_content": null,
      "justify_items": null,
      "left": null,
      "margin": null,
      "max_height": null,
      "max_width": null,
      "min_height": null,
      "min_width": null,
      "object_fit": null,
      "object_position": null,
      "order": null,
      "overflow": null,
      "overflow_x": null,
      "overflow_y": null,
      "padding": null,
      "right": null,
      "top": null,
      "visibility": null,
      "width": null
     }
    },
    "c2e572bc52d543a282fb3c44f30cbc37": {
     "model_module": "@jupyter-widgets/controls",
     "model_name": "HTMLModel",
     "state": {
      "_dom_classes": [],
      "_model_module": "@jupyter-widgets/controls",
      "_model_module_version": "1.5.0",
      "_model_name": "HTMLModel",
      "_view_count": null,
      "_view_module": "@jupyter-widgets/controls",
      "_view_module_version": "1.5.0",
      "_view_name": "HTMLView",
      "description": "",
      "description_tooltip": null,
      "layout": "IPY_MODEL_bad0032b3b734e7da5b410f305785b70",
      "placeholder": "​",
      "style": "IPY_MODEL_17636dc0c5a543bbb3182c442fe618a3",
      "value": " 440M/440M [00:05&lt;00:00, 75.7MB/s]"
     }
    },
    "d57c8a0cae124e09beff5e95a5d60c61": {
     "model_module": "@jupyter-widgets/base",
     "model_name": "LayoutModel",
     "state": {
      "_model_module": "@jupyter-widgets/base",
      "_model_module_version": "1.2.0",
      "_model_name": "LayoutModel",
      "_view_count": null,
      "_view_module": "@jupyter-widgets/base",
      "_view_module_version": "1.2.0",
      "_view_name": "LayoutView",
      "align_content": null,
      "align_items": null,
      "align_self": null,
      "border": null,
      "bottom": null,
      "display": null,
      "flex": null,
      "flex_flow": null,
      "grid_area": null,
      "grid_auto_columns": null,
      "grid_auto_flow": null,
      "grid_auto_rows": null,
      "grid_column": null,
      "grid_gap": null,
      "grid_row": null,
      "grid_template_areas": null,
      "grid_template_columns": null,
      "grid_template_rows": null,
      "height": null,
      "justify_content": null,
      "justify_items": null,
      "left": null,
      "margin": null,
      "max_height": null,
      "max_width": null,
      "min_height": null,
      "min_width": null,
      "object_fit": null,
      "object_position": null,
      "order": null,
      "overflow": null,
      "overflow_x": null,
      "overflow_y": null,
      "padding": null,
      "right": null,
      "top": null,
      "visibility": null,
      "width": null
     }
    },
    "e4d457cf7cab4c4d860296814a5a0174": {
     "model_module": "@jupyter-widgets/controls",
     "model_name": "FloatProgressModel",
     "state": {
      "_dom_classes": [],
      "_model_module": "@jupyter-widgets/controls",
      "_model_module_version": "1.5.0",
      "_model_name": "FloatProgressModel",
      "_view_count": null,
      "_view_module": "@jupyter-widgets/controls",
      "_view_module_version": "1.5.0",
      "_view_name": "ProgressView",
      "bar_style": "success",
      "description": "Downloading: 100%",
      "description_tooltip": null,
      "layout": "IPY_MODEL_c1b77d62890f42ec8a4e8ca75d18eee3",
      "max": 433,
      "min": 0,
      "orientation": "horizontal",
      "style": "IPY_MODEL_a7522dc8c5324db4aca6b0761ebfdd4f",
      "value": 433
     }
    },
    "fc8c240fdd3842388715c86c06f85c08": {
     "model_module": "@jupyter-widgets/controls",
     "model_name": "HBoxModel",
     "state": {
      "_dom_classes": [],
      "_model_module": "@jupyter-widgets/controls",
      "_model_module_version": "1.5.0",
      "_model_name": "HBoxModel",
      "_view_count": null,
      "_view_module": "@jupyter-widgets/controls",
      "_view_module_version": "1.5.0",
      "_view_name": "HBoxView",
      "box_style": "",
      "children": [
       "IPY_MODEL_e4d457cf7cab4c4d860296814a5a0174",
       "IPY_MODEL_ae6f7630e1cd4a3bbd6178514b7c131c"
      ],
      "layout": "IPY_MODEL_bb57e2ba63f64b3ca9b763e19e5cb387"
     }
    }
   }
  }
 },
 "nbformat": 4,
 "nbformat_minor": 4
}
